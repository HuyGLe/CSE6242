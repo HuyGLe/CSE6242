{
 "cells": [
  {
   "cell_type": "code",
   "execution_count": 1,
   "id": "e31c8562",
   "metadata": {},
   "outputs": [],
   "source": [
    "import numpy as np\n",
    "import pandas as pd"
   ]
  },
  {
   "cell_type": "markdown",
   "id": "79fea296",
   "metadata": {},
   "source": [
    "Here I extract the relevant columns and convert zip to string for processing. Many zipcodes have a +4 identifier for delivery routes (e.g. 12345-6789). Since these delivery routes aren't essential to calculating location, I remove these and focus only on the 5 digit zip."
   ]
  },
  {
   "cell_type": "code",
   "execution_count": 2,
   "id": "a7131a75",
   "metadata": {},
   "outputs": [
    {
     "name": "stderr",
     "output_type": "stream",
     "text": [
      "/home/huy/.local/lib/python3.8/site-packages/IPython/core/interactiveshell.py:3441: DtypeWarning: Columns (6,9,1351,1352,1353,1354,1355,1356,1357,1358,1359,1360,1361,1362,1363,1364,1365,1379,1393,1394,1395,1396,1397,1398,1399,1400,1401,1402,1403,1404,1405,1406,1407,1408,1409,1410,1412,1413,1427,1428,1431,1432,1503,1517,1532,1533,1534,1535,1536,1537,1538,1539,1540,1542,1543,1544,1545,1546,1547,1548,1549,1550,1551,1552,1553,1554,1555,1556,1557,1558,1559,1560,1561,1567,1568,1573,1574,1575,1576,1577,1581,1582,1587,1588,1589,1590,1591,1592,1593,1594,1595,1596,1597,1598,1599,1600,1601,1602,1604,1605,1606,1608,1610,1611,1614,1615,1616,1619,1620,1621,1622,1623,1624,1625,1626,1627,1628,1629,1636,1638,1640,1643,1644,1648,1653,1654,1655,1656,1657,1658,1659,1660,1661,1662,1664,1666,1669,1670,1674,1679,1680,1681,1682,1683,1684,1685,1686,1687,1688,1689,1690,1691,1692,1693,1695,1697,1700,1701,1702,1703,1704,1705,1706,1707,1711,1725,1726,1727,1728,1729,1743,1815,1816,1817,1818,1823,1824,1830,1831,1844,1845,1846,1879,1880,1881,1882,1883,1884,1885,1886,1887,1888,1889,1890,1891,1892,1893,1894,1895,1896,1897,1898,1909,1910,1911,1912,1913,1957,1958,1959,1960,1961,1962,1963,1964,1965,1966,1967,1968,1969,1970,1971,1972,1973,1974,1975,1976,1983,1984,2376,2377,2393,2403,2404,2495,2496,2497,2498,2499,2500,2501,2502,2503,2504,2505,2506,2507,2508,2509,2510,2511,2512,2513,2514,2515,2516,2517,2518,2519,2520,2521,2522,2523,2524,2525,2526,2527,2528,2529,2530,2855,2958) have mixed types.Specify dtype option on import or set low_memory=False.\n",
      "  exec(code_obj, self.user_global_ns, self.user_ns)\n"
     ]
    },
    {
     "data": {
      "text/plain": [
       "6189"
      ]
     },
     "execution_count": 2,
     "metadata": {},
     "output_type": "execute_result"
    }
   ],
   "source": [
    "data = pd.read_csv('./data/scorecard/Most-Recent-Cohorts-Full.csv')\n",
    "data = data.iloc[:, 0:1027]\n",
    "data = data[['INSTNM', 'ZIP', 'LATITUDE', 'LONGITUDE']].dropna(how='any')\n",
    "data.columns = ['name', 'zip', 'lat', 'long']\n",
    "data['zip'] = data['zip'].astype('string')\n",
    "data['zip'] = data['zip'].str.split('-', expand=True)[0]\n",
    "len(data)"
   ]
  },
  {
   "cell_type": "markdown",
   "id": "e8e8f458",
   "metadata": {},
   "source": [
    "This functions calculates the distance between two latitudes/longitudes and returns a value in km. I found the code from this stackoverflow: https://stackoverflow.com/questions/27928/calculate-distance-between-two-latitude-longitude-points-haversine-formula. This might be useful if we want to directly calculate the distance from the user to a college they're interested in."
   ]
  },
  {
   "cell_type": "code",
   "execution_count": 3,
   "id": "a8b844c8",
   "metadata": {},
   "outputs": [],
   "source": [
    "from math import cos, asin, sqrt, pi\n",
    "\n",
    "def distance(lat1, lon1, lat2, lon2):\n",
    "    p = pi/180\n",
    "    a = 0.5 - cos((lat2-lat1)*p)/2 + cos(lat1*p) * cos(lat2*p) * (1-cos((lon2-lon1)*p))/2\n",
    "    return 12742 * asin(sqrt(a))"
   ]
  },
  {
   "cell_type": "markdown",
   "id": "a61d6e7a",
   "metadata": {},
   "source": [
    "I downloaded the zipcodes from here: https://gist.github.com/abatko/ee7b24db82a6f50cfce02afafa1dfd1e. This zipcode file is from 2018 so it isn't the most updates version. I found an API version that is an alternative to using a non-updated database. However, this requires a precise address input: https://geocoding.geo.census.gov/geocoder/Geocoding_Services_API.pdf. I then calculate how many college zip codes in our college database do not have a corresponding entry in the zipcode file. Ideally we'll use this zipcode information to convert from the user's specified location to latitude/longitude for nearest colleges calculations."
   ]
  },
  {
   "cell_type": "code",
   "execution_count": 4,
   "id": "70af4fcf",
   "metadata": {},
   "outputs": [
    {
     "data": {
      "text/plain": [
       "272"
      ]
     },
     "execution_count": 4,
     "metadata": {},
     "output_type": "execute_result"
    }
   ],
   "source": [
    "zipcodes = pd.read_csv('./data/zipcodes.csv', dtype={'ZIP': object})\n",
    "zipcodes.columns = ['zip', 'zlat', 'zlong']\n",
    "zipcodes['zip'] = zipcodes['zip'].astype('string')\n",
    "sum(data.merge(zipcodes, how='left', on='zip')['zlat'].isna())"
   ]
  },
  {
   "cell_type": "markdown",
   "id": "d37061e2",
   "metadata": {},
   "source": [
    "After looking into building trees with spatial partition for efficient neighbor querying, I found a handy scipy package that implements this. Documentation can be found here: https://docs.scipy.org/doc/scipy/reference/generated/scipy.spatial.KDTree.html#scipy.spatial.KDTree."
   ]
  },
  {
   "cell_type": "code",
   "execution_count": 5,
   "id": "6f6e143c",
   "metadata": {},
   "outputs": [],
   "source": [
    "from scipy.spatial import KDTree\n",
    "tree_kd = KDTree(data[['lat', 'long']])"
   ]
  },
  {
   "cell_type": "markdown",
   "id": "73cecb2b",
   "metadata": {},
   "source": [
    "For the following function, I convert from km to latitude to provide a search value for the scipy KDTree package. I chose to use latitude arbitrarily as latitude and longitude have different values for the same distance (i.e. 10 miles does not have the same latitude and longitude value). Using only either latitude or longitude to calculate radius is somewhat inaccurate as described here: http://janmatuschek.de/LatitudeLongitudeBoundingCoordinates. However, as KDTree takes one radius value as input for query, I decided to move forward with this."
   ]
  },
  {
   "cell_type": "code",
   "execution_count": 6,
   "id": "0fb23023",
   "metadata": {},
   "outputs": [],
   "source": [
    "from math import cos, pi\n",
    "\n",
    "def dist_to_lat(dist, unit=\"kilometers\"):\n",
    "    if unit==\"miles\":\n",
    "        dist *= 1.60934\n",
    "    return dist*1.60934/110.574"
   ]
  },
  {
   "cell_type": "markdown",
   "id": "57ac33a4",
   "metadata": {},
   "source": [
    "## Testing Query"
   ]
  },
  {
   "cell_type": "markdown",
   "id": "e91521bf",
   "metadata": {},
   "source": [
    "Define zipcode and mile radius for search."
   ]
  },
  {
   "cell_type": "code",
   "execution_count": 7,
   "id": "bb2a31d6",
   "metadata": {},
   "outputs": [],
   "source": [
    "user_zip = '92804'\n",
    "user_zip_loc = zipcodes[zipcodes['zip'] == user_zip][['zlat', 'zlong']]\n",
    "miles_radius = 10"
   ]
  },
  {
   "cell_type": "markdown",
   "id": "14bf7f42",
   "metadata": {},
   "source": [
    "This uses the KDTree query."
   ]
  },
  {
   "cell_type": "code",
   "execution_count": 8,
   "id": "484b7d00",
   "metadata": {},
   "outputs": [],
   "source": [
    "query_kd = tree_kd.query_ball_point(user_zip_loc, dist_to_lat(miles_radius, unit=\"miles\"))\n",
    "kd_method = data.iloc[query_kd[0]]"
   ]
  },
  {
   "cell_type": "markdown",
   "id": "4d2dd6e6",
   "metadata": {},
   "source": [
    "This calculates the l2-norm distance between the provided zip code and every college in the dataframe."
   ]
  },
  {
   "cell_type": "code",
   "execution_count": 9,
   "id": "81e4ec82",
   "metadata": {},
   "outputs": [
    {
     "name": "stdout",
     "output_type": "stream",
     "text": [
      "            zlat       zlong\n",
      "30642  33.818271 -117.975017\n"
     ]
    }
   ],
   "source": [
    "curr_point = zipcodes[zipcodes['zip'] == user_zip][['zlat', 'zlong']]\n",
    "print(curr_point)\n",
    "lat = curr_point['zlat'].values[0]\n",
    "long = curr_point['zlong'].values[0]\n",
    "calc_method = data[np.sqrt((data['lat'] - lat)**2 + (data['long'] - long)**2) <= dist_to_lat(miles_radius, \"miles\")]"
   ]
  },
  {
   "cell_type": "markdown",
   "id": "7df4c949",
   "metadata": {},
   "source": [
    "Confirm that both methods provide the same results:"
   ]
  },
  {
   "cell_type": "code",
   "execution_count": 10,
   "id": "08cb3600",
   "metadata": {
    "scrolled": false
   },
   "outputs": [
    {
     "data": {
      "text/plain": [
       "name    0\n",
       "zip     0\n",
       "lat     0\n",
       "long    0\n",
       "dtype: int64"
      ]
     },
     "execution_count": 10,
     "metadata": {},
     "output_type": "execute_result"
    }
   ],
   "source": [
    "(kd_method != calc_method).sum()"
   ]
  },
  {
   "cell_type": "markdown",
   "id": "e265fd7d",
   "metadata": {},
   "source": [
    "## SKLearn's BallTree and KDTree"
   ]
  },
  {
   "cell_type": "markdown",
   "id": "555d644e",
   "metadata": {},
   "source": [
    "After discussing with Jordan, two issues came to light: 1. The ability to create custom distance functions and 2. Being able to alter top nearest neighbor choices based on different column weights. I decided to move forward looking into sci-kit learn's nearest neighbor and distance-based tree packages. First I compare the use of sci kit learn's distance-based tree package to see if its result is the same as KD Trees."
   ]
  },
  {
   "cell_type": "code",
   "execution_count": 11,
   "id": "a87d8722",
   "metadata": {},
   "outputs": [],
   "source": [
    "from sklearn.neighbors import BallTree\n",
    "from sklearn.neighbors import KDTree\n",
    "from sklearn.neighbors import DistanceMetric"
   ]
  },
  {
   "cell_type": "code",
   "execution_count": 12,
   "id": "ed1e66e6",
   "metadata": {},
   "outputs": [],
   "source": [
    "tree_sk = BallTree(data[['lat', 'long']])  "
   ]
  },
  {
   "cell_type": "code",
   "execution_count": 13,
   "id": "9970dab0",
   "metadata": {},
   "outputs": [
    {
     "data": {
      "text/plain": [
       "name    0\n",
       "zip     0\n",
       "lat     0\n",
       "long    0\n",
       "dtype: int64"
      ]
     },
     "execution_count": 13,
     "metadata": {},
     "output_type": "execute_result"
    }
   ],
   "source": [
    "query_sk = tree_sk.query_radius(user_zip_loc, dist_to_lat(miles_radius, unit=\"miles\"))\n",
    "sk_method = data.iloc[query_sk[0]]\n",
    "(sk_method.sort_index() != kd_method).sum()"
   ]
  },
  {
   "cell_type": "markdown",
   "id": "de8b7a2b",
   "metadata": {},
   "source": [
    "We will have to rebuild the tree every time we want to incorporate a new custom distance metric. I don't believe we'll use more than minowski distance but here I try a different distance metric (manhattan). Sklearn also provides a few metrics of there owns that we can use including (not surprisingly) manhattan."
   ]
  },
  {
   "cell_type": "code",
   "execution_count": 14,
   "id": "4b63fb86",
   "metadata": {},
   "outputs": [],
   "source": [
    "def manhattan(x, y):\n",
    "    return np.sum(np.absolute(x-y))"
   ]
  },
  {
   "cell_type": "code",
   "execution_count": 15,
   "id": "13ac3e98",
   "metadata": {},
   "outputs": [],
   "source": [
    "tree_sk_man = BallTree(data[['lat', 'long']], metric=manhattan)\n",
    "query_sk_man = tree_sk_man.query_radius(user_zip_loc, dist_to_lat(miles_radius, unit=\"miles\"))\n",
    "sk_man_method = data.iloc[query_sk_man[0]]"
   ]
  },
  {
   "cell_type": "code",
   "execution_count": 16,
   "id": "592b7bf4",
   "metadata": {},
   "outputs": [
    {
     "data": {
      "text/plain": [
       "name    0\n",
       "zip     0\n",
       "lat     0\n",
       "long    0\n",
       "dtype: int64"
      ]
     },
     "execution_count": 16,
     "metadata": {},
     "output_type": "execute_result"
    }
   ],
   "source": [
    "tree_man = BallTree(data[['lat', 'long']], metric=DistanceMetric.get_metric('manhattan'))\n",
    "query_man = tree_man.query_radius(user_zip_loc, dist_to_lat(miles_radius, unit=\"miles\"))\n",
    "man_method = data.iloc[query_man[0]]\n",
    "(sk_man_method != man_method).sum()"
   ]
  },
  {
   "cell_type": "markdown",
   "id": "2cbb0a43",
   "metadata": {},
   "source": [
    "Here I time the creation of new ball trees to see how inefficient it will be to recreate a new tree."
   ]
  },
  {
   "cell_type": "code",
   "execution_count": 17,
   "id": "ab3dddf6",
   "metadata": {},
   "outputs": [
    {
     "name": "stdout",
     "output_type": "stream",
     "text": [
      "CPU times: user 2.49 s, sys: 9.04 ms, total: 2.5 s\n",
      "Wall time: 2.49 s\n"
     ]
    }
   ],
   "source": [
    "%%time\n",
    "for i in range(1000):\n",
    "    BallTree(data[['lat', 'long']])"
   ]
  },
  {
   "cell_type": "code",
   "execution_count": 18,
   "id": "9b12702f",
   "metadata": {},
   "outputs": [
    {
     "name": "stdout",
     "output_type": "stream",
     "text": [
      "CPU times: user 2.61 s, sys: 14.9 ms, total: 2.62 s\n",
      "Wall time: 2.62 s\n"
     ]
    }
   ],
   "source": [
    "%%time\n",
    "for i in range(1000):\n",
    "    KDTree(data[['lat', 'long']])"
   ]
  },
  {
   "cell_type": "markdown",
   "id": "aef0874e",
   "metadata": {},
   "source": [
    "## SKLearn NN"
   ]
  },
  {
   "cell_type": "code",
   "execution_count": 121,
   "id": "0d08704d",
   "metadata": {},
   "outputs": [],
   "source": [
    "from sklearn.neighbors import NearestNeighbors"
   ]
  },
  {
   "cell_type": "code",
   "execution_count": 132,
   "id": "c5069c5f",
   "metadata": {},
   "outputs": [
    {
     "name": "stderr",
     "output_type": "stream",
     "text": [
      "/home/huy/.local/lib/python3.8/site-packages/IPython/core/interactiveshell.py:3441: DtypeWarning: Columns (6,9,1351,1352,1353,1354,1355,1356,1357,1358,1359,1360,1361,1362,1363,1364,1365,1379,1393,1394,1395,1396,1397,1398,1399,1400,1401,1402,1403,1404,1405,1406,1407,1408,1409,1410,1412,1413,1427,1428,1431,1432,1503,1517,1532,1533,1534,1535,1536,1537,1538,1539,1540,1542,1543,1544,1545,1546,1547,1548,1549,1550,1551,1552,1553,1554,1555,1556,1557,1558,1559,1560,1561,1567,1568,1573,1574,1575,1576,1577,1581,1582,1587,1588,1589,1590,1591,1592,1593,1594,1595,1596,1597,1598,1599,1600,1601,1602,1604,1605,1606,1608,1610,1611,1614,1615,1616,1619,1620,1621,1622,1623,1624,1625,1626,1627,1628,1629,1636,1638,1640,1643,1644,1648,1653,1654,1655,1656,1657,1658,1659,1660,1661,1662,1664,1666,1669,1670,1674,1679,1680,1681,1682,1683,1684,1685,1686,1687,1688,1689,1690,1691,1692,1693,1695,1697,1700,1701,1702,1703,1704,1705,1706,1707,1711,1725,1726,1727,1728,1729,1743,1815,1816,1817,1818,1823,1824,1830,1831,1844,1845,1846,1879,1880,1881,1882,1883,1884,1885,1886,1887,1888,1889,1890,1891,1892,1893,1894,1895,1896,1897,1898,1909,1910,1911,1912,1913,1957,1958,1959,1960,1961,1962,1963,1964,1965,1966,1967,1968,1969,1970,1971,1972,1973,1974,1975,1976,1983,1984,2376,2377,2393,2403,2404,2495,2496,2497,2498,2499,2500,2501,2502,2503,2504,2505,2506,2507,2508,2509,2510,2511,2512,2513,2514,2515,2516,2517,2518,2519,2520,2521,2522,2523,2524,2525,2526,2527,2528,2529,2530,2855,2958) have mixed types.Specify dtype option on import or set low_memory=False.\n",
      "  exec(code_obj, self.user_global_ns, self.user_ns)\n"
     ]
    }
   ],
   "source": [
    "data = pd.read_csv('./data/scorecard/Most-Recent-Cohorts-Full.csv')\n",
    "columns = pd.read_excel('./data/scorecard/columns-simplified.xlsx')"
   ]
  },
  {
   "cell_type": "markdown",
   "id": "1a7ba8ed",
   "metadata": {},
   "source": [
    "I drop the irrelevant identification columns as well as change any privacy suppressed and nan values to 0 for now. We may want to figure out a better way to handle these values in the future."
   ]
  },
  {
   "cell_type": "code",
   "execution_count": 140,
   "id": "27e87d00",
   "metadata": {},
   "outputs": [
    {
     "name": "stderr",
     "output_type": "stream",
     "text": [
      "/home/huy/.local/lib/python3.8/site-packages/pandas/core/frame.py:4901: SettingWithCopyWarning: \n",
      "A value is trying to be set on a copy of a slice from a DataFrame\n",
      "\n",
      "See the caveats in the documentation: https://pandas.pydata.org/pandas-docs/stable/user_guide/indexing.html#returning-a-view-versus-a-copy\n",
      "  return super().drop(\n"
     ]
    }
   ],
   "source": [
    "simplified = data[list(columns['VARIABLE NAME'])]\n",
    "simplified.drop(['UNITID', 'INSTNM', 'CITY', 'STABBR', 'ZIP', 'ACCREDAGENCY'], axis=1, inplace=True)"
   ]
  },
  {
   "cell_type": "code",
   "execution_count": 156,
   "id": "feeb67ef",
   "metadata": {},
   "outputs": [
    {
     "data": {
      "text/plain": [
       "Index(['COMP_ORIG_YR2_RT', 'COMP_ORIG_YR3_RT', 'COMP_ORIG_YR4_RT',\n",
       "       'COMP_ORIG_YR6_RT', 'COMP_ORIG_YR8_RT'],\n",
       "      dtype='object')"
      ]
     },
     "execution_count": 156,
     "metadata": {},
     "output_type": "execute_result"
    }
   ],
   "source": [
    "simplified.columns[(simplified == \"PrivacySuppressed\").any()]"
   ]
  },
  {
   "cell_type": "code",
   "execution_count": 157,
   "id": "19b05e15",
   "metadata": {},
   "outputs": [
    {
     "data": {
      "text/html": [
       "<div>\n",
       "<style scoped>\n",
       "    .dataframe tbody tr th:only-of-type {\n",
       "        vertical-align: middle;\n",
       "    }\n",
       "\n",
       "    .dataframe tbody tr th {\n",
       "        vertical-align: top;\n",
       "    }\n",
       "\n",
       "    .dataframe thead th {\n",
       "        text-align: right;\n",
       "    }\n",
       "</style>\n",
       "<table border=\"1\" class=\"dataframe\">\n",
       "  <thead>\n",
       "    <tr style=\"text-align: right;\">\n",
       "      <th></th>\n",
       "      <th>COMP_ORIG_YR2_RT</th>\n",
       "      <th>COMP_ORIG_YR3_RT</th>\n",
       "      <th>COMP_ORIG_YR4_RT</th>\n",
       "      <th>COMP_ORIG_YR6_RT</th>\n",
       "      <th>COMP_ORIG_YR8_RT</th>\n",
       "    </tr>\n",
       "  </thead>\n",
       "  <tbody>\n",
       "    <tr>\n",
       "      <th>0</th>\n",
       "      <td>0.036073329391</td>\n",
       "      <td>0.114434330299</td>\n",
       "      <td>0.210526315789</td>\n",
       "      <td>0.28077232502</td>\n",
       "      <td>0.314393939394</td>\n",
       "    </tr>\n",
       "    <tr>\n",
       "      <th>1</th>\n",
       "      <td>0.145747707872</td>\n",
       "      <td>0.327259204165</td>\n",
       "      <td>0.461707585196</td>\n",
       "      <td>0.53630239521</td>\n",
       "      <td>0.524893863373</td>\n",
       "    </tr>\n",
       "    <tr>\n",
       "      <th>2</th>\n",
       "      <td>PrivacySuppressed</td>\n",
       "      <td>0.0859375</td>\n",
       "      <td>0.162962962963</td>\n",
       "      <td>0.141463414634</td>\n",
       "      <td>0.239726027397</td>\n",
       "    </tr>\n",
       "    <tr>\n",
       "      <th>3</th>\n",
       "      <td>0.165609584214</td>\n",
       "      <td>0.313755795981</td>\n",
       "      <td>0.464680851064</td>\n",
       "      <td>0.529255319149</td>\n",
       "      <td>0.485385296723</td>\n",
       "    </tr>\n",
       "    <tr>\n",
       "      <th>4</th>\n",
       "      <td>0.026500389712</td>\n",
       "      <td>0.130295763389</td>\n",
       "      <td>0.237909516381</td>\n",
       "      <td>0.284132841328</td>\n",
       "      <td>0.266284896206</td>\n",
       "    </tr>\n",
       "    <tr>\n",
       "      <th>...</th>\n",
       "      <td>...</td>\n",
       "      <td>...</td>\n",
       "      <td>...</td>\n",
       "      <td>...</td>\n",
       "      <td>...</td>\n",
       "    </tr>\n",
       "    <tr>\n",
       "      <th>6689</th>\n",
       "      <td>0.136350857464</td>\n",
       "      <td>0.163543897216</td>\n",
       "      <td>0.17</td>\n",
       "      <td>0.160021124901</td>\n",
       "      <td>0.147801009373</td>\n",
       "    </tr>\n",
       "    <tr>\n",
       "      <th>6690</th>\n",
       "      <td>0.538461538462</td>\n",
       "      <td>0.457142857143</td>\n",
       "      <td>0.448979591837</td>\n",
       "      <td>PrivacySuppressed</td>\n",
       "      <td>PrivacySuppressed</td>\n",
       "    </tr>\n",
       "    <tr>\n",
       "      <th>6691</th>\n",
       "      <td>0.630136986301</td>\n",
       "      <td>PrivacySuppressed</td>\n",
       "      <td>PrivacySuppressed</td>\n",
       "      <td>PrivacySuppressed</td>\n",
       "      <td>PrivacySuppressed</td>\n",
       "    </tr>\n",
       "    <tr>\n",
       "      <th>6692</th>\n",
       "      <td>NaN</td>\n",
       "      <td>NaN</td>\n",
       "      <td>NaN</td>\n",
       "      <td>NaN</td>\n",
       "      <td>NaN</td>\n",
       "    </tr>\n",
       "    <tr>\n",
       "      <th>6693</th>\n",
       "      <td>NaN</td>\n",
       "      <td>NaN</td>\n",
       "      <td>NaN</td>\n",
       "      <td>NaN</td>\n",
       "      <td>NaN</td>\n",
       "    </tr>\n",
       "  </tbody>\n",
       "</table>\n",
       "<p>6694 rows × 5 columns</p>\n",
       "</div>"
      ],
      "text/plain": [
       "       COMP_ORIG_YR2_RT   COMP_ORIG_YR3_RT   COMP_ORIG_YR4_RT  \\\n",
       "0        0.036073329391     0.114434330299     0.210526315789   \n",
       "1        0.145747707872     0.327259204165     0.461707585196   \n",
       "2     PrivacySuppressed          0.0859375     0.162962962963   \n",
       "3        0.165609584214     0.313755795981     0.464680851064   \n",
       "4        0.026500389712     0.130295763389     0.237909516381   \n",
       "...                 ...                ...                ...   \n",
       "6689     0.136350857464     0.163543897216               0.17   \n",
       "6690     0.538461538462     0.457142857143     0.448979591837   \n",
       "6691     0.630136986301  PrivacySuppressed  PrivacySuppressed   \n",
       "6692                NaN                NaN                NaN   \n",
       "6693                NaN                NaN                NaN   \n",
       "\n",
       "       COMP_ORIG_YR6_RT   COMP_ORIG_YR8_RT  \n",
       "0         0.28077232502     0.314393939394  \n",
       "1         0.53630239521     0.524893863373  \n",
       "2        0.141463414634     0.239726027397  \n",
       "3        0.529255319149     0.485385296723  \n",
       "4        0.284132841328     0.266284896206  \n",
       "...                 ...                ...  \n",
       "6689     0.160021124901     0.147801009373  \n",
       "6690  PrivacySuppressed  PrivacySuppressed  \n",
       "6691  PrivacySuppressed  PrivacySuppressed  \n",
       "6692                NaN                NaN  \n",
       "6693                NaN                NaN  \n",
       "\n",
       "[6694 rows x 5 columns]"
      ]
     },
     "execution_count": 157,
     "metadata": {},
     "output_type": "execute_result"
    }
   ],
   "source": [
    "simplified[['COMP_ORIG_YR2_RT', 'COMP_ORIG_YR3_RT', 'COMP_ORIG_YR4_RT', 'COMP_ORIG_YR6_RT', 'COMP_ORIG_YR8_RT']]"
   ]
  },
  {
   "cell_type": "code",
   "execution_count": 170,
   "id": "f9dc968a",
   "metadata": {},
   "outputs": [
    {
     "name": "stderr",
     "output_type": "stream",
     "text": [
      "/home/huy/.local/lib/python3.8/site-packages/pandas/core/frame.py:5233: SettingWithCopyWarning: \n",
      "A value is trying to be set on a copy of a slice from a DataFrame\n",
      "\n",
      "See the caveats in the documentation: https://pandas.pydata.org/pandas-docs/stable/user_guide/indexing.html#returning-a-view-versus-a-copy\n",
      "  return super().replace(\n"
     ]
    }
   ],
   "source": [
    "simplified.replace(to_replace=\"PrivacySuppressed\", value = np.nan, inplace=True)\n",
    "simplified.replace(to_replace=np.nan, value=0, inplace=True)"
   ]
  },
  {
   "cell_type": "code",
   "execution_count": 171,
   "id": "10f51341",
   "metadata": {},
   "outputs": [
    {
     "data": {
      "text/html": [
       "<div>\n",
       "<style scoped>\n",
       "    .dataframe tbody tr th:only-of-type {\n",
       "        vertical-align: middle;\n",
       "    }\n",
       "\n",
       "    .dataframe tbody tr th {\n",
       "        vertical-align: top;\n",
       "    }\n",
       "\n",
       "    .dataframe thead th {\n",
       "        text-align: right;\n",
       "    }\n",
       "</style>\n",
       "<table border=\"1\" class=\"dataframe\">\n",
       "  <thead>\n",
       "    <tr style=\"text-align: right;\">\n",
       "      <th></th>\n",
       "      <th>COMP_ORIG_YR2_RT</th>\n",
       "      <th>COMP_ORIG_YR3_RT</th>\n",
       "      <th>COMP_ORIG_YR4_RT</th>\n",
       "      <th>COMP_ORIG_YR6_RT</th>\n",
       "      <th>COMP_ORIG_YR8_RT</th>\n",
       "    </tr>\n",
       "  </thead>\n",
       "  <tbody>\n",
       "    <tr>\n",
       "      <th>0</th>\n",
       "      <td>0.036073329391</td>\n",
       "      <td>0.114434330299</td>\n",
       "      <td>0.210526315789</td>\n",
       "      <td>0.28077232502</td>\n",
       "      <td>0.314393939394</td>\n",
       "    </tr>\n",
       "    <tr>\n",
       "      <th>1</th>\n",
       "      <td>0.145747707872</td>\n",
       "      <td>0.327259204165</td>\n",
       "      <td>0.461707585196</td>\n",
       "      <td>0.53630239521</td>\n",
       "      <td>0.524893863373</td>\n",
       "    </tr>\n",
       "    <tr>\n",
       "      <th>2</th>\n",
       "      <td>0</td>\n",
       "      <td>0.0859375</td>\n",
       "      <td>0.162962962963</td>\n",
       "      <td>0.141463414634</td>\n",
       "      <td>0.239726027397</td>\n",
       "    </tr>\n",
       "    <tr>\n",
       "      <th>3</th>\n",
       "      <td>0.165609584214</td>\n",
       "      <td>0.313755795981</td>\n",
       "      <td>0.464680851064</td>\n",
       "      <td>0.529255319149</td>\n",
       "      <td>0.485385296723</td>\n",
       "    </tr>\n",
       "    <tr>\n",
       "      <th>4</th>\n",
       "      <td>0.026500389712</td>\n",
       "      <td>0.130295763389</td>\n",
       "      <td>0.237909516381</td>\n",
       "      <td>0.284132841328</td>\n",
       "      <td>0.266284896206</td>\n",
       "    </tr>\n",
       "    <tr>\n",
       "      <th>...</th>\n",
       "      <td>...</td>\n",
       "      <td>...</td>\n",
       "      <td>...</td>\n",
       "      <td>...</td>\n",
       "      <td>...</td>\n",
       "    </tr>\n",
       "    <tr>\n",
       "      <th>6689</th>\n",
       "      <td>0.136350857464</td>\n",
       "      <td>0.163543897216</td>\n",
       "      <td>0.17</td>\n",
       "      <td>0.160021124901</td>\n",
       "      <td>0.147801009373</td>\n",
       "    </tr>\n",
       "    <tr>\n",
       "      <th>6690</th>\n",
       "      <td>0.538461538462</td>\n",
       "      <td>0.457142857143</td>\n",
       "      <td>0.448979591837</td>\n",
       "      <td>0</td>\n",
       "      <td>0</td>\n",
       "    </tr>\n",
       "    <tr>\n",
       "      <th>6691</th>\n",
       "      <td>0.630136986301</td>\n",
       "      <td>0</td>\n",
       "      <td>0</td>\n",
       "      <td>0</td>\n",
       "      <td>0</td>\n",
       "    </tr>\n",
       "    <tr>\n",
       "      <th>6692</th>\n",
       "      <td>0</td>\n",
       "      <td>0</td>\n",
       "      <td>0</td>\n",
       "      <td>0</td>\n",
       "      <td>0</td>\n",
       "    </tr>\n",
       "    <tr>\n",
       "      <th>6693</th>\n",
       "      <td>0</td>\n",
       "      <td>0</td>\n",
       "      <td>0</td>\n",
       "      <td>0</td>\n",
       "      <td>0</td>\n",
       "    </tr>\n",
       "  </tbody>\n",
       "</table>\n",
       "<p>6694 rows × 5 columns</p>\n",
       "</div>"
      ],
      "text/plain": [
       "     COMP_ORIG_YR2_RT COMP_ORIG_YR3_RT COMP_ORIG_YR4_RT COMP_ORIG_YR6_RT  \\\n",
       "0      0.036073329391   0.114434330299   0.210526315789    0.28077232502   \n",
       "1      0.145747707872   0.327259204165   0.461707585196    0.53630239521   \n",
       "2                   0        0.0859375   0.162962962963   0.141463414634   \n",
       "3      0.165609584214   0.313755795981   0.464680851064   0.529255319149   \n",
       "4      0.026500389712   0.130295763389   0.237909516381   0.284132841328   \n",
       "...               ...              ...              ...              ...   \n",
       "6689   0.136350857464   0.163543897216             0.17   0.160021124901   \n",
       "6690   0.538461538462   0.457142857143   0.448979591837                0   \n",
       "6691   0.630136986301                0                0                0   \n",
       "6692                0                0                0                0   \n",
       "6693                0                0                0                0   \n",
       "\n",
       "     COMP_ORIG_YR8_RT  \n",
       "0      0.314393939394  \n",
       "1      0.524893863373  \n",
       "2      0.239726027397  \n",
       "3      0.485385296723  \n",
       "4      0.266284896206  \n",
       "...               ...  \n",
       "6689   0.147801009373  \n",
       "6690                0  \n",
       "6691                0  \n",
       "6692                0  \n",
       "6693                0  \n",
       "\n",
       "[6694 rows x 5 columns]"
      ]
     },
     "execution_count": 171,
     "metadata": {},
     "output_type": "execute_result"
    }
   ],
   "source": [
    "simplified[['COMP_ORIG_YR2_RT', 'COMP_ORIG_YR3_RT', 'COMP_ORIG_YR4_RT', 'COMP_ORIG_YR6_RT', 'COMP_ORIG_YR8_RT']]"
   ]
  },
  {
   "cell_type": "code",
   "execution_count": 185,
   "id": "2f3ce16e",
   "metadata": {},
   "outputs": [
    {
     "data": {
      "text/plain": [
       "NearestNeighbors()"
      ]
     },
     "execution_count": 185,
     "metadata": {},
     "output_type": "execute_result"
    }
   ],
   "source": [
    "neigh = NearestNeighbors()\n",
    "neigh.fit(simplified)"
   ]
  },
  {
   "cell_type": "code",
   "execution_count": 191,
   "id": "a01728c0",
   "metadata": {},
   "outputs": [],
   "source": [
    "simplified = simplified.loc[:,~simplified.columns.duplicated()]"
   ]
  },
  {
   "cell_type": "code",
   "execution_count": 193,
   "id": "4494b1e2",
   "metadata": {},
   "outputs": [
    {
     "data": {
      "text/plain": [
       "NearestNeighbors()"
      ]
     },
     "execution_count": 193,
     "metadata": {},
     "output_type": "execute_result"
    }
   ],
   "source": [
    "neigh.fit(simplified[['CONTROL', 'LOCALE', 'CIP14BACHL']])"
   ]
  },
  {
   "cell_type": "code",
   "execution_count": 195,
   "id": "28e1f4bd",
   "metadata": {},
   "outputs": [],
   "source": [
    "college_query = neigh.kneighbors(pd.DataFrame([{'CONTROL': 0, 'LOCALE': 22, 'CIP14BACHL': 1}]), return_distance=False)"
   ]
  },
  {
   "cell_type": "code",
   "execution_count": 199,
   "id": "e4ac9b08",
   "metadata": {},
   "outputs": [
    {
     "data": {
      "text/html": [
       "<div>\n",
       "<style scoped>\n",
       "    .dataframe tbody tr th:only-of-type {\n",
       "        vertical-align: middle;\n",
       "    }\n",
       "\n",
       "    .dataframe tbody tr th {\n",
       "        vertical-align: top;\n",
       "    }\n",
       "\n",
       "    .dataframe thead th {\n",
       "        text-align: right;\n",
       "    }\n",
       "</style>\n",
       "<table border=\"1\" class=\"dataframe\">\n",
       "  <thead>\n",
       "    <tr style=\"text-align: right;\">\n",
       "      <th></th>\n",
       "      <th>UNITID</th>\n",
       "      <th>OPEID</th>\n",
       "      <th>OPEID6</th>\n",
       "      <th>INSTNM</th>\n",
       "      <th>CITY</th>\n",
       "      <th>STABBR</th>\n",
       "      <th>ZIP</th>\n",
       "      <th>ACCREDAGENCY</th>\n",
       "      <th>INSTURL</th>\n",
       "      <th>NPCURL</th>\n",
       "      <th>...</th>\n",
       "      <th>COUNT_WNE_MALE1_P8</th>\n",
       "      <th>MD_EARN_WNE_MALE1_P8</th>\n",
       "      <th>GT_THRESHOLD_P10</th>\n",
       "      <th>MD_EARN_WNE_INC1_P10</th>\n",
       "      <th>MD_EARN_WNE_INC2_P10</th>\n",
       "      <th>MD_EARN_WNE_INC3_P10</th>\n",
       "      <th>MD_EARN_WNE_INDEP1_P10</th>\n",
       "      <th>MD_EARN_WNE_INDEP0_P10</th>\n",
       "      <th>MD_EARN_WNE_MALE0_P10</th>\n",
       "      <th>MD_EARN_WNE_MALE1_P10</th>\n",
       "    </tr>\n",
       "  </thead>\n",
       "  <tbody>\n",
       "    <tr>\n",
       "      <th>1482</th>\n",
       "      <td>166692</td>\n",
       "      <td>218100</td>\n",
       "      <td>2181</td>\n",
       "      <td>Massachusetts Maritime Academy</td>\n",
       "      <td>Buzzards Bay</td>\n",
       "      <td>MA</td>\n",
       "      <td>02532-1803</td>\n",
       "      <td>New England Commission on Higher Education</td>\n",
       "      <td>https://www.maritime.edu/</td>\n",
       "      <td>https://www.maritime.edu/netprice/</td>\n",
       "      <td>...</td>\n",
       "      <td>50.0</td>\n",
       "      <td>77731.0</td>\n",
       "      <td>0.9153</td>\n",
       "      <td>NaN</td>\n",
       "      <td>NaN</td>\n",
       "      <td>107188.0</td>\n",
       "      <td>NaN</td>\n",
       "      <td>96539.0</td>\n",
       "      <td>NaN</td>\n",
       "      <td>NaN</td>\n",
       "    </tr>\n",
       "    <tr>\n",
       "      <th>2900</th>\n",
       "      <td>214591</td>\n",
       "      <td>332905</td>\n",
       "      <td>3329</td>\n",
       "      <td>Pennsylvania State University-Penn State Erie-...</td>\n",
       "      <td>Erie</td>\n",
       "      <td>PA</td>\n",
       "      <td>16563-0001</td>\n",
       "      <td>Middle States Commission on Higher Education</td>\n",
       "      <td>behrend.psu.edu/</td>\n",
       "      <td>tuition.psu.edu/CostEstimate.aspx</td>\n",
       "      <td>...</td>\n",
       "      <td>12228.0</td>\n",
       "      <td>58866.0</td>\n",
       "      <td>0.8214</td>\n",
       "      <td>48397.0</td>\n",
       "      <td>56055.0</td>\n",
       "      <td>66884.0</td>\n",
       "      <td>48950.0</td>\n",
       "      <td>59218.0</td>\n",
       "      <td>49994.0</td>\n",
       "      <td>66336.0</td>\n",
       "    </tr>\n",
       "    <tr>\n",
       "      <th>1518</th>\n",
       "      <td>167987</td>\n",
       "      <td>221000</td>\n",
       "      <td>2210</td>\n",
       "      <td>University of Massachusetts-Dartmouth</td>\n",
       "      <td>North Dartmouth</td>\n",
       "      <td>MA</td>\n",
       "      <td>02747-2300</td>\n",
       "      <td>New England Commission on Higher Education</td>\n",
       "      <td>www.umassd.edu/</td>\n",
       "      <td>https://umassd.studentaidcalculator.com/welcom...</td>\n",
       "      <td>...</td>\n",
       "      <td>128.0</td>\n",
       "      <td>54542.0</td>\n",
       "      <td>0.7889</td>\n",
       "      <td>54536.0</td>\n",
       "      <td>58193.0</td>\n",
       "      <td>63504.0</td>\n",
       "      <td>40750.0</td>\n",
       "      <td>60978.0</td>\n",
       "      <td>54123.0</td>\n",
       "      <td>69010.0</td>\n",
       "    </tr>\n",
       "    <tr>\n",
       "      <th>221</th>\n",
       "      <td>110705</td>\n",
       "      <td>132000</td>\n",
       "      <td>1320</td>\n",
       "      <td>University of California-Santa Barbara</td>\n",
       "      <td>Santa Barbara</td>\n",
       "      <td>CA</td>\n",
       "      <td>93106</td>\n",
       "      <td>Western Association of Schools and Colleges Se...</td>\n",
       "      <td>www.ucsb.edu/</td>\n",
       "      <td>finaid.ucsb.edu/net-price-calculator</td>\n",
       "      <td>...</td>\n",
       "      <td>2359.0</td>\n",
       "      <td>64209.0</td>\n",
       "      <td>0.8453</td>\n",
       "      <td>60925.0</td>\n",
       "      <td>67183.0</td>\n",
       "      <td>71665.0</td>\n",
       "      <td>58764.0</td>\n",
       "      <td>67149.0</td>\n",
       "      <td>64201.0</td>\n",
       "      <td>69859.0</td>\n",
       "    </tr>\n",
       "    <tr>\n",
       "      <th>2613</th>\n",
       "      <td>204839</td>\n",
       "      <td>310004</td>\n",
       "      <td>3100</td>\n",
       "      <td>Ohio University-Southern Campus</td>\n",
       "      <td>Ironton</td>\n",
       "      <td>OH</td>\n",
       "      <td>45638</td>\n",
       "      <td>Higher Learning Commission</td>\n",
       "      <td>https://www.ohio.edu/southern/</td>\n",
       "      <td>https://npc.collegeboard.org/app/ohio</td>\n",
       "      <td>...</td>\n",
       "      <td>4562.0</td>\n",
       "      <td>46751.0</td>\n",
       "      <td>0.7386</td>\n",
       "      <td>35953.0</td>\n",
       "      <td>46943.0</td>\n",
       "      <td>56032.0</td>\n",
       "      <td>35699.0</td>\n",
       "      <td>49460.0</td>\n",
       "      <td>42012.0</td>\n",
       "      <td>54537.0</td>\n",
       "    </tr>\n",
       "  </tbody>\n",
       "</table>\n",
       "<p>5 rows × 2989 columns</p>\n",
       "</div>"
      ],
      "text/plain": [
       "      UNITID   OPEID  OPEID6  \\\n",
       "1482  166692  218100    2181   \n",
       "2900  214591  332905    3329   \n",
       "1518  167987  221000    2210   \n",
       "221   110705  132000    1320   \n",
       "2613  204839  310004    3100   \n",
       "\n",
       "                                                 INSTNM             CITY  \\\n",
       "1482                     Massachusetts Maritime Academy     Buzzards Bay   \n",
       "2900  Pennsylvania State University-Penn State Erie-...             Erie   \n",
       "1518              University of Massachusetts-Dartmouth  North Dartmouth   \n",
       "221              University of California-Santa Barbara    Santa Barbara   \n",
       "2613                    Ohio University-Southern Campus          Ironton   \n",
       "\n",
       "     STABBR         ZIP                                       ACCREDAGENCY  \\\n",
       "1482     MA  02532-1803         New England Commission on Higher Education   \n",
       "2900     PA  16563-0001       Middle States Commission on Higher Education   \n",
       "1518     MA  02747-2300         New England Commission on Higher Education   \n",
       "221      CA       93106  Western Association of Schools and Colleges Se...   \n",
       "2613     OH       45638                         Higher Learning Commission   \n",
       "\n",
       "                             INSTURL  \\\n",
       "1482       https://www.maritime.edu/   \n",
       "2900                behrend.psu.edu/   \n",
       "1518                 www.umassd.edu/   \n",
       "221                    www.ucsb.edu/   \n",
       "2613  https://www.ohio.edu/southern/   \n",
       "\n",
       "                                                 NPCURL  ...  \\\n",
       "1482                 https://www.maritime.edu/netprice/  ...   \n",
       "2900                  tuition.psu.edu/CostEstimate.aspx  ...   \n",
       "1518  https://umassd.studentaidcalculator.com/welcom...  ...   \n",
       "221                finaid.ucsb.edu/net-price-calculator  ...   \n",
       "2613              https://npc.collegeboard.org/app/ohio  ...   \n",
       "\n",
       "      COUNT_WNE_MALE1_P8  MD_EARN_WNE_MALE1_P8  GT_THRESHOLD_P10  \\\n",
       "1482                50.0               77731.0            0.9153   \n",
       "2900             12228.0               58866.0            0.8214   \n",
       "1518               128.0               54542.0            0.7889   \n",
       "221               2359.0               64209.0            0.8453   \n",
       "2613              4562.0               46751.0            0.7386   \n",
       "\n",
       "      MD_EARN_WNE_INC1_P10  MD_EARN_WNE_INC2_P10  MD_EARN_WNE_INC3_P10  \\\n",
       "1482                   NaN                   NaN              107188.0   \n",
       "2900               48397.0               56055.0               66884.0   \n",
       "1518               54536.0               58193.0               63504.0   \n",
       "221                60925.0               67183.0               71665.0   \n",
       "2613               35953.0               46943.0               56032.0   \n",
       "\n",
       "      MD_EARN_WNE_INDEP1_P10  MD_EARN_WNE_INDEP0_P10  MD_EARN_WNE_MALE0_P10  \\\n",
       "1482                     NaN                 96539.0                    NaN   \n",
       "2900                 48950.0                 59218.0                49994.0   \n",
       "1518                 40750.0                 60978.0                54123.0   \n",
       "221                  58764.0                 67149.0                64201.0   \n",
       "2613                 35699.0                 49460.0                42012.0   \n",
       "\n",
       "      MD_EARN_WNE_MALE1_P10  \n",
       "1482                    NaN  \n",
       "2900                66336.0  \n",
       "1518                69010.0  \n",
       "221                 69859.0  \n",
       "2613                54537.0  \n",
       "\n",
       "[5 rows x 2989 columns]"
      ]
     },
     "execution_count": 199,
     "metadata": {},
     "output_type": "execute_result"
    }
   ],
   "source": [
    "data.iloc[college_query[0]]"
   ]
  },
  {
   "cell_type": "markdown",
   "id": "4a60a4b5",
   "metadata": {},
   "source": [
    "Rebuilding the nearest neighbor model is significantly slower than the kdtree or balltree models. However, it may still be fast enough for our use in the project."
   ]
  },
  {
   "cell_type": "code",
   "execution_count": 175,
   "id": "1a25489a",
   "metadata": {
    "scrolled": true
   },
   "outputs": [
    {
     "name": "stdout",
     "output_type": "stream",
     "text": [
      "CPU times: user 3.55 s, sys: 360 ms, total: 3.91 s\n",
      "Wall time: 3.91 s\n"
     ]
    }
   ],
   "source": [
    "%%time\n",
    "for i in range(100):\n",
    "    neigh = NearestNeighbors()\n",
    "    neigh.fit(simplified)"
   ]
  },
  {
   "cell_type": "markdown",
   "id": "365c8602",
   "metadata": {},
   "source": [
    "### Example Filter and Query"
   ]
  },
  {
   "cell_type": "markdown",
   "id": "f0c93ca2",
   "metadata": {},
   "source": [
    "Question: Which information should we directly filter vs. which information should we use for nearest neighbor search?"
   ]
  },
  {
   "cell_type": "code",
   "execution_count": 144,
   "id": "3b62902f",
   "metadata": {},
   "outputs": [],
   "source": [
    "### Basic Information\n",
    "\n",
    "## Input zip -> string\n",
    "user_zip = '92804'\n",
    "\n",
    "## Dropdown of 10, 25, 50, 100, All (None) -> int\n",
    "miles_radius = 10\n",
    "\n",
    "## Checkbox of the provided majors -> list\n",
    "degree = ['Engineering']\n",
    "\n",
    "## Slider -> tuple of ints\n",
    "tuition_range = ()\n",
    "\n",
    "## Dropdown of public, private, or both -> string\n",
    "public_private = \"public\""
   ]
  },
  {
   "cell_type": "code",
   "execution_count": 140,
   "id": "9d9a1951",
   "metadata": {},
   "outputs": [],
   "source": [
    "## Dropdown of religious affiliation or None -> string\n",
    "religious_affiliation = None\n",
    "\n",
    "## Checkbox of setting type urban, rural, suburban -> list of string\n",
    "setting = []\n",
    "\n",
    "### Checkbox certain states -> list of string\n",
    "states = []"
   ]
  },
  {
   "cell_type": "code",
   "execution_count": 141,
   "id": "d44e715e",
   "metadata": {},
   "outputs": [
    {
     "name": "stderr",
     "output_type": "stream",
     "text": [
      "/home/huy/.local/lib/python3.8/site-packages/IPython/core/interactiveshell.py:3441: DtypeWarning: Columns (6,9,1351,1352,1353,1354,1355,1356,1357,1358,1359,1360,1361,1362,1363,1364,1365,1379,1393,1394,1395,1396,1397,1398,1399,1400,1401,1402,1403,1404,1405,1406,1407,1408,1409,1410,1412,1413,1427,1428,1431,1432,1503,1517,1532,1533,1534,1535,1536,1537,1538,1539,1540,1542,1543,1544,1545,1546,1547,1548,1549,1550,1551,1552,1553,1554,1555,1556,1557,1558,1559,1560,1561,1567,1568,1573,1574,1575,1576,1577,1581,1582,1587,1588,1589,1590,1591,1592,1593,1594,1595,1596,1597,1598,1599,1600,1601,1602,1604,1605,1606,1608,1610,1611,1614,1615,1616,1619,1620,1621,1622,1623,1624,1625,1626,1627,1628,1629,1636,1638,1640,1643,1644,1648,1653,1654,1655,1656,1657,1658,1659,1660,1661,1662,1664,1666,1669,1670,1674,1679,1680,1681,1682,1683,1684,1685,1686,1687,1688,1689,1690,1691,1692,1693,1695,1697,1700,1701,1702,1703,1704,1705,1706,1707,1711,1725,1726,1727,1728,1729,1743,1815,1816,1817,1818,1823,1824,1830,1831,1844,1845,1846,1879,1880,1881,1882,1883,1884,1885,1886,1887,1888,1889,1890,1891,1892,1893,1894,1895,1896,1897,1898,1909,1910,1911,1912,1913,1957,1958,1959,1960,1961,1962,1963,1964,1965,1966,1967,1968,1969,1970,1971,1972,1973,1974,1975,1976,1983,1984,2376,2377,2393,2403,2404,2495,2496,2497,2498,2499,2500,2501,2502,2503,2504,2505,2506,2507,2508,2509,2510,2511,2512,2513,2514,2515,2516,2517,2518,2519,2520,2521,2522,2523,2524,2525,2526,2527,2528,2529,2530,2855,2958) have mixed types.Specify dtype option on import or set low_memory=False.\n",
      "  exec(code_obj, self.user_global_ns, self.user_ns)\n",
      "/home/huy/.local/lib/python3.8/site-packages/pandas/core/frame.py:5233: SettingWithCopyWarning: \n",
      "A value is trying to be set on a copy of a slice from a DataFrame\n",
      "\n",
      "See the caveats in the documentation: https://pandas.pydata.org/pandas-docs/stable/user_guide/indexing.html#returning-a-view-versus-a-copy\n",
      "  return super().replace(\n"
     ]
    }
   ],
   "source": [
    "data = pd.read_csv('./data/scorecard/Most-Recent-Cohorts-Full.csv')\n",
    "columns = pd.read_excel('./data/scorecard/columns-simplified.xlsx')\n",
    "\n",
    "simplified = data[list(columns['VARIABLE NAME'])]\n",
    "\n",
    "## Figure out what we want to do with privacy suppressed and nan values later\n",
    "simplified.replace(to_replace=\"PrivacySuppressed\", value = np.nan, inplace=True)\n",
    "simplified.replace(to_replace=np.nan, value=0, inplace=True)\n",
    "simplified = simplified.loc[:,~simplified.columns.duplicated()]"
   ]
  },
  {
   "cell_type": "code",
   "execution_count": 157,
   "id": "6bd75778",
   "metadata": {},
   "outputs": [],
   "source": [
    "## Description: Finds colleges within a specified radius in miles of the provided zip code\n",
    "## Inputs:\n",
    "##   df - dataframe of college data\n",
    "##   user_zip - provided zipcode\n",
    "##   zip_to_lat - dataframe converting zipcodes to latitude/longitude\n",
    "##   miles - radius in miles around user_zip, if none returns all colleges\n",
    "## Outputs:\n",
    "##   returns filtered college dataframe based on location\n",
    "\n",
    "def radius_filter(df, user_zip, zip_to_lat, miles = None):\n",
    "    if not miles:\n",
    "        return df\n",
    "    \n",
    "    user_zip_loc = zip_to_lat[zip_to_lat['zip'] == user_zip][['zlat', 'zlong']]\n",
    "    \n",
    "    if user_zip_loc.empty:\n",
    "        raise ValueError('Invalid zipcode input')\n",
    "    \n",
    "    tree = BallTree(df[['LATITUDE', 'LONGITUDE']])  \n",
    "    query = tree.query_radius(user_zip_loc, (miles*1.60934/110.574))\n",
    "    return df.iloc[query[0]]"
   ]
  },
  {
   "cell_type": "code",
   "execution_count": 158,
   "id": "418c62d3",
   "metadata": {},
   "outputs": [],
   "source": [
    "## Description: Finds the corresponding column name for the provided degrees and returns them as a list.\n",
    "##              If no degree is specified, returns all the column names.\n",
    "## Inputs:\n",
    "##   df - dataframe of college data\n",
    "##   columns - dataframe from columns-simplified.xlsx without modifications\n",
    "##   degree - list of interested majors\n",
    "## Outputs:\n",
    "##   returns filtered college dataframe based on interested majors\n",
    "\n",
    "def degree_filter(df, columns, degree):\n",
    "    \n",
    "    temp_col = columns[columns['VARIABLE NAME'].str.contains('CIP')]\n",
    "    var_name = temp_col['VARIABLE NAME']\n",
    "    var_name = var_name.astype('string')\n",
    "    \n",
    "    deg_cols = []\n",
    "    if not degree:\n",
    "        deg_cols = list(var_name)\n",
    "    else:\n",
    "        if type(degree) != list:\n",
    "            raise TypeError(\"degree input must be a list\")\n",
    "        degs = temp_col['NAME OF DATA ELEMENT'].str.split('Bachelor\\'s degree in ', expand=True).iloc[:,1]\n",
    "        degs = degs.str.split('.', expand=True).iloc[:,0]\n",
    "        degs = degs.astype('string')\n",
    "        degree_dict = dict(zip(degs, var_name))\n",
    "        for deg in degree:\n",
    "            deg_cols.append(degree_dict[deg])\n",
    "    print(deg_cols)\n",
    "    return df[df[deg_cols].all(axis=1)]"
   ]
  }
 ],
 "metadata": {
  "kernelspec": {
   "display_name": "Python 3 (ipykernel)",
   "language": "python",
   "name": "python3"
  },
  "language_info": {
   "codemirror_mode": {
    "name": "ipython",
    "version": 3
   },
   "file_extension": ".py",
   "mimetype": "text/x-python",
   "name": "python",
   "nbconvert_exporter": "python",
   "pygments_lexer": "ipython3",
   "version": "3.8.10"
  }
 },
 "nbformat": 4,
 "nbformat_minor": 5
}
