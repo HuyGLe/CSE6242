{
 "cells": [
  {
   "cell_type": "code",
   "execution_count": 1,
   "id": "e31c8562",
   "metadata": {},
   "outputs": [],
   "source": [
    "import numpy as np\n",
    "import pandas as pd\n",
    "import matplotlib as plt"
   ]
  },
  {
   "cell_type": "markdown",
   "id": "79fea296",
   "metadata": {},
   "source": [
    "Here I extract the relevant columns and convert zip to string for processing. Many zipcodes have a +4 identifier for delivery routes (e.g. 12345-6789). Since these delivery routes aren't essential to calculating location, I remove these and focus only on the 5 digit zip."
   ]
  },
  {
   "cell_type": "code",
   "execution_count": 10,
   "id": "a7131a75",
   "metadata": {},
   "outputs": [
    {
     "name": "stderr",
     "output_type": "stream",
     "text": [
      "/home/huy/.local/lib/python3.8/site-packages/IPython/core/interactiveshell.py:3441: DtypeWarning: Columns (6,9,1351,1352,1353,1354,1355,1356,1357,1358,1359,1360,1361,1362,1363,1364,1365,1379,1393,1394,1395,1396,1397,1398,1399,1400,1401,1402,1403,1404,1405,1406,1407,1408,1409,1410,1412,1413,1427,1428,1431,1432,1503,1517,1532,1533,1534,1535,1536,1537,1538,1539,1540,1542,1543,1544,1545,1546,1547,1548,1549,1550,1551,1552,1553,1554,1555,1556,1557,1558,1559,1560,1561,1567,1568,1573,1574,1575,1576,1577,1581,1582,1587,1588,1589,1590,1591,1592,1593,1594,1595,1596,1597,1598,1599,1600,1601,1602,1604,1605,1606,1608,1610,1611,1614,1615,1616,1619,1620,1621,1622,1623,1624,1625,1626,1627,1628,1629,1636,1638,1640,1643,1644,1648,1653,1654,1655,1656,1657,1658,1659,1660,1661,1662,1664,1666,1669,1670,1674,1679,1680,1681,1682,1683,1684,1685,1686,1687,1688,1689,1690,1691,1692,1693,1695,1697,1700,1701,1702,1703,1704,1705,1706,1707,1711,1725,1726,1727,1728,1729,1743,1815,1816,1817,1818,1823,1824,1830,1831,1844,1845,1846,1879,1880,1881,1882,1883,1884,1885,1886,1887,1888,1889,1890,1891,1892,1893,1894,1895,1896,1897,1898,1909,1910,1911,1912,1913,1957,1958,1959,1960,1961,1962,1963,1964,1965,1966,1967,1968,1969,1970,1971,1972,1973,1974,1975,1976,1983,1984,2376,2377,2393,2403,2404,2495,2496,2497,2498,2499,2500,2501,2502,2503,2504,2505,2506,2507,2508,2509,2510,2511,2512,2513,2514,2515,2516,2517,2518,2519,2520,2521,2522,2523,2524,2525,2526,2527,2528,2529,2530,2855,2958) have mixed types.Specify dtype option on import or set low_memory=False.\n",
      "  exec(code_obj, self.user_global_ns, self.user_ns)\n"
     ]
    },
    {
     "data": {
      "text/plain": [
       "6189"
      ]
     },
     "execution_count": 10,
     "metadata": {},
     "output_type": "execute_result"
    }
   ],
   "source": [
    "data = pd.read_csv('../data/scorecard/Most-Recent-Cohorts-Full.csv')\n",
    "data = data.iloc[:, 0:1027]\n",
    "data = data[['INSTNM', 'ZIP', 'LATITUDE', 'LONGITUDE']].dropna(how='any')\n",
    "data.columns = ['name', 'zip', 'lat', 'long']\n",
    "data['zip'] = data['zip'].astype('string')\n",
    "data['zip'] = data['zip'].str.split('-', expand=True)[0]\n",
    "len(data)"
   ]
  },
  {
   "cell_type": "markdown",
   "id": "e8e8f458",
   "metadata": {},
   "source": [
    "This functions calculates the distance between two latitudes/longitudes and returns a value in km. I found the code from this stackoverflow: https://stackoverflow.com/questions/27928/calculate-distance-between-two-latitude-longitude-points-haversine-formula. This might be useful if we want to directly calculate the distance from the user to a college they're interested in."
   ]
  },
  {
   "cell_type": "code",
   "execution_count": 11,
   "id": "a8b844c8",
   "metadata": {},
   "outputs": [],
   "source": [
    "from math import cos, asin, sqrt, pi\n",
    "\n",
    "def distance(lat1, lon1, lat2, lon2):\n",
    "    p = pi/180\n",
    "    a = 0.5 - cos((lat2-lat1)*p)/2 + cos(lat1*p) * cos(lat2*p) * (1-cos((lon2-lon1)*p))/2\n",
    "    return 12742 * asin(sqrt(a))"
   ]
  },
  {
   "cell_type": "markdown",
   "id": "a61d6e7a",
   "metadata": {},
   "source": [
    "I downloaded the zipcodes from here: https://gist.github.com/abatko/ee7b24db82a6f50cfce02afafa1dfd1e. This zipcode file is from 2018 so it isn't the most updates version. I found an API version that is an alternative to using a non-updated database. However, this requires a precise address input: https://geocoding.geo.census.gov/geocoder/Geocoding_Services_API.pdf. I then calculate how many college zip codes in our college database do not have a corresponding entry in the zipcode file. Ideally we'll use this zipcode information to convert from the user's specified location to latitude/longitude for nearest colleges calculations."
   ]
  },
  {
   "cell_type": "code",
   "execution_count": 12,
   "id": "70af4fcf",
   "metadata": {},
   "outputs": [
    {
     "data": {
      "text/plain": [
       "272"
      ]
     },
     "execution_count": 12,
     "metadata": {},
     "output_type": "execute_result"
    }
   ],
   "source": [
    "zipcodes = pd.read_csv('./data/zipcodes.csv', dtype={'ZIP': object})\n",
    "zipcodes.columns = ['zip', 'zlat', 'zlong']\n",
    "zipcodes['zip'] = zipcodes['zip'].astype('string')\n",
    "sum(data.merge(zipcodes, how='left', on='zip')['zlat'].isna())"
   ]
  },
  {
   "cell_type": "markdown",
   "id": "d37061e2",
   "metadata": {},
   "source": [
    "After looking into building trees with spatial partition for efficient neighbor querying, I found a handy scipy package that implements this. Documentation can be found here: https://docs.scipy.org/doc/scipy/reference/generated/scipy.spatial.KDTree.html#scipy.spatial.KDTree."
   ]
  },
  {
   "cell_type": "code",
   "execution_count": 13,
   "id": "6f6e143c",
   "metadata": {},
   "outputs": [],
   "source": [
    "from scipy.spatial import KDTree\n",
    "tree_kd = KDTree(data[['lat', 'long']])"
   ]
  },
  {
   "cell_type": "markdown",
   "id": "73cecb2b",
   "metadata": {},
   "source": [
    "For the following function, I convert from km to latitude to provide a search value for the scipy KDTree package. I chose to use latitude arbitrarily as latitude and longitude have different values for the same distance (i.e. 10 miles does not have the same latitude and longitude value). Using only either latitude or longitude to calculate radius is somewhat inaccurate as described here: http://janmatuschek.de/LatitudeLongitudeBoundingCoordinates. However, as KDTree takes one radius value as input for query, I decided to move forward with this."
   ]
  },
  {
   "cell_type": "code",
   "execution_count": 14,
   "id": "0fb23023",
   "metadata": {},
   "outputs": [],
   "source": [
    "from math import cos, pi\n",
    "\n",
    "def dist_to_lat(dist, unit=\"kilometers\"):\n",
    "    if unit==\"miles\":\n",
    "        dist *= 1.60934\n",
    "    return dist*1.60934/110.574"
   ]
  },
  {
   "cell_type": "markdown",
   "id": "57ac33a4",
   "metadata": {},
   "source": [
    "## Testing Query"
   ]
  },
  {
   "cell_type": "markdown",
   "id": "e91521bf",
   "metadata": {},
   "source": [
    "Define zipcode and mile radius for search."
   ]
  },
  {
   "cell_type": "code",
   "execution_count": 15,
   "id": "bb2a31d6",
   "metadata": {},
   "outputs": [],
   "source": [
    "user_zip = '92804'\n",
    "user_zip_loc = zipcodes[zipcodes['zip'] == user_zip][['zlat', 'zlong']]\n",
    "miles_radius = 10"
   ]
  },
  {
   "cell_type": "markdown",
   "id": "14bf7f42",
   "metadata": {},
   "source": [
    "This uses the KDTree query."
   ]
  },
  {
   "cell_type": "code",
   "execution_count": 16,
   "id": "484b7d00",
   "metadata": {},
   "outputs": [],
   "source": [
    "query_kd = tree_kd.query_ball_point(user_zip_loc, dist_to_lat(miles_radius, unit=\"miles\"))\n",
    "kd_method = data.iloc[query_kd[0]]"
   ]
  },
  {
   "cell_type": "markdown",
   "id": "4d2dd6e6",
   "metadata": {},
   "source": [
    "This calculates the l2-norm distance between the provided zip code and every college in the dataframe."
   ]
  },
  {
   "cell_type": "code",
   "execution_count": 17,
   "id": "81e4ec82",
   "metadata": {},
   "outputs": [
    {
     "name": "stdout",
     "output_type": "stream",
     "text": [
      "            zlat       zlong\n",
      "30642  33.818271 -117.975017\n"
     ]
    }
   ],
   "source": [
    "curr_point = zipcodes[zipcodes['zip'] == user_zip][['zlat', 'zlong']]\n",
    "print(curr_point)\n",
    "lat = curr_point['zlat'].values[0]\n",
    "long = curr_point['zlong'].values[0]\n",
    "calc_method = data[np.sqrt((data['lat'] - lat)**2 + (data['long'] - long)**2) <= dist_to_lat(miles_radius, \"miles\")]"
   ]
  },
  {
   "cell_type": "markdown",
   "id": "7df4c949",
   "metadata": {},
   "source": [
    "Confirm that both methods provide the same results:"
   ]
  },
  {
   "cell_type": "code",
   "execution_count": 18,
   "id": "08cb3600",
   "metadata": {
    "scrolled": false
   },
   "outputs": [
    {
     "data": {
      "text/plain": [
       "name    0\n",
       "zip     0\n",
       "lat     0\n",
       "long    0\n",
       "dtype: int64"
      ]
     },
     "execution_count": 18,
     "metadata": {},
     "output_type": "execute_result"
    }
   ],
   "source": [
    "(kd_method != calc_method).sum()"
   ]
  },
  {
   "cell_type": "markdown",
   "id": "e265fd7d",
   "metadata": {},
   "source": [
    "## SKLearn's BallTree and KDTree"
   ]
  },
  {
   "cell_type": "markdown",
   "id": "555d644e",
   "metadata": {},
   "source": [
    "After discussing with Jordan, two issues came to light: 1. The ability to create custom distance functions and 2. Being able to alter top nearest neighbor choices based on different column weights. I decided to move forward looking into sci-kit learn's nearest neighbor and distance-based tree packages. First I compare the use of sci kit learn's distance-based tree package to see if its result is the same as KD Trees."
   ]
  },
  {
   "cell_type": "code",
   "execution_count": 19,
   "id": "a87d8722",
   "metadata": {},
   "outputs": [],
   "source": [
    "from sklearn.neighbors import BallTree\n",
    "from sklearn.neighbors import KDTree\n",
    "from sklearn.neighbors import DistanceMetric"
   ]
  },
  {
   "cell_type": "code",
   "execution_count": 20,
   "id": "ed1e66e6",
   "metadata": {},
   "outputs": [],
   "source": [
    "tree_sk = BallTree(data[['lat', 'long']])  "
   ]
  },
  {
   "cell_type": "code",
   "execution_count": 21,
   "id": "9970dab0",
   "metadata": {},
   "outputs": [
    {
     "data": {
      "text/plain": [
       "name    0\n",
       "zip     0\n",
       "lat     0\n",
       "long    0\n",
       "dtype: int64"
      ]
     },
     "execution_count": 21,
     "metadata": {},
     "output_type": "execute_result"
    }
   ],
   "source": [
    "query_sk = tree_sk.query_radius(user_zip_loc, dist_to_lat(miles_radius, unit=\"miles\"))\n",
    "sk_method = data.iloc[query_sk[0]]\n",
    "(sk_method.sort_index() != kd_method).sum()"
   ]
  },
  {
   "cell_type": "markdown",
   "id": "de8b7a2b",
   "metadata": {},
   "source": [
    "We will have to rebuild the tree every time we want to incorporate a new custom distance metric. I don't believe we'll use more than minowski distance but here I try a different distance metric (manhattan). Sklearn also provides a few metrics of there owns that we can use including (not surprisingly) manhattan."
   ]
  },
  {
   "cell_type": "code",
   "execution_count": 22,
   "id": "4b63fb86",
   "metadata": {},
   "outputs": [],
   "source": [
    "def manhattan(x, y):\n",
    "    return np.sum(np.absolute(x-y))"
   ]
  },
  {
   "cell_type": "code",
   "execution_count": 23,
   "id": "13ac3e98",
   "metadata": {},
   "outputs": [],
   "source": [
    "tree_sk_man = BallTree(data[['lat', 'long']], metric=manhattan)\n",
    "query_sk_man = tree_sk_man.query_radius(user_zip_loc, dist_to_lat(miles_radius, unit=\"miles\"))\n",
    "sk_man_method = data.iloc[query_sk_man[0]]"
   ]
  },
  {
   "cell_type": "code",
   "execution_count": 24,
   "id": "592b7bf4",
   "metadata": {},
   "outputs": [
    {
     "data": {
      "text/plain": [
       "name    0\n",
       "zip     0\n",
       "lat     0\n",
       "long    0\n",
       "dtype: int64"
      ]
     },
     "execution_count": 24,
     "metadata": {},
     "output_type": "execute_result"
    }
   ],
   "source": [
    "tree_man = BallTree(data[['lat', 'long']], metric=DistanceMetric.get_metric('manhattan'))\n",
    "query_man = tree_man.query_radius(user_zip_loc, dist_to_lat(miles_radius, unit=\"miles\"))\n",
    "man_method = data.iloc[query_man[0]]\n",
    "(sk_man_method != man_method).sum()"
   ]
  },
  {
   "cell_type": "markdown",
   "id": "2cbb0a43",
   "metadata": {},
   "source": [
    "Here I time the creation of new ball trees to see how inefficient it will be to recreate a new tree."
   ]
  },
  {
   "cell_type": "code",
   "execution_count": 25,
   "id": "ab3dddf6",
   "metadata": {},
   "outputs": [
    {
     "name": "stdout",
     "output_type": "stream",
     "text": [
      "CPU times: user 2.63 s, sys: 0 ns, total: 2.63 s\n",
      "Wall time: 2.63 s\n"
     ]
    }
   ],
   "source": [
    "%%time\n",
    "for i in range(1000):\n",
    "    BallTree(data[['lat', 'long']])"
   ]
  },
  {
   "cell_type": "code",
   "execution_count": 26,
   "id": "9b12702f",
   "metadata": {},
   "outputs": [
    {
     "name": "stdout",
     "output_type": "stream",
     "text": [
      "CPU times: user 2.77 s, sys: 0 ns, total: 2.77 s\n",
      "Wall time: 2.77 s\n"
     ]
    }
   ],
   "source": [
    "%%time\n",
    "for i in range(1000):\n",
    "    KDTree(data[['lat', 'long']])"
   ]
  },
  {
   "cell_type": "markdown",
   "id": "aef0874e",
   "metadata": {},
   "source": [
    "## SKLearn NN"
   ]
  },
  {
   "cell_type": "code",
   "execution_count": 2,
   "id": "0d08704d",
   "metadata": {},
   "outputs": [],
   "source": [
    "from sklearn.neighbors import NearestNeighbors"
   ]
  },
  {
   "cell_type": "code",
   "execution_count": 4,
   "id": "c5069c5f",
   "metadata": {},
   "outputs": [],
   "source": [
    "data = pd.read_csv('./data/scorecard/Most-Recent-Cohorts-Full.csv')\n",
    "columns = pd.read_excel('./data/scorecard/columns-simplified.xlsx')"
   ]
  },
  {
   "cell_type": "markdown",
   "id": "1a7ba8ed",
   "metadata": {},
   "source": [
    "I drop the irrelevant identification columns as well as change any privacy suppressed and nan values to 0 for now. We may want to figure out a better way to handle these values in the future."
   ]
  },
  {
   "cell_type": "code",
   "execution_count": 43,
   "id": "27e87d00",
   "metadata": {},
   "outputs": [
    {
     "name": "stderr",
     "output_type": "stream",
     "text": [
      "/home/huy/.local/lib/python3.8/site-packages/pandas/core/frame.py:4901: SettingWithCopyWarning: \n",
      "A value is trying to be set on a copy of a slice from a DataFrame\n",
      "\n",
      "See the caveats in the documentation: https://pandas.pydata.org/pandas-docs/stable/user_guide/indexing.html#returning-a-view-versus-a-copy\n",
      "  return super().drop(\n"
     ]
    }
   ],
   "source": [
    "simplified = data[list(columns['VARIABLE NAME'])]\n",
    "simplified.drop(['UNITID', 'INSTNM', 'INSTURL', 'CITY', 'STABBR', 'ZIP'], axis=1, inplace=True)"
   ]
  },
  {
   "cell_type": "code",
   "execution_count": 44,
   "id": "feeb67ef",
   "metadata": {},
   "outputs": [
    {
     "data": {
      "text/plain": [
       "Index(['COMP_ORIG_YR2_RT', 'COMP_ORIG_YR3_RT', 'COMP_ORIG_YR4_RT',\n",
       "       'COMP_ORIG_YR6_RT', 'COMP_ORIG_YR8_RT'],\n",
       "      dtype='object')"
      ]
     },
     "execution_count": 44,
     "metadata": {},
     "output_type": "execute_result"
    }
   ],
   "source": [
    "simplified.columns[(simplified == \"PrivacySuppressed\").any()]"
   ]
  },
  {
   "cell_type": "code",
   "execution_count": 45,
   "id": "19b05e15",
   "metadata": {},
   "outputs": [
    {
     "data": {
      "text/html": [
       "<div>\n",
       "<style scoped>\n",
       "    .dataframe tbody tr th:only-of-type {\n",
       "        vertical-align: middle;\n",
       "    }\n",
       "\n",
       "    .dataframe tbody tr th {\n",
       "        vertical-align: top;\n",
       "    }\n",
       "\n",
       "    .dataframe thead th {\n",
       "        text-align: right;\n",
       "    }\n",
       "</style>\n",
       "<table border=\"1\" class=\"dataframe\">\n",
       "  <thead>\n",
       "    <tr style=\"text-align: right;\">\n",
       "      <th></th>\n",
       "      <th>COMP_ORIG_YR2_RT</th>\n",
       "      <th>COMP_ORIG_YR3_RT</th>\n",
       "      <th>COMP_ORIG_YR4_RT</th>\n",
       "      <th>COMP_ORIG_YR6_RT</th>\n",
       "      <th>COMP_ORIG_YR8_RT</th>\n",
       "    </tr>\n",
       "  </thead>\n",
       "  <tbody>\n",
       "    <tr>\n",
       "      <th>0</th>\n",
       "      <td>0.036073329391</td>\n",
       "      <td>0.114434330299</td>\n",
       "      <td>0.210526315789</td>\n",
       "      <td>0.28077232502</td>\n",
       "      <td>0.314393939394</td>\n",
       "    </tr>\n",
       "    <tr>\n",
       "      <th>1</th>\n",
       "      <td>0.145747707872</td>\n",
       "      <td>0.327259204165</td>\n",
       "      <td>0.461707585196</td>\n",
       "      <td>0.53630239521</td>\n",
       "      <td>0.524893863373</td>\n",
       "    </tr>\n",
       "    <tr>\n",
       "      <th>2</th>\n",
       "      <td>PrivacySuppressed</td>\n",
       "      <td>0.0859375</td>\n",
       "      <td>0.162962962963</td>\n",
       "      <td>0.141463414634</td>\n",
       "      <td>0.239726027397</td>\n",
       "    </tr>\n",
       "    <tr>\n",
       "      <th>3</th>\n",
       "      <td>0.165609584214</td>\n",
       "      <td>0.313755795981</td>\n",
       "      <td>0.464680851064</td>\n",
       "      <td>0.529255319149</td>\n",
       "      <td>0.485385296723</td>\n",
       "    </tr>\n",
       "    <tr>\n",
       "      <th>4</th>\n",
       "      <td>0.026500389712</td>\n",
       "      <td>0.130295763389</td>\n",
       "      <td>0.237909516381</td>\n",
       "      <td>0.284132841328</td>\n",
       "      <td>0.266284896206</td>\n",
       "    </tr>\n",
       "    <tr>\n",
       "      <th>...</th>\n",
       "      <td>...</td>\n",
       "      <td>...</td>\n",
       "      <td>...</td>\n",
       "      <td>...</td>\n",
       "      <td>...</td>\n",
       "    </tr>\n",
       "    <tr>\n",
       "      <th>6689</th>\n",
       "      <td>0.136350857464</td>\n",
       "      <td>0.163543897216</td>\n",
       "      <td>0.17</td>\n",
       "      <td>0.160021124901</td>\n",
       "      <td>0.147801009373</td>\n",
       "    </tr>\n",
       "    <tr>\n",
       "      <th>6690</th>\n",
       "      <td>0.538461538462</td>\n",
       "      <td>0.457142857143</td>\n",
       "      <td>0.448979591837</td>\n",
       "      <td>PrivacySuppressed</td>\n",
       "      <td>PrivacySuppressed</td>\n",
       "    </tr>\n",
       "    <tr>\n",
       "      <th>6691</th>\n",
       "      <td>0.630136986301</td>\n",
       "      <td>PrivacySuppressed</td>\n",
       "      <td>PrivacySuppressed</td>\n",
       "      <td>PrivacySuppressed</td>\n",
       "      <td>PrivacySuppressed</td>\n",
       "    </tr>\n",
       "    <tr>\n",
       "      <th>6692</th>\n",
       "      <td>NaN</td>\n",
       "      <td>NaN</td>\n",
       "      <td>NaN</td>\n",
       "      <td>NaN</td>\n",
       "      <td>NaN</td>\n",
       "    </tr>\n",
       "    <tr>\n",
       "      <th>6693</th>\n",
       "      <td>NaN</td>\n",
       "      <td>NaN</td>\n",
       "      <td>NaN</td>\n",
       "      <td>NaN</td>\n",
       "      <td>NaN</td>\n",
       "    </tr>\n",
       "  </tbody>\n",
       "</table>\n",
       "<p>6694 rows × 5 columns</p>\n",
       "</div>"
      ],
      "text/plain": [
       "       COMP_ORIG_YR2_RT   COMP_ORIG_YR3_RT   COMP_ORIG_YR4_RT  \\\n",
       "0        0.036073329391     0.114434330299     0.210526315789   \n",
       "1        0.145747707872     0.327259204165     0.461707585196   \n",
       "2     PrivacySuppressed          0.0859375     0.162962962963   \n",
       "3        0.165609584214     0.313755795981     0.464680851064   \n",
       "4        0.026500389712     0.130295763389     0.237909516381   \n",
       "...                 ...                ...                ...   \n",
       "6689     0.136350857464     0.163543897216               0.17   \n",
       "6690     0.538461538462     0.457142857143     0.448979591837   \n",
       "6691     0.630136986301  PrivacySuppressed  PrivacySuppressed   \n",
       "6692                NaN                NaN                NaN   \n",
       "6693                NaN                NaN                NaN   \n",
       "\n",
       "       COMP_ORIG_YR6_RT   COMP_ORIG_YR8_RT  \n",
       "0         0.28077232502     0.314393939394  \n",
       "1         0.53630239521     0.524893863373  \n",
       "2        0.141463414634     0.239726027397  \n",
       "3        0.529255319149     0.485385296723  \n",
       "4        0.284132841328     0.266284896206  \n",
       "...                 ...                ...  \n",
       "6689     0.160021124901     0.147801009373  \n",
       "6690  PrivacySuppressed  PrivacySuppressed  \n",
       "6691  PrivacySuppressed  PrivacySuppressed  \n",
       "6692                NaN                NaN  \n",
       "6693                NaN                NaN  \n",
       "\n",
       "[6694 rows x 5 columns]"
      ]
     },
     "execution_count": 45,
     "metadata": {},
     "output_type": "execute_result"
    }
   ],
   "source": [
    "simplified[['COMP_ORIG_YR2_RT', 'COMP_ORIG_YR3_RT', 'COMP_ORIG_YR4_RT', 'COMP_ORIG_YR6_RT', 'COMP_ORIG_YR8_RT']]"
   ]
  },
  {
   "cell_type": "code",
   "execution_count": 46,
   "id": "f9dc968a",
   "metadata": {},
   "outputs": [
    {
     "name": "stderr",
     "output_type": "stream",
     "text": [
      "/home/huy/.local/lib/python3.8/site-packages/pandas/core/frame.py:5233: SettingWithCopyWarning: \n",
      "A value is trying to be set on a copy of a slice from a DataFrame\n",
      "\n",
      "See the caveats in the documentation: https://pandas.pydata.org/pandas-docs/stable/user_guide/indexing.html#returning-a-view-versus-a-copy\n",
      "  return super().replace(\n"
     ]
    }
   ],
   "source": [
    "simplified.replace(to_replace=\"PrivacySuppressed\", value = np.nan, inplace=True)\n",
    "simplified.replace(to_replace=np.nan, value=0, inplace=True)"
   ]
  },
  {
   "cell_type": "code",
   "execution_count": 47,
   "id": "10f51341",
   "metadata": {},
   "outputs": [
    {
     "data": {
      "text/html": [
       "<div>\n",
       "<style scoped>\n",
       "    .dataframe tbody tr th:only-of-type {\n",
       "        vertical-align: middle;\n",
       "    }\n",
       "\n",
       "    .dataframe tbody tr th {\n",
       "        vertical-align: top;\n",
       "    }\n",
       "\n",
       "    .dataframe thead th {\n",
       "        text-align: right;\n",
       "    }\n",
       "</style>\n",
       "<table border=\"1\" class=\"dataframe\">\n",
       "  <thead>\n",
       "    <tr style=\"text-align: right;\">\n",
       "      <th></th>\n",
       "      <th>COMP_ORIG_YR2_RT</th>\n",
       "      <th>COMP_ORIG_YR3_RT</th>\n",
       "      <th>COMP_ORIG_YR4_RT</th>\n",
       "      <th>COMP_ORIG_YR6_RT</th>\n",
       "      <th>COMP_ORIG_YR8_RT</th>\n",
       "    </tr>\n",
       "  </thead>\n",
       "  <tbody>\n",
       "    <tr>\n",
       "      <th>0</th>\n",
       "      <td>0.036073329391</td>\n",
       "      <td>0.114434330299</td>\n",
       "      <td>0.210526315789</td>\n",
       "      <td>0.28077232502</td>\n",
       "      <td>0.314393939394</td>\n",
       "    </tr>\n",
       "    <tr>\n",
       "      <th>1</th>\n",
       "      <td>0.145747707872</td>\n",
       "      <td>0.327259204165</td>\n",
       "      <td>0.461707585196</td>\n",
       "      <td>0.53630239521</td>\n",
       "      <td>0.524893863373</td>\n",
       "    </tr>\n",
       "    <tr>\n",
       "      <th>2</th>\n",
       "      <td>0</td>\n",
       "      <td>0.0859375</td>\n",
       "      <td>0.162962962963</td>\n",
       "      <td>0.141463414634</td>\n",
       "      <td>0.239726027397</td>\n",
       "    </tr>\n",
       "    <tr>\n",
       "      <th>3</th>\n",
       "      <td>0.165609584214</td>\n",
       "      <td>0.313755795981</td>\n",
       "      <td>0.464680851064</td>\n",
       "      <td>0.529255319149</td>\n",
       "      <td>0.485385296723</td>\n",
       "    </tr>\n",
       "    <tr>\n",
       "      <th>4</th>\n",
       "      <td>0.026500389712</td>\n",
       "      <td>0.130295763389</td>\n",
       "      <td>0.237909516381</td>\n",
       "      <td>0.284132841328</td>\n",
       "      <td>0.266284896206</td>\n",
       "    </tr>\n",
       "    <tr>\n",
       "      <th>...</th>\n",
       "      <td>...</td>\n",
       "      <td>...</td>\n",
       "      <td>...</td>\n",
       "      <td>...</td>\n",
       "      <td>...</td>\n",
       "    </tr>\n",
       "    <tr>\n",
       "      <th>6689</th>\n",
       "      <td>0.136350857464</td>\n",
       "      <td>0.163543897216</td>\n",
       "      <td>0.17</td>\n",
       "      <td>0.160021124901</td>\n",
       "      <td>0.147801009373</td>\n",
       "    </tr>\n",
       "    <tr>\n",
       "      <th>6690</th>\n",
       "      <td>0.538461538462</td>\n",
       "      <td>0.457142857143</td>\n",
       "      <td>0.448979591837</td>\n",
       "      <td>0</td>\n",
       "      <td>0</td>\n",
       "    </tr>\n",
       "    <tr>\n",
       "      <th>6691</th>\n",
       "      <td>0.630136986301</td>\n",
       "      <td>0</td>\n",
       "      <td>0</td>\n",
       "      <td>0</td>\n",
       "      <td>0</td>\n",
       "    </tr>\n",
       "    <tr>\n",
       "      <th>6692</th>\n",
       "      <td>0</td>\n",
       "      <td>0</td>\n",
       "      <td>0</td>\n",
       "      <td>0</td>\n",
       "      <td>0</td>\n",
       "    </tr>\n",
       "    <tr>\n",
       "      <th>6693</th>\n",
       "      <td>0</td>\n",
       "      <td>0</td>\n",
       "      <td>0</td>\n",
       "      <td>0</td>\n",
       "      <td>0</td>\n",
       "    </tr>\n",
       "  </tbody>\n",
       "</table>\n",
       "<p>6694 rows × 5 columns</p>\n",
       "</div>"
      ],
      "text/plain": [
       "     COMP_ORIG_YR2_RT COMP_ORIG_YR3_RT COMP_ORIG_YR4_RT COMP_ORIG_YR6_RT  \\\n",
       "0      0.036073329391   0.114434330299   0.210526315789    0.28077232502   \n",
       "1      0.145747707872   0.327259204165   0.461707585196    0.53630239521   \n",
       "2                   0        0.0859375   0.162962962963   0.141463414634   \n",
       "3      0.165609584214   0.313755795981   0.464680851064   0.529255319149   \n",
       "4      0.026500389712   0.130295763389   0.237909516381   0.284132841328   \n",
       "...               ...              ...              ...              ...   \n",
       "6689   0.136350857464   0.163543897216             0.17   0.160021124901   \n",
       "6690   0.538461538462   0.457142857143   0.448979591837                0   \n",
       "6691   0.630136986301                0                0                0   \n",
       "6692                0                0                0                0   \n",
       "6693                0                0                0                0   \n",
       "\n",
       "     COMP_ORIG_YR8_RT  \n",
       "0      0.314393939394  \n",
       "1      0.524893863373  \n",
       "2      0.239726027397  \n",
       "3      0.485385296723  \n",
       "4      0.266284896206  \n",
       "...               ...  \n",
       "6689   0.147801009373  \n",
       "6690                0  \n",
       "6691                0  \n",
       "6692                0  \n",
       "6693                0  \n",
       "\n",
       "[6694 rows x 5 columns]"
      ]
     },
     "execution_count": 47,
     "metadata": {},
     "output_type": "execute_result"
    }
   ],
   "source": [
    "simplified[['COMP_ORIG_YR2_RT', 'COMP_ORIG_YR3_RT', 'COMP_ORIG_YR4_RT', 'COMP_ORIG_YR6_RT', 'COMP_ORIG_YR8_RT']]"
   ]
  },
  {
   "cell_type": "code",
   "execution_count": 48,
   "id": "2f3ce16e",
   "metadata": {},
   "outputs": [
    {
     "data": {
      "text/plain": [
       "NearestNeighbors()"
      ]
     },
     "execution_count": 48,
     "metadata": {},
     "output_type": "execute_result"
    }
   ],
   "source": [
    "neigh = NearestNeighbors()\n",
    "neigh.fit(simplified)"
   ]
  },
  {
   "cell_type": "code",
   "execution_count": 49,
   "id": "a01728c0",
   "metadata": {},
   "outputs": [],
   "source": [
    "simplified = simplified.loc[:,~simplified.columns.duplicated()]"
   ]
  },
  {
   "cell_type": "code",
   "execution_count": 50,
   "id": "4494b1e2",
   "metadata": {},
   "outputs": [
    {
     "data": {
      "text/plain": [
       "NearestNeighbors()"
      ]
     },
     "execution_count": 50,
     "metadata": {},
     "output_type": "execute_result"
    }
   ],
   "source": [
    "neigh.fit(simplified[['CONTROL', 'LOCALE', 'CIP14BACHL']])"
   ]
  },
  {
   "cell_type": "code",
   "execution_count": 51,
   "id": "28e1f4bd",
   "metadata": {},
   "outputs": [],
   "source": [
    "college_query = neigh.kneighbors(pd.DataFrame([{'CONTROL': 0, 'LOCALE': 22, 'CIP14BACHL': 1}]), return_distance=False)"
   ]
  },
  {
   "cell_type": "code",
   "execution_count": 52,
   "id": "e4ac9b08",
   "metadata": {},
   "outputs": [
    {
     "data": {
      "text/html": [
       "<div>\n",
       "<style scoped>\n",
       "    .dataframe tbody tr th:only-of-type {\n",
       "        vertical-align: middle;\n",
       "    }\n",
       "\n",
       "    .dataframe tbody tr th {\n",
       "        vertical-align: top;\n",
       "    }\n",
       "\n",
       "    .dataframe thead th {\n",
       "        text-align: right;\n",
       "    }\n",
       "</style>\n",
       "<table border=\"1\" class=\"dataframe\">\n",
       "  <thead>\n",
       "    <tr style=\"text-align: right;\">\n",
       "      <th></th>\n",
       "      <th>UNITID</th>\n",
       "      <th>OPEID</th>\n",
       "      <th>OPEID6</th>\n",
       "      <th>INSTNM</th>\n",
       "      <th>CITY</th>\n",
       "      <th>STABBR</th>\n",
       "      <th>ZIP</th>\n",
       "      <th>ACCREDAGENCY</th>\n",
       "      <th>INSTURL</th>\n",
       "      <th>NPCURL</th>\n",
       "      <th>...</th>\n",
       "      <th>COUNT_WNE_MALE1_P8</th>\n",
       "      <th>MD_EARN_WNE_MALE1_P8</th>\n",
       "      <th>GT_THRESHOLD_P10</th>\n",
       "      <th>MD_EARN_WNE_INC1_P10</th>\n",
       "      <th>MD_EARN_WNE_INC2_P10</th>\n",
       "      <th>MD_EARN_WNE_INC3_P10</th>\n",
       "      <th>MD_EARN_WNE_INDEP1_P10</th>\n",
       "      <th>MD_EARN_WNE_INDEP0_P10</th>\n",
       "      <th>MD_EARN_WNE_MALE0_P10</th>\n",
       "      <th>MD_EARN_WNE_MALE1_P10</th>\n",
       "    </tr>\n",
       "  </thead>\n",
       "  <tbody>\n",
       "    <tr>\n",
       "      <th>1482</th>\n",
       "      <td>166692</td>\n",
       "      <td>218100</td>\n",
       "      <td>2181</td>\n",
       "      <td>Massachusetts Maritime Academy</td>\n",
       "      <td>Buzzards Bay</td>\n",
       "      <td>MA</td>\n",
       "      <td>02532-1803</td>\n",
       "      <td>New England Commission on Higher Education</td>\n",
       "      <td>https://www.maritime.edu/</td>\n",
       "      <td>https://www.maritime.edu/netprice/</td>\n",
       "      <td>...</td>\n",
       "      <td>50.0</td>\n",
       "      <td>77731.0</td>\n",
       "      <td>0.9153</td>\n",
       "      <td>NaN</td>\n",
       "      <td>NaN</td>\n",
       "      <td>107188.0</td>\n",
       "      <td>NaN</td>\n",
       "      <td>96539.0</td>\n",
       "      <td>NaN</td>\n",
       "      <td>NaN</td>\n",
       "    </tr>\n",
       "    <tr>\n",
       "      <th>2900</th>\n",
       "      <td>214591</td>\n",
       "      <td>332905</td>\n",
       "      <td>3329</td>\n",
       "      <td>Pennsylvania State University-Penn State Erie-...</td>\n",
       "      <td>Erie</td>\n",
       "      <td>PA</td>\n",
       "      <td>16563-0001</td>\n",
       "      <td>Middle States Commission on Higher Education</td>\n",
       "      <td>behrend.psu.edu/</td>\n",
       "      <td>tuition.psu.edu/CostEstimate.aspx</td>\n",
       "      <td>...</td>\n",
       "      <td>12228.0</td>\n",
       "      <td>58866.0</td>\n",
       "      <td>0.8214</td>\n",
       "      <td>48397.0</td>\n",
       "      <td>56055.0</td>\n",
       "      <td>66884.0</td>\n",
       "      <td>48950.0</td>\n",
       "      <td>59218.0</td>\n",
       "      <td>49994.0</td>\n",
       "      <td>66336.0</td>\n",
       "    </tr>\n",
       "    <tr>\n",
       "      <th>1518</th>\n",
       "      <td>167987</td>\n",
       "      <td>221000</td>\n",
       "      <td>2210</td>\n",
       "      <td>University of Massachusetts-Dartmouth</td>\n",
       "      <td>North Dartmouth</td>\n",
       "      <td>MA</td>\n",
       "      <td>02747-2300</td>\n",
       "      <td>New England Commission on Higher Education</td>\n",
       "      <td>www.umassd.edu/</td>\n",
       "      <td>https://umassd.studentaidcalculator.com/welcom...</td>\n",
       "      <td>...</td>\n",
       "      <td>128.0</td>\n",
       "      <td>54542.0</td>\n",
       "      <td>0.7889</td>\n",
       "      <td>54536.0</td>\n",
       "      <td>58193.0</td>\n",
       "      <td>63504.0</td>\n",
       "      <td>40750.0</td>\n",
       "      <td>60978.0</td>\n",
       "      <td>54123.0</td>\n",
       "      <td>69010.0</td>\n",
       "    </tr>\n",
       "    <tr>\n",
       "      <th>221</th>\n",
       "      <td>110705</td>\n",
       "      <td>132000</td>\n",
       "      <td>1320</td>\n",
       "      <td>University of California-Santa Barbara</td>\n",
       "      <td>Santa Barbara</td>\n",
       "      <td>CA</td>\n",
       "      <td>93106</td>\n",
       "      <td>Western Association of Schools and Colleges Se...</td>\n",
       "      <td>www.ucsb.edu/</td>\n",
       "      <td>finaid.ucsb.edu/net-price-calculator</td>\n",
       "      <td>...</td>\n",
       "      <td>2359.0</td>\n",
       "      <td>64209.0</td>\n",
       "      <td>0.8453</td>\n",
       "      <td>60925.0</td>\n",
       "      <td>67183.0</td>\n",
       "      <td>71665.0</td>\n",
       "      <td>58764.0</td>\n",
       "      <td>67149.0</td>\n",
       "      <td>64201.0</td>\n",
       "      <td>69859.0</td>\n",
       "    </tr>\n",
       "    <tr>\n",
       "      <th>2613</th>\n",
       "      <td>204839</td>\n",
       "      <td>310004</td>\n",
       "      <td>3100</td>\n",
       "      <td>Ohio University-Southern Campus</td>\n",
       "      <td>Ironton</td>\n",
       "      <td>OH</td>\n",
       "      <td>45638</td>\n",
       "      <td>Higher Learning Commission</td>\n",
       "      <td>https://www.ohio.edu/southern/</td>\n",
       "      <td>https://npc.collegeboard.org/app/ohio</td>\n",
       "      <td>...</td>\n",
       "      <td>4562.0</td>\n",
       "      <td>46751.0</td>\n",
       "      <td>0.7386</td>\n",
       "      <td>35953.0</td>\n",
       "      <td>46943.0</td>\n",
       "      <td>56032.0</td>\n",
       "      <td>35699.0</td>\n",
       "      <td>49460.0</td>\n",
       "      <td>42012.0</td>\n",
       "      <td>54537.0</td>\n",
       "    </tr>\n",
       "  </tbody>\n",
       "</table>\n",
       "<p>5 rows × 2989 columns</p>\n",
       "</div>"
      ],
      "text/plain": [
       "      UNITID   OPEID  OPEID6  \\\n",
       "1482  166692  218100    2181   \n",
       "2900  214591  332905    3329   \n",
       "1518  167987  221000    2210   \n",
       "221   110705  132000    1320   \n",
       "2613  204839  310004    3100   \n",
       "\n",
       "                                                 INSTNM             CITY  \\\n",
       "1482                     Massachusetts Maritime Academy     Buzzards Bay   \n",
       "2900  Pennsylvania State University-Penn State Erie-...             Erie   \n",
       "1518              University of Massachusetts-Dartmouth  North Dartmouth   \n",
       "221              University of California-Santa Barbara    Santa Barbara   \n",
       "2613                    Ohio University-Southern Campus          Ironton   \n",
       "\n",
       "     STABBR         ZIP                                       ACCREDAGENCY  \\\n",
       "1482     MA  02532-1803         New England Commission on Higher Education   \n",
       "2900     PA  16563-0001       Middle States Commission on Higher Education   \n",
       "1518     MA  02747-2300         New England Commission on Higher Education   \n",
       "221      CA       93106  Western Association of Schools and Colleges Se...   \n",
       "2613     OH       45638                         Higher Learning Commission   \n",
       "\n",
       "                             INSTURL  \\\n",
       "1482       https://www.maritime.edu/   \n",
       "2900                behrend.psu.edu/   \n",
       "1518                 www.umassd.edu/   \n",
       "221                    www.ucsb.edu/   \n",
       "2613  https://www.ohio.edu/southern/   \n",
       "\n",
       "                                                 NPCURL  ...  \\\n",
       "1482                 https://www.maritime.edu/netprice/  ...   \n",
       "2900                  tuition.psu.edu/CostEstimate.aspx  ...   \n",
       "1518  https://umassd.studentaidcalculator.com/welcom...  ...   \n",
       "221                finaid.ucsb.edu/net-price-calculator  ...   \n",
       "2613              https://npc.collegeboard.org/app/ohio  ...   \n",
       "\n",
       "      COUNT_WNE_MALE1_P8  MD_EARN_WNE_MALE1_P8  GT_THRESHOLD_P10  \\\n",
       "1482                50.0               77731.0            0.9153   \n",
       "2900             12228.0               58866.0            0.8214   \n",
       "1518               128.0               54542.0            0.7889   \n",
       "221               2359.0               64209.0            0.8453   \n",
       "2613              4562.0               46751.0            0.7386   \n",
       "\n",
       "      MD_EARN_WNE_INC1_P10  MD_EARN_WNE_INC2_P10  MD_EARN_WNE_INC3_P10  \\\n",
       "1482                   NaN                   NaN              107188.0   \n",
       "2900               48397.0               56055.0               66884.0   \n",
       "1518               54536.0               58193.0               63504.0   \n",
       "221                60925.0               67183.0               71665.0   \n",
       "2613               35953.0               46943.0               56032.0   \n",
       "\n",
       "      MD_EARN_WNE_INDEP1_P10  MD_EARN_WNE_INDEP0_P10  MD_EARN_WNE_MALE0_P10  \\\n",
       "1482                     NaN                 96539.0                    NaN   \n",
       "2900                 48950.0                 59218.0                49994.0   \n",
       "1518                 40750.0                 60978.0                54123.0   \n",
       "221                  58764.0                 67149.0                64201.0   \n",
       "2613                 35699.0                 49460.0                42012.0   \n",
       "\n",
       "      MD_EARN_WNE_MALE1_P10  \n",
       "1482                    NaN  \n",
       "2900                66336.0  \n",
       "1518                69010.0  \n",
       "221                 69859.0  \n",
       "2613                54537.0  \n",
       "\n",
       "[5 rows x 2989 columns]"
      ]
     },
     "execution_count": 52,
     "metadata": {},
     "output_type": "execute_result"
    }
   ],
   "source": [
    "data.iloc[college_query[0]]"
   ]
  },
  {
   "cell_type": "markdown",
   "id": "4a60a4b5",
   "metadata": {},
   "source": [
    "Rebuilding the nearest neighbor model is significantly slower than the kdtree or balltree models. However, it may still be fast enough for our use in the project."
   ]
  },
  {
   "cell_type": "code",
   "execution_count": 53,
   "id": "1a25489a",
   "metadata": {
    "scrolled": true
   },
   "outputs": [
    {
     "name": "stdout",
     "output_type": "stream",
     "text": [
      "CPU times: user 3.77 s, sys: 0 ns, total: 3.77 s\n",
      "Wall time: 3.76 s\n"
     ]
    }
   ],
   "source": [
    "%%time\n",
    "for i in range(100):\n",
    "    neigh = NearestNeighbors()\n",
    "    neigh.fit(simplified)"
   ]
  },
  {
   "cell_type": "markdown",
   "id": "365c8602",
   "metadata": {},
   "source": [
    "### Example Filter and Query"
   ]
  },
  {
   "cell_type": "code",
   "execution_count": 109,
   "id": "3b62902f",
   "metadata": {},
   "outputs": [],
   "source": [
    "### Basic Information\n",
    "\n",
    "## Input zip -> string\n",
    "user_zip = '92804'\n",
    "\n",
    "## Checkbox of the provided majors -> list\n",
    "degree = ['Engineering', 'Psychology']\n",
    "\n",
    "## Slider -> tuple of ints\n",
    "cost_range = (10000, 20000)\n",
    "\n",
    "## Dropdown of public, private, or both -> string\n",
    "control = \"Public\""
   ]
  },
  {
   "cell_type": "code",
   "execution_count": 103,
   "id": "9d9a1951",
   "metadata": {},
   "outputs": [],
   "source": [
    "## Dropdown of 10, 25, 50, 100, All (None) -> int\n",
    "miles_radius = 25\n",
    "\n",
    "## Checkbox certain states -> list of string\n",
    "states = [\"CA\", \"NY\", \"OR\", \"PA\", \"WA\"]\n",
    "\n",
    "##\n",
    "weather = []\n",
    "\n",
    "## Dropdown of religious affiliation or None -> string\n",
    "religious_affiliation = None\n",
    "\n",
    "## Checkbox of setting type urban, rural, suburban -> list of string\n",
    "environment = []"
   ]
  },
  {
   "cell_type": "code",
   "execution_count": 57,
   "id": "d44e715e",
   "metadata": {},
   "outputs": [
    {
     "name": "stderr",
     "output_type": "stream",
     "text": [
      "/home/huy/.local/lib/python3.8/site-packages/IPython/core/interactiveshell.py:3441: DtypeWarning: Columns (6,9,1351,1352,1353,1354,1355,1356,1357,1358,1359,1360,1361,1362,1363,1364,1365,1379,1393,1394,1395,1396,1397,1398,1399,1400,1401,1402,1403,1404,1405,1406,1407,1408,1409,1410,1412,1413,1427,1428,1431,1432,1503,1517,1532,1533,1534,1535,1536,1537,1538,1539,1540,1542,1543,1544,1545,1546,1547,1548,1549,1550,1551,1552,1553,1554,1555,1556,1557,1558,1559,1560,1561,1567,1568,1573,1574,1575,1576,1577,1581,1582,1587,1588,1589,1590,1591,1592,1593,1594,1595,1596,1597,1598,1599,1600,1601,1602,1604,1605,1606,1608,1610,1611,1614,1615,1616,1619,1620,1621,1622,1623,1624,1625,1626,1627,1628,1629,1636,1638,1640,1643,1644,1648,1653,1654,1655,1656,1657,1658,1659,1660,1661,1662,1664,1666,1669,1670,1674,1679,1680,1681,1682,1683,1684,1685,1686,1687,1688,1689,1690,1691,1692,1693,1695,1697,1700,1701,1702,1703,1704,1705,1706,1707,1711,1725,1726,1727,1728,1729,1743,1815,1816,1817,1818,1823,1824,1830,1831,1844,1845,1846,1879,1880,1881,1882,1883,1884,1885,1886,1887,1888,1889,1890,1891,1892,1893,1894,1895,1896,1897,1898,1909,1910,1911,1912,1913,1957,1958,1959,1960,1961,1962,1963,1964,1965,1966,1967,1968,1969,1970,1971,1972,1973,1974,1975,1976,1983,1984,2376,2377,2393,2403,2404,2495,2496,2497,2498,2499,2500,2501,2502,2503,2504,2505,2506,2507,2508,2509,2510,2511,2512,2513,2514,2515,2516,2517,2518,2519,2520,2521,2522,2523,2524,2525,2526,2527,2528,2529,2530,2855,2958) have mixed types.Specify dtype option on import or set low_memory=False.\n",
      "  exec(code_obj, self.user_global_ns, self.user_ns)\n",
      "/home/huy/.local/lib/python3.8/site-packages/pandas/core/frame.py:5233: SettingWithCopyWarning: \n",
      "A value is trying to be set on a copy of a slice from a DataFrame\n",
      "\n",
      "See the caveats in the documentation: https://pandas.pydata.org/pandas-docs/stable/user_guide/indexing.html#returning-a-view-versus-a-copy\n",
      "  return super().replace(\n"
     ]
    }
   ],
   "source": [
    "data = pd.read_csv('./data/scorecard/Most-Recent-Cohorts-Full.csv')\n",
    "columns = pd.read_excel('./data/scorecard/columns-simplified.xlsx')\n",
    "\n",
    "simplified = data[list(columns['VARIABLE NAME'])]\n",
    "\n",
    "## Figure out what we want to do with privacy suppressed and nan values later\n",
    "simplified.replace(to_replace=\"PrivacySuppressed\", value = np.nan, inplace=True)\n",
    "simplified.replace(to_replace=np.nan, value=0, inplace=True)\n",
    "simplified = simplified.loc[:,~simplified.columns.duplicated()]"
   ]
  },
  {
   "cell_type": "code",
   "execution_count": 58,
   "id": "6bd75778",
   "metadata": {},
   "outputs": [],
   "source": [
    "## Description: Finds colleges within a specified radius in miles of the provided zip code\n",
    "## Inputs:\n",
    "##   df - dataframe of college data\n",
    "##   user_zip - provided zipcode\n",
    "##   zip_to_lat - dataframe converting zipcodes to latitude/longitude\n",
    "##   miles - radius in miles around user_zip, if none returns all colleges\n",
    "## Outputs:\n",
    "##   returns filtered college dataframe based on location\n",
    "\n",
    "def radius_filter(df, user_zip, zip_to_lat, miles = None):\n",
    "    if not miles:\n",
    "        return df\n",
    "    \n",
    "    user_zip_loc = zip_to_lat[zip_to_lat['zip'] == user_zip][['zlat', 'zlong']]\n",
    "    \n",
    "    if user_zip_loc.empty:\n",
    "        raise ValueError('Invalid zipcode input')\n",
    "    \n",
    "    tree = BallTree(df[['LATITUDE', 'LONGITUDE']])  \n",
    "    query = tree.query_radius(user_zip_loc, (miles*1.60934/110.574))\n",
    "    return df.iloc[query[0]]"
   ]
  },
  {
   "cell_type": "code",
   "execution_count": 59,
   "id": "418c62d3",
   "metadata": {},
   "outputs": [],
   "source": [
    "## Description: Finds the corresponding column name for the provided degrees and returns them as a list.\n",
    "##              If no degree is specified, returns all the column names.\n",
    "## Inputs:\n",
    "##   df - dataframe of college data\n",
    "##   columns - dataframe from columns-simplified.xlsx without modifications\n",
    "##   degree - list of interested majors\n",
    "## Outputs:\n",
    "##   returns filtered college dataframe based on interested majors\n",
    "\n",
    "def degree_filter(df, columns, degree):\n",
    "    \n",
    "    temp_col = columns[columns['VARIABLE NAME'].str.contains('CIP')]\n",
    "    var_name = temp_col['VARIABLE NAME']\n",
    "    var_name = var_name.astype('string')\n",
    "    \n",
    "    deg_cols = []\n",
    "    if not degree:\n",
    "        deg_cols = list(var_name)\n",
    "    else:\n",
    "        if type(degree) != list:\n",
    "            raise TypeError(\"degree input must be a list\")\n",
    "        degs = temp_col['NAME OF DATA ELEMENT'].str.split('Bachelor\\'s degree in ', expand=True).iloc[:,1]\n",
    "        degs = degs.str.split('.', expand=True).iloc[:,0]\n",
    "        degs = degs.astype('string')\n",
    "        degree_dict = dict(zip(degs, var_name))\n",
    "        for deg in degree:\n",
    "            deg_cols.append(degree_dict[deg])\n",
    "    print(deg_cols)\n",
    "    return df[df[deg_cols].all(axis=1)]"
   ]
  },
  {
   "cell_type": "code",
   "execution_count": 92,
   "id": "d58ade3d",
   "metadata": {},
   "outputs": [],
   "source": [
    "## Description: Finds colleges which are within the specified cost range. Uses average cost of attendance \n",
    "##              which contains tuition and fees, books and supplies, and living expenses. Does not take\n",
    "##              into account in-state vs. out-of-state.\n",
    "## Inputs:\n",
    "##   df - dataframe of college data\n",
    "##   cost_range - tuple of cost ranges\n",
    "## Outputs:\n",
    "##   returns filtered college dataframe based on cost range\n",
    "def cost_filter(df, cost_range=(0,0)):\n",
    "    if cost_range == (0,0):\n",
    "        return df\n",
    "    return df[(df['COSTT4_A'] >= cost_range[0]) & (df['COSTT4_A'] <= cost_range[1])]"
   ]
  },
  {
   "cell_type": "code",
   "execution_count": 91,
   "id": "1456148b",
   "metadata": {},
   "outputs": [],
   "source": [
    "## Description: Finds colleges within a list of colleges.\n",
    "## Inputs:\n",
    "##   df - dataframe of college data\n",
    "##   states - a list of state abbreviations (can be empty)\n",
    "## Outputs:\n",
    "##   returns filtered college dataframe based on state selection\n",
    "def states_filter(df, states=[]):\n",
    "    if len(states) == 0:\n",
    "        return df\n",
    "    return df[df['STABBR'].isin(states)]"
   ]
  },
  {
   "cell_type": "code",
   "execution_count": 98,
   "id": "929e8f8e",
   "metadata": {},
   "outputs": [],
   "source": [
    "## Description: Finds colleges based on private or public.\n",
    "## Inputs:\n",
    "##   df - dataframe of college data\n",
    "##   control - a string denoting Public, Private, or Both\n",
    "## Outputs:\n",
    "##   returns filtered college dataframe based on control\n",
    "def control_filter(df, control=\"Both\"):\n",
    "    if control == \"Public\":\n",
    "        return df[df['CONTROL'] == 1]\n",
    "    elif control == \"Private\":\n",
    "        return df[df['CONTROL'] != 1]\n",
    "    elif control == \"Both\":\n",
    "        return df\n",
    "    else:\n",
    "        raise ValueError('Control must be either Public, Private, or Both')"
   ]
  },
  {
   "cell_type": "code",
   "execution_count": 110,
   "id": "1d59e62e",
   "metadata": {
    "scrolled": false
   },
   "outputs": [
    {
     "name": "stdout",
     "output_type": "stream",
     "text": [
      "['CIP14BACHL', 'CIP42BACHL']\n"
     ]
    },
    {
     "data": {
      "text/html": [
       "<div>\n",
       "<style scoped>\n",
       "    .dataframe tbody tr th:only-of-type {\n",
       "        vertical-align: middle;\n",
       "    }\n",
       "\n",
       "    .dataframe tbody tr th {\n",
       "        vertical-align: top;\n",
       "    }\n",
       "\n",
       "    .dataframe thead th {\n",
       "        text-align: right;\n",
       "    }\n",
       "</style>\n",
       "<table border=\"1\" class=\"dataframe\">\n",
       "  <thead>\n",
       "    <tr style=\"text-align: right;\">\n",
       "      <th></th>\n",
       "      <th>UNITID</th>\n",
       "      <th>INSTNM</th>\n",
       "      <th>CITY</th>\n",
       "      <th>STABBR</th>\n",
       "      <th>ZIP</th>\n",
       "      <th>INSTURL</th>\n",
       "      <th>MAIN</th>\n",
       "      <th>NUMBRANCH</th>\n",
       "      <th>PREDDEG</th>\n",
       "      <th>HIGHDEG</th>\n",
       "      <th>...</th>\n",
       "      <th>MD_EARN_WNE_P6</th>\n",
       "      <th>PCT25_EARN_WNE_P6</th>\n",
       "      <th>PCT75_EARN_WNE_P6</th>\n",
       "      <th>COUNT_NWNE_1YR</th>\n",
       "      <th>COUNT_WNE_1YR</th>\n",
       "      <th>BOOKSUPPLY</th>\n",
       "      <th>ROOMBOARD_ON</th>\n",
       "      <th>OTHEREXPENSE_ON</th>\n",
       "      <th>ROOMBOARD_OFF</th>\n",
       "      <th>OTHEREXPENSE_OFF</th>\n",
       "    </tr>\n",
       "  </thead>\n",
       "  <tbody>\n",
       "    <tr>\n",
       "      <th>201</th>\n",
       "      <td>110486</td>\n",
       "      <td>California State University-Bakersfield</td>\n",
       "      <td>Bakersfield</td>\n",
       "      <td>CA</td>\n",
       "      <td>93311-1099</td>\n",
       "      <td>www.csub.edu/</td>\n",
       "      <td>1</td>\n",
       "      <td>1</td>\n",
       "      <td>3</td>\n",
       "      <td>4</td>\n",
       "      <td>...</td>\n",
       "      <td>40335.0</td>\n",
       "      <td>24507.0</td>\n",
       "      <td>61339.0</td>\n",
       "      <td>59.0</td>\n",
       "      <td>844.0</td>\n",
       "      <td>2058.0</td>\n",
       "      <td>12900.0</td>\n",
       "      <td>2654.0</td>\n",
       "      <td>13215.0</td>\n",
       "      <td>3283.0</td>\n",
       "    </tr>\n",
       "    <tr>\n",
       "      <th>203</th>\n",
       "      <td>110510</td>\n",
       "      <td>California State University-San Bernardino</td>\n",
       "      <td>San Bernardino</td>\n",
       "      <td>CA</td>\n",
       "      <td>92407-2393</td>\n",
       "      <td>www.csusb.edu/</td>\n",
       "      <td>1</td>\n",
       "      <td>1</td>\n",
       "      <td>3</td>\n",
       "      <td>4</td>\n",
       "      <td>...</td>\n",
       "      <td>42079.0</td>\n",
       "      <td>26404.0</td>\n",
       "      <td>61848.0</td>\n",
       "      <td>282.0</td>\n",
       "      <td>4377.0</td>\n",
       "      <td>1971.0</td>\n",
       "      <td>13435.0</td>\n",
       "      <td>2568.0</td>\n",
       "      <td>16189.0</td>\n",
       "      <td>2982.0</td>\n",
       "    </tr>\n",
       "    <tr>\n",
       "      <th>207</th>\n",
       "      <td>110556</td>\n",
       "      <td>California State University-Fresno</td>\n",
       "      <td>Fresno</td>\n",
       "      <td>CA</td>\n",
       "      <td>93740</td>\n",
       "      <td>www.fresnostate.edu/</td>\n",
       "      <td>1</td>\n",
       "      <td>1</td>\n",
       "      <td>3</td>\n",
       "      <td>4</td>\n",
       "      <td>...</td>\n",
       "      <td>42306.0</td>\n",
       "      <td>26662.0</td>\n",
       "      <td>61240.0</td>\n",
       "      <td>268.0</td>\n",
       "      <td>4763.0</td>\n",
       "      <td>1972.0</td>\n",
       "      <td>10587.0</td>\n",
       "      <td>2568.0</td>\n",
       "      <td>15084.0</td>\n",
       "      <td>2982.0</td>\n",
       "    </tr>\n",
       "    <tr>\n",
       "      <th>208</th>\n",
       "      <td>110565</td>\n",
       "      <td>California State University-Fullerton</td>\n",
       "      <td>Fullerton</td>\n",
       "      <td>CA</td>\n",
       "      <td>92831-3599</td>\n",
       "      <td>www.fullerton.edu/</td>\n",
       "      <td>1</td>\n",
       "      <td>1</td>\n",
       "      <td>3</td>\n",
       "      <td>4</td>\n",
       "      <td>...</td>\n",
       "      <td>45657.0</td>\n",
       "      <td>29559.0</td>\n",
       "      <td>64185.0</td>\n",
       "      <td>574.0</td>\n",
       "      <td>9742.0</td>\n",
       "      <td>2058.0</td>\n",
       "      <td>15852.0</td>\n",
       "      <td>3209.0</td>\n",
       "      <td>16189.0</td>\n",
       "      <td>3283.0</td>\n",
       "    </tr>\n",
       "    <tr>\n",
       "      <th>210</th>\n",
       "      <td>110583</td>\n",
       "      <td>California State University-Long Beach</td>\n",
       "      <td>Long Beach</td>\n",
       "      <td>CA</td>\n",
       "      <td>90840-0115</td>\n",
       "      <td>www.csulb.edu/</td>\n",
       "      <td>1</td>\n",
       "      <td>1</td>\n",
       "      <td>3</td>\n",
       "      <td>4</td>\n",
       "      <td>...</td>\n",
       "      <td>46059.0</td>\n",
       "      <td>29143.0</td>\n",
       "      <td>65942.0</td>\n",
       "      <td>605.0</td>\n",
       "      <td>9941.0</td>\n",
       "      <td>2058.0</td>\n",
       "      <td>13158.0</td>\n",
       "      <td>3208.0</td>\n",
       "      <td>15056.0</td>\n",
       "      <td>3282.0</td>\n",
       "    </tr>\n",
       "    <tr>\n",
       "      <th>211</th>\n",
       "      <td>110592</td>\n",
       "      <td>California State University-Los Angeles</td>\n",
       "      <td>Los Angeles</td>\n",
       "      <td>CA</td>\n",
       "      <td>90032-8506</td>\n",
       "      <td>www.calstatela.edu/</td>\n",
       "      <td>1</td>\n",
       "      <td>1</td>\n",
       "      <td>3</td>\n",
       "      <td>4</td>\n",
       "      <td>...</td>\n",
       "      <td>42517.0</td>\n",
       "      <td>26698.0</td>\n",
       "      <td>60696.0</td>\n",
       "      <td>357.0</td>\n",
       "      <td>5562.0</td>\n",
       "      <td>2058.0</td>\n",
       "      <td>15992.0</td>\n",
       "      <td>3209.0</td>\n",
       "      <td>16189.0</td>\n",
       "      <td>3283.0</td>\n",
       "    </tr>\n",
       "    <tr>\n",
       "      <th>212</th>\n",
       "      <td>110608</td>\n",
       "      <td>California State University-Northridge</td>\n",
       "      <td>Northridge</td>\n",
       "      <td>CA</td>\n",
       "      <td>91330</td>\n",
       "      <td>https://www.csun.edu/</td>\n",
       "      <td>1</td>\n",
       "      <td>1</td>\n",
       "      <td>3</td>\n",
       "      <td>4</td>\n",
       "      <td>...</td>\n",
       "      <td>42178.0</td>\n",
       "      <td>26196.0</td>\n",
       "      <td>61095.0</td>\n",
       "      <td>571.0</td>\n",
       "      <td>9351.0</td>\n",
       "      <td>2058.0</td>\n",
       "      <td>11328.0</td>\n",
       "      <td>3282.0</td>\n",
       "      <td>16188.0</td>\n",
       "      <td>3282.0</td>\n",
       "    </tr>\n",
       "    <tr>\n",
       "      <th>2118</th>\n",
       "      <td>190512</td>\n",
       "      <td>CUNY Bernard M Baruch College</td>\n",
       "      <td>New York</td>\n",
       "      <td>NY</td>\n",
       "      <td>10010</td>\n",
       "      <td>www.baruch.cuny.edu/</td>\n",
       "      <td>1</td>\n",
       "      <td>1</td>\n",
       "      <td>3</td>\n",
       "      <td>4</td>\n",
       "      <td>...</td>\n",
       "      <td>55554.0</td>\n",
       "      <td>33797.0</td>\n",
       "      <td>77245.0</td>\n",
       "      <td>274.0</td>\n",
       "      <td>4247.0</td>\n",
       "      <td>1364.0</td>\n",
       "      <td>18953.0</td>\n",
       "      <td>5504.0</td>\n",
       "      <td>15577.0</td>\n",
       "      <td>5504.0</td>\n",
       "    </tr>\n",
       "    <tr>\n",
       "      <th>2122</th>\n",
       "      <td>190558</td>\n",
       "      <td>College of Staten Island CUNY</td>\n",
       "      <td>Staten Island</td>\n",
       "      <td>NY</td>\n",
       "      <td>10314</td>\n",
       "      <td>www.csi.cuny.edu/</td>\n",
       "      <td>1</td>\n",
       "      <td>1</td>\n",
       "      <td>3</td>\n",
       "      <td>4</td>\n",
       "      <td>...</td>\n",
       "      <td>39590.0</td>\n",
       "      <td>22466.0</td>\n",
       "      <td>61494.0</td>\n",
       "      <td>152.0</td>\n",
       "      <td>1660.0</td>\n",
       "      <td>1364.0</td>\n",
       "      <td>18695.0</td>\n",
       "      <td>5504.0</td>\n",
       "      <td>15577.0</td>\n",
       "      <td>5504.0</td>\n",
       "    </tr>\n",
       "    <tr>\n",
       "      <th>2123</th>\n",
       "      <td>190567</td>\n",
       "      <td>CUNY City College</td>\n",
       "      <td>New York</td>\n",
       "      <td>NY</td>\n",
       "      <td>10031</td>\n",
       "      <td>www.ccny.cuny.edu/</td>\n",
       "      <td>1</td>\n",
       "      <td>1</td>\n",
       "      <td>3</td>\n",
       "      <td>4</td>\n",
       "      <td>...</td>\n",
       "      <td>45588.0</td>\n",
       "      <td>26539.0</td>\n",
       "      <td>66257.0</td>\n",
       "      <td>188.0</td>\n",
       "      <td>2769.0</td>\n",
       "      <td>1364.0</td>\n",
       "      <td>16164.0</td>\n",
       "      <td>5504.0</td>\n",
       "      <td>15577.0</td>\n",
       "      <td>5504.0</td>\n",
       "    </tr>\n",
       "  </tbody>\n",
       "</table>\n",
       "<p>10 rows × 127 columns</p>\n",
       "</div>"
      ],
      "text/plain": [
       "      UNITID                                      INSTNM            CITY  \\\n",
       "201   110486     California State University-Bakersfield     Bakersfield   \n",
       "203   110510  California State University-San Bernardino  San Bernardino   \n",
       "207   110556          California State University-Fresno          Fresno   \n",
       "208   110565       California State University-Fullerton       Fullerton   \n",
       "210   110583      California State University-Long Beach      Long Beach   \n",
       "211   110592     California State University-Los Angeles     Los Angeles   \n",
       "212   110608      California State University-Northridge      Northridge   \n",
       "2118  190512               CUNY Bernard M Baruch College        New York   \n",
       "2122  190558               College of Staten Island CUNY   Staten Island   \n",
       "2123  190567                           CUNY City College        New York   \n",
       "\n",
       "     STABBR         ZIP                INSTURL  MAIN  NUMBRANCH  PREDDEG  \\\n",
       "201      CA  93311-1099          www.csub.edu/     1          1        3   \n",
       "203      CA  92407-2393         www.csusb.edu/     1          1        3   \n",
       "207      CA       93740   www.fresnostate.edu/     1          1        3   \n",
       "208      CA  92831-3599     www.fullerton.edu/     1          1        3   \n",
       "210      CA  90840-0115         www.csulb.edu/     1          1        3   \n",
       "211      CA  90032-8506    www.calstatela.edu/     1          1        3   \n",
       "212      CA       91330  https://www.csun.edu/     1          1        3   \n",
       "2118     NY       10010   www.baruch.cuny.edu/     1          1        3   \n",
       "2122     NY       10314      www.csi.cuny.edu/     1          1        3   \n",
       "2123     NY       10031     www.ccny.cuny.edu/     1          1        3   \n",
       "\n",
       "      HIGHDEG  ...  MD_EARN_WNE_P6  PCT25_EARN_WNE_P6  PCT75_EARN_WNE_P6  \\\n",
       "201         4  ...         40335.0            24507.0            61339.0   \n",
       "203         4  ...         42079.0            26404.0            61848.0   \n",
       "207         4  ...         42306.0            26662.0            61240.0   \n",
       "208         4  ...         45657.0            29559.0            64185.0   \n",
       "210         4  ...         46059.0            29143.0            65942.0   \n",
       "211         4  ...         42517.0            26698.0            60696.0   \n",
       "212         4  ...         42178.0            26196.0            61095.0   \n",
       "2118        4  ...         55554.0            33797.0            77245.0   \n",
       "2122        4  ...         39590.0            22466.0            61494.0   \n",
       "2123        4  ...         45588.0            26539.0            66257.0   \n",
       "\n",
       "      COUNT_NWNE_1YR  COUNT_WNE_1YR  BOOKSUPPLY  ROOMBOARD_ON  \\\n",
       "201             59.0          844.0      2058.0       12900.0   \n",
       "203            282.0         4377.0      1971.0       13435.0   \n",
       "207            268.0         4763.0      1972.0       10587.0   \n",
       "208            574.0         9742.0      2058.0       15852.0   \n",
       "210            605.0         9941.0      2058.0       13158.0   \n",
       "211            357.0         5562.0      2058.0       15992.0   \n",
       "212            571.0         9351.0      2058.0       11328.0   \n",
       "2118           274.0         4247.0      1364.0       18953.0   \n",
       "2122           152.0         1660.0      1364.0       18695.0   \n",
       "2123           188.0         2769.0      1364.0       16164.0   \n",
       "\n",
       "      OTHEREXPENSE_ON  ROOMBOARD_OFF  OTHEREXPENSE_OFF  \n",
       "201            2654.0        13215.0            3283.0  \n",
       "203            2568.0        16189.0            2982.0  \n",
       "207            2568.0        15084.0            2982.0  \n",
       "208            3209.0        16189.0            3283.0  \n",
       "210            3208.0        15056.0            3282.0  \n",
       "211            3209.0        16189.0            3283.0  \n",
       "212            3282.0        16188.0            3282.0  \n",
       "2118           5504.0        15577.0            5504.0  \n",
       "2122           5504.0        15577.0            5504.0  \n",
       "2123           5504.0        15577.0            5504.0  \n",
       "\n",
       "[10 rows x 127 columns]"
      ]
     },
     "execution_count": 110,
     "metadata": {},
     "output_type": "execute_result"
    }
   ],
   "source": [
    "control_filter(states_filter(cost_filter(degree_filter(simplified, columns, degree), cost_range), states), control)"
   ]
  },
  {
   "cell_type": "markdown",
   "id": "4a20dbe3",
   "metadata": {},
   "source": [
    "## Sklearn NN 2 with UI/Filters"
   ]
  },
  {
   "cell_type": "code",
   "execution_count": 2,
   "id": "d94ec3af",
   "metadata": {},
   "outputs": [],
   "source": [
    "from sklearn.neighbors import NearestNeighbors"
   ]
  },
  {
   "cell_type": "code",
   "execution_count": 3,
   "id": "1366911f",
   "metadata": {},
   "outputs": [],
   "source": [
    "## Function to map input major names with output column names in dataframe\n",
    "def degree_dicts(df, columns):\n",
    "    temp_col = columns[columns['VARIABLE NAME'].str.contains('CIP')]\n",
    "    var_name = temp_col['VARIABLE NAME']\n",
    "    var_name = var_name.astype('string')\n",
    "    \n",
    "    degs = temp_col['NAME OF DATA ELEMENT'].str.split('Bachelor\\'s degree in ', expand=True).iloc[:,1]\n",
    "    degs = degs.str.split('.', expand=True).iloc[:,0]\n",
    "    degs = degs.astype('string')\n",
    "    return dict(zip(degs, var_name))"
   ]
  },
  {
   "cell_type": "code",
   "execution_count": 4,
   "id": "b181f083",
   "metadata": {},
   "outputs": [],
   "source": [
    "data = pd.read_csv('../data/final.csv')\n",
    "columns = pd.read_excel('../data/scorecard/columns-simplified.xlsx')"
   ]
  },
  {
   "cell_type": "code",
   "execution_count": 6,
   "id": "a41f312c",
   "metadata": {},
   "outputs": [],
   "source": [
    "school_dict = {}\n",
    "\n",
    "## string\n",
    "# mandatory\n",
    "major = \"Engineering\"\n",
    "school_dict[degree_dicts(data, columns)[major]] = []\n",
    "school_dict[degree_dicts(data, columns)[major]].append(1)\n",
    "\n",
    "## importance\n",
    "school_dict[degree_dicts(data, columns)[major]].append(5)\n",
    "\n",
    "## Don't have information -> probably a float\n",
    "# mandatory\n",
    "# GPA = None\n",
    "\n",
    "## integer\n",
    "zipcode = 92804\n",
    "\n",
    "## integer\n",
    "# mandatory\n",
    "sat = 1400\n",
    "school_dict['SAT_AVG'] = [] \n",
    "school_dict['SAT_AVG'].append(sat)\n",
    "\n",
    "# importance\n",
    "school_dict['SAT_AVG'].append(5)\n",
    "\n",
    "act = 30\n",
    "school_dict['ACTCMMID'] = [] \n",
    "school_dict['ACTCMMID'].append(act)\n",
    "\n",
    "# importance\n",
    "school_dict['ACTCMMID'].append(5)\n",
    "\n",
    "## list of strings\n",
    "# need to handle multiple states situation\n",
    "states = [\"CA\", \"NY\"]\n",
    "states_imp = 3\n",
    "for state in states:\n",
    "    school_dict[state] = []\n",
    "    school_dict[state].append(1)\n",
    "    school_dict[state].append(states_imp)\n",
    "\n",
    "# Abhishek finishing up -> not sure dependent on abhishek\n",
    "# weather = None\n",
    "\n",
    "## Selection (need to define brackets) -> 2500, 5000, 10000, 15000+\n",
    "size = 2500\n",
    "size_imp = 4\n",
    "\n",
    "school_dict['UGDS'] = []\n",
    "school_dict['UGDS'].append(size)\n",
    "school_dict['UGDS'].append(size_imp)\n",
    "\n",
    "## integer 1 to 4 (1=city, 2=suburb, 3=town, 4=rural)\n",
    "# needs special handling to handle 11, 12, 13, 14 case for ex\n",
    "environment = 1\n",
    "environment_imp = 2\n",
    "school_dict['LOCALE_' + str(environment)] = []\n",
    "school_dict['LOCALE_' + str(environment)].append(1)\n",
    "school_dict['LOCALE_' + str(environment)].append(environment_imp)\n",
    "\n",
    "## Need to talk to Jordan about this\n",
    "cost = None"
   ]
  },
  {
   "cell_type": "code",
   "execution_count": 7,
   "id": "5cb3fcd1",
   "metadata": {},
   "outputs": [],
   "source": [
    "## Change locale to 4 categories\n",
    "data['LOCALE'] = (data['LOCALE'] / 10).astype(int)\n",
    "\n",
    "## Fill non-religious schools with value\n",
    "data['RELAFFIL'].fillna(-1, inplace=True)\n",
    "\n",
    "## The last 6-7 schools have weird nan values so I don't use them\n",
    "data.dropna(how='any', inplace=True)\n",
    "\n",
    "## Change state to dummy variable\n",
    "temp = pd.get_dummies(data, prefix = '', prefix_sep = '', columns=['STABBR'])\n",
    "\n",
    "## Change locale to dummy variable\n",
    "temp = pd.get_dummies(temp, columns=['LOCALE'])\n",
    "\n",
    "## Get the important columns\n",
    "temp = temp[school_dict.keys()]\n",
    "\n",
    "## Normalize columns between 0 and 1 for both data and query point\n",
    "## Need to handle highly skewed coluns (like size)\n",
    "for col in temp.columns:\n",
    "    school_dict[col] = school_dict[col] / temp[col].max()\n",
    "    temp[col] = temp[col] / temp[col].max()"
   ]
  },
  {
   "cell_type": "code",
   "execution_count": 17,
   "id": "8461f39e",
   "metadata": {},
   "outputs": [],
   "source": [
    "query = pd.DataFrame(pd.DataFrame(school_dict).iloc[0, :]).T\n",
    "importance = pd.DataFrame(school_dict).iloc[1, :]"
   ]
  },
  {
   "cell_type": "code",
   "execution_count": 18,
   "id": "fe95116f",
   "metadata": {},
   "outputs": [],
   "source": [
    "### Selecting importance for features\n",
    "weather_imp = None\n",
    "cost_imp = None\n",
    "selectivity_imp = None\n",
    "quality_imp = None\n",
    "return_imp = None"
   ]
  },
  {
   "cell_type": "code",
   "execution_count": 22,
   "id": "e19fe165",
   "metadata": {},
   "outputs": [],
   "source": [
    "def custom_dist(x, y, col_imp):\n",
    "    sum_dist = 0\n",
    "    for i in range(len(x)):\n",
    "        sum_dist += col_imp[i]*(x[i] - y[i])**2\n",
    "    return np.sqrt(sum_dist)"
   ]
  },
  {
   "cell_type": "code",
   "execution_count": 23,
   "id": "854b1478",
   "metadata": {},
   "outputs": [
    {
     "data": {
      "text/plain": [
       "NearestNeighbors(metric=<function custom_dist at 0x7ff0e6978670>,\n",
       "                 metric_params={'col_imp': CIP14BACHL    2.500000\n",
       "SAT_AVG       0.003211\n",
       "ACTCMMID      0.138889\n",
       "CA            3.000000\n",
       "NY            3.000000\n",
       "UGDS          0.000041\n",
       "LOCALE_1      2.000000\n",
       "Name: 1, dtype: float64})"
      ]
     },
     "execution_count": 23,
     "metadata": {},
     "output_type": "execute_result"
    }
   ],
   "source": [
    "neigh = NearestNeighbors(metric=custom_dist, metric_params = {'col_imp': importance})\n",
    "neigh.fit(temp)"
   ]
  },
  {
   "cell_type": "code",
   "execution_count": 24,
   "id": "75140d3b",
   "metadata": {},
   "outputs": [
    {
     "data": {
      "text/html": [
       "<div>\n",
       "<style scoped>\n",
       "    .dataframe tbody tr th:only-of-type {\n",
       "        vertical-align: middle;\n",
       "    }\n",
       "\n",
       "    .dataframe tbody tr th {\n",
       "        vertical-align: top;\n",
       "    }\n",
       "\n",
       "    .dataframe thead th {\n",
       "        text-align: right;\n",
       "    }\n",
       "</style>\n",
       "<table border=\"1\" class=\"dataframe\">\n",
       "  <thead>\n",
       "    <tr style=\"text-align: right;\">\n",
       "      <th></th>\n",
       "      <th>UNITID</th>\n",
       "      <th>INSTNM</th>\n",
       "      <th>CITY</th>\n",
       "      <th>STABBR</th>\n",
       "      <th>ZIP</th>\n",
       "      <th>INSTURL</th>\n",
       "      <th>MAIN</th>\n",
       "      <th>NUMBRANCH</th>\n",
       "      <th>CONTROL</th>\n",
       "      <th>REGION</th>\n",
       "      <th>...</th>\n",
       "      <th>COST_INSTATE_OFFCAMPUS</th>\n",
       "      <th>COST_OUTSTATE_ONCAMPUS</th>\n",
       "      <th>COST_OUTSTATE_OFFCAMPUS</th>\n",
       "      <th>FINAID1</th>\n",
       "      <th>FINAID2</th>\n",
       "      <th>FINAID3</th>\n",
       "      <th>FINAID4</th>\n",
       "      <th>FINAID5</th>\n",
       "      <th>CLIMATE_ZONE</th>\n",
       "      <th>GPA_BOTTOM_TEN_PERCENT</th>\n",
       "    </tr>\n",
       "  </thead>\n",
       "  <tbody>\n",
       "    <tr>\n",
       "      <th>180</th>\n",
       "      <td>122931</td>\n",
       "      <td>Santa Clara University</td>\n",
       "      <td>Santa Clara</td>\n",
       "      <td>CA</td>\n",
       "      <td>95053</td>\n",
       "      <td>www.scu.edu/</td>\n",
       "      <td>1</td>\n",
       "      <td>2</td>\n",
       "      <td>2</td>\n",
       "      <td>8</td>\n",
       "      <td>...</td>\n",
       "      <td>75963.00000</td>\n",
       "      <td>74829.0</td>\n",
       "      <td>75963.00000</td>\n",
       "      <td>48979.0</td>\n",
       "      <td>52386.0</td>\n",
       "      <td>46487.0</td>\n",
       "      <td>39973.0</td>\n",
       "      <td>18974.0</td>\n",
       "      <td>Csb</td>\n",
       "      <td>3.4</td>\n",
       "    </tr>\n",
       "    <tr>\n",
       "      <th>1058</th>\n",
       "      <td>191241</td>\n",
       "      <td>Fordham University</td>\n",
       "      <td>Bronx</td>\n",
       "      <td>NY</td>\n",
       "      <td>10458</td>\n",
       "      <td>www.fordham.edu/</td>\n",
       "      <td>1</td>\n",
       "      <td>1</td>\n",
       "      <td>2</td>\n",
       "      <td>2</td>\n",
       "      <td>...</td>\n",
       "      <td>70789.00000</td>\n",
       "      <td>76891.0</td>\n",
       "      <td>70789.00000</td>\n",
       "      <td>45391.0</td>\n",
       "      <td>43598.0</td>\n",
       "      <td>35989.0</td>\n",
       "      <td>31591.0</td>\n",
       "      <td>25804.0</td>\n",
       "      <td>Cfa</td>\n",
       "      <td>3.3</td>\n",
       "    </tr>\n",
       "    <tr>\n",
       "      <th>103</th>\n",
       "      <td>110680</td>\n",
       "      <td>University of California-San Diego</td>\n",
       "      <td>La Jolla</td>\n",
       "      <td>CA</td>\n",
       "      <td>92093</td>\n",
       "      <td>www.ucsd.edu/</td>\n",
       "      <td>1</td>\n",
       "      <td>1</td>\n",
       "      <td>1</td>\n",
       "      <td>8</td>\n",
       "      <td>...</td>\n",
       "      <td>33984.00000</td>\n",
       "      <td>63603.0</td>\n",
       "      <td>63738.00000</td>\n",
       "      <td>23154.0</td>\n",
       "      <td>22460.0</td>\n",
       "      <td>18363.0</td>\n",
       "      <td>12229.0</td>\n",
       "      <td>4376.0</td>\n",
       "      <td>BSk</td>\n",
       "      <td>3.5</td>\n",
       "    </tr>\n",
       "    <tr>\n",
       "      <th>1164</th>\n",
       "      <td>196866</td>\n",
       "      <td>Union College</td>\n",
       "      <td>Schenectady</td>\n",
       "      <td>NY</td>\n",
       "      <td>12308-2311</td>\n",
       "      <td>www.union.edu/</td>\n",
       "      <td>1</td>\n",
       "      <td>1</td>\n",
       "      <td>2</td>\n",
       "      <td>2</td>\n",
       "      <td>...</td>\n",
       "      <td>69963.00000</td>\n",
       "      <td>73410.0</td>\n",
       "      <td>69963.00000</td>\n",
       "      <td>56561.0</td>\n",
       "      <td>55847.0</td>\n",
       "      <td>50295.0</td>\n",
       "      <td>40490.0</td>\n",
       "      <td>26151.0</td>\n",
       "      <td>Dfb</td>\n",
       "      <td>2.8</td>\n",
       "    </tr>\n",
       "    <tr>\n",
       "      <th>1111</th>\n",
       "      <td>194824</td>\n",
       "      <td>Rensselaer Polytechnic Institute</td>\n",
       "      <td>Troy</td>\n",
       "      <td>NY</td>\n",
       "      <td>12180-3590</td>\n",
       "      <td>www.rpi.edu/</td>\n",
       "      <td>1</td>\n",
       "      <td>2</td>\n",
       "      <td>2</td>\n",
       "      <td>2</td>\n",
       "      <td>...</td>\n",
       "      <td>73132.62667</td>\n",
       "      <td>73816.0</td>\n",
       "      <td>73132.62667</td>\n",
       "      <td>49336.0</td>\n",
       "      <td>47637.0</td>\n",
       "      <td>45201.0</td>\n",
       "      <td>37952.0</td>\n",
       "      <td>28129.0</td>\n",
       "      <td>Dfb</td>\n",
       "      <td>3.5</td>\n",
       "    </tr>\n",
       "    <tr>\n",
       "      <th>140</th>\n",
       "      <td>117946</td>\n",
       "      <td>Loyola Marymount University</td>\n",
       "      <td>Los Angeles</td>\n",
       "      <td>CA</td>\n",
       "      <td>90045-2659</td>\n",
       "      <td>https://www.lmu.edu/</td>\n",
       "      <td>1</td>\n",
       "      <td>1</td>\n",
       "      <td>2</td>\n",
       "      <td>8</td>\n",
       "      <td>...</td>\n",
       "      <td>73012.00000</td>\n",
       "      <td>70446.0</td>\n",
       "      <td>73012.00000</td>\n",
       "      <td>34650.0</td>\n",
       "      <td>31851.0</td>\n",
       "      <td>32733.0</td>\n",
       "      <td>26053.0</td>\n",
       "      <td>17748.0</td>\n",
       "      <td>BSk</td>\n",
       "      <td>3.2</td>\n",
       "    </tr>\n",
       "    <tr>\n",
       "      <th>105</th>\n",
       "      <td>110714</td>\n",
       "      <td>University of California-Santa Cruz</td>\n",
       "      <td>Santa Cruz</td>\n",
       "      <td>CA</td>\n",
       "      <td>95064-1011</td>\n",
       "      <td>www.ucsc.edu/</td>\n",
       "      <td>1</td>\n",
       "      <td>1</td>\n",
       "      <td>1</td>\n",
       "      <td>8</td>\n",
       "      <td>...</td>\n",
       "      <td>33734.00000</td>\n",
       "      <td>67051.0</td>\n",
       "      <td>63488.00000</td>\n",
       "      <td>25243.0</td>\n",
       "      <td>24322.0</td>\n",
       "      <td>20862.0</td>\n",
       "      <td>13376.0</td>\n",
       "      <td>3395.0</td>\n",
       "      <td>Csb</td>\n",
       "      <td>3.2</td>\n",
       "    </tr>\n",
       "    <tr>\n",
       "      <th>171</th>\n",
       "      <td>122436</td>\n",
       "      <td>University of San Diego</td>\n",
       "      <td>San Diego</td>\n",
       "      <td>CA</td>\n",
       "      <td>92110-2492</td>\n",
       "      <td>www.sandiego.edu/</td>\n",
       "      <td>1</td>\n",
       "      <td>1</td>\n",
       "      <td>2</td>\n",
       "      <td>8</td>\n",
       "      <td>...</td>\n",
       "      <td>73514.00000</td>\n",
       "      <td>70999.0</td>\n",
       "      <td>73514.00000</td>\n",
       "      <td>44555.0</td>\n",
       "      <td>43594.0</td>\n",
       "      <td>41091.0</td>\n",
       "      <td>36449.0</td>\n",
       "      <td>25139.0</td>\n",
       "      <td>BSk</td>\n",
       "      <td>3.2</td>\n",
       "    </tr>\n",
       "    <tr>\n",
       "      <th>100</th>\n",
       "      <td>110653</td>\n",
       "      <td>University of California-Irvine</td>\n",
       "      <td>Irvine</td>\n",
       "      <td>CA</td>\n",
       "      <td>92697</td>\n",
       "      <td>www.uci.edu/</td>\n",
       "      <td>1</td>\n",
       "      <td>1</td>\n",
       "      <td>1</td>\n",
       "      <td>8</td>\n",
       "      <td>...</td>\n",
       "      <td>33162.00000</td>\n",
       "      <td>65117.0</td>\n",
       "      <td>62916.00000</td>\n",
       "      <td>23767.0</td>\n",
       "      <td>22952.0</td>\n",
       "      <td>19677.0</td>\n",
       "      <td>13474.0</td>\n",
       "      <td>3484.0</td>\n",
       "      <td>Csa</td>\n",
       "      <td>3.3</td>\n",
       "    </tr>\n",
       "    <tr>\n",
       "      <th>1114</th>\n",
       "      <td>195030</td>\n",
       "      <td>University of Rochester</td>\n",
       "      <td>Rochester</td>\n",
       "      <td>NY</td>\n",
       "      <td>14627-0011</td>\n",
       "      <td>https://www.rochester.edu/</td>\n",
       "      <td>1</td>\n",
       "      <td>1</td>\n",
       "      <td>2</td>\n",
       "      <td>2</td>\n",
       "      <td>...</td>\n",
       "      <td>73800.98000</td>\n",
       "      <td>75190.0</td>\n",
       "      <td>73800.98000</td>\n",
       "      <td>57397.0</td>\n",
       "      <td>58213.0</td>\n",
       "      <td>49062.0</td>\n",
       "      <td>43379.0</td>\n",
       "      <td>27989.0</td>\n",
       "      <td>Dfb</td>\n",
       "      <td>3.5</td>\n",
       "    </tr>\n",
       "  </tbody>\n",
       "</table>\n",
       "<p>10 rows × 121 columns</p>\n",
       "</div>"
      ],
      "text/plain": [
       "      UNITID                               INSTNM         CITY STABBR  \\\n",
       "180   122931               Santa Clara University  Santa Clara     CA   \n",
       "1058  191241                   Fordham University        Bronx     NY   \n",
       "103   110680   University of California-San Diego     La Jolla     CA   \n",
       "1164  196866                        Union College  Schenectady     NY   \n",
       "1111  194824     Rensselaer Polytechnic Institute         Troy     NY   \n",
       "140   117946          Loyola Marymount University  Los Angeles     CA   \n",
       "105   110714  University of California-Santa Cruz   Santa Cruz     CA   \n",
       "171   122436              University of San Diego    San Diego     CA   \n",
       "100   110653      University of California-Irvine       Irvine     CA   \n",
       "1114  195030              University of Rochester    Rochester     NY   \n",
       "\n",
       "             ZIP                     INSTURL  MAIN  NUMBRANCH  CONTROL  \\\n",
       "180        95053                www.scu.edu/     1          2        2   \n",
       "1058       10458            www.fordham.edu/     1          1        2   \n",
       "103        92093               www.ucsd.edu/     1          1        1   \n",
       "1164  12308-2311              www.union.edu/     1          1        2   \n",
       "1111  12180-3590                www.rpi.edu/     1          2        2   \n",
       "140   90045-2659        https://www.lmu.edu/     1          1        2   \n",
       "105   95064-1011               www.ucsc.edu/     1          1        1   \n",
       "171   92110-2492           www.sandiego.edu/     1          1        2   \n",
       "100        92697                www.uci.edu/     1          1        1   \n",
       "1114  14627-0011  https://www.rochester.edu/     1          1        2   \n",
       "\n",
       "      REGION  ...  COST_INSTATE_OFFCAMPUS  COST_OUTSTATE_ONCAMPUS  \\\n",
       "180        8  ...             75963.00000                 74829.0   \n",
       "1058       2  ...             70789.00000                 76891.0   \n",
       "103        8  ...             33984.00000                 63603.0   \n",
       "1164       2  ...             69963.00000                 73410.0   \n",
       "1111       2  ...             73132.62667                 73816.0   \n",
       "140        8  ...             73012.00000                 70446.0   \n",
       "105        8  ...             33734.00000                 67051.0   \n",
       "171        8  ...             73514.00000                 70999.0   \n",
       "100        8  ...             33162.00000                 65117.0   \n",
       "1114       2  ...             73800.98000                 75190.0   \n",
       "\n",
       "      COST_OUTSTATE_OFFCAMPUS  FINAID1  FINAID2  FINAID3  FINAID4  FINAID5  \\\n",
       "180               75963.00000  48979.0  52386.0  46487.0  39973.0  18974.0   \n",
       "1058              70789.00000  45391.0  43598.0  35989.0  31591.0  25804.0   \n",
       "103               63738.00000  23154.0  22460.0  18363.0  12229.0   4376.0   \n",
       "1164              69963.00000  56561.0  55847.0  50295.0  40490.0  26151.0   \n",
       "1111              73132.62667  49336.0  47637.0  45201.0  37952.0  28129.0   \n",
       "140               73012.00000  34650.0  31851.0  32733.0  26053.0  17748.0   \n",
       "105               63488.00000  25243.0  24322.0  20862.0  13376.0   3395.0   \n",
       "171               73514.00000  44555.0  43594.0  41091.0  36449.0  25139.0   \n",
       "100               62916.00000  23767.0  22952.0  19677.0  13474.0   3484.0   \n",
       "1114              73800.98000  57397.0  58213.0  49062.0  43379.0  27989.0   \n",
       "\n",
       "      CLIMATE_ZONE  GPA_BOTTOM_TEN_PERCENT  \n",
       "180            Csb                     3.4  \n",
       "1058           Cfa                     3.3  \n",
       "103            BSk                     3.5  \n",
       "1164           Dfb                     2.8  \n",
       "1111           Dfb                     3.5  \n",
       "140            BSk                     3.2  \n",
       "105            Csb                     3.2  \n",
       "171            BSk                     3.2  \n",
       "100            Csa                     3.3  \n",
       "1114           Dfb                     3.5  \n",
       "\n",
       "[10 rows x 121 columns]"
      ]
     },
     "execution_count": 24,
     "metadata": {},
     "output_type": "execute_result"
    }
   ],
   "source": [
    "data.loc[neigh.kneighbors(query, 10, return_distance=False)[0], ]"
   ]
  },
  {
   "cell_type": "markdown",
   "id": "bb25d960",
   "metadata": {},
   "source": [
    "## Size Comparisons"
   ]
  },
  {
   "cell_type": "code",
   "execution_count": 6,
   "id": "aa880a95",
   "metadata": {},
   "outputs": [
    {
     "data": {
      "text/plain": [
       "array([[<AxesSubplot:title={'center':'UGDS'}>]], dtype=object)"
      ]
     },
     "execution_count": 6,
     "metadata": {},
     "output_type": "execute_result"
    },
    {
     "data": {
      "image/png": "[encoded data removed]",
      "text/plain": [
       "<Figure size 432x288 with 1 Axes>"
      ]
     },
     "metadata": {
      "needs_background": "light"
     },
     "output_type": "display_data"
    }
   ],
   "source": [
    "data.hist(column='UGDS')"
   ]
  },
  {
   "cell_type": "code",
   "execution_count": 7,
   "id": "3e9e61a4",
   "metadata": {},
   "outputs": [
    {
     "data": {
      "text/plain": [
       "array([[<AxesSubplot:title={'center':'UGDS'}>]], dtype=object)"
      ]
     },
     "execution_count": 7,
     "metadata": {},
     "output_type": "execute_result"
    },
    {
     "data": {
      "image/png": "[encoded data removed]",
      "text/plain": [
       "<Figure size 432x288 with 1 Axes>"
      ]
     },
     "metadata": {
      "needs_background": "light"
     },
     "output_type": "display_data"
    }
   ],
   "source": [
    "data[data['UGDS'] <= 10000].hist(column='UGDS')"
   ]
  },
  {
   "cell_type": "code",
   "execution_count": 8,
   "id": "07f27b9d",
   "metadata": {},
   "outputs": [
    {
     "data": {
      "text/plain": [
       "array([[<AxesSubplot:title={'center':'UGDS'}>]], dtype=object)"
      ]
     },
     "execution_count": 8,
     "metadata": {},
     "output_type": "execute_result"
    },
    {
     "data": {
      "image/png": "[encoded data removed]",
      "text/plain": [
       "<Figure size 432x288 with 1 Axes>"
      ]
     },
     "metadata": {
      "needs_background": "light"
     },
     "output_type": "display_data"
    }
   ],
   "source": [
    "data[data['UGDS'] <= 3000].hist(column='UGDS')"
   ]
  },
  {
   "cell_type": "markdown",
   "id": "63aebf35",
   "metadata": {},
   "source": [
    "## Environment Brackets"
   ]
  },
  {
   "cell_type": "markdown",
   "id": "5128a887",
   "metadata": {},
   "source": [
    "11\tCity: Large (population of 250,000 or more) <br>\n",
    "12\tCity: Midsize (population of at least 100,000 but less than 250,000) <br>\n",
    "13\tCity: Small (population less than 100,000) <br>\n",
    "21\tSuburb: Large (outside principal city, in urbanized area with population of 250,000 or more) <br>\n",
    "22\tSuburb: Midsize (outside principal city, in urbanized area with population of at least 100,000 but less than 250,000) <br>\n",
    "23\tSuburb: Small (outside principal city, in urbanized area with population less than 100,000) <br>\n",
    "31\tTown: Fringe (in urban cluster up to 10 miles from an urbanized area) <br>\n",
    "32\tTown: Distant (in urban cluster more than 10 miles and up to 35 miles from an urbanized area) <br>\n",
    "33\tTown: Remote (in urban cluster more than 35 miles from an urbanized area) <br>\n",
    "41\tRural: Fringe (rural territory up to 5 miles from an urbanized area or up to 2.5 miles from an urban cluster) <br>\n",
    "42\tRural: Distant (rural territory more than 5 miles but up to 25 miles from an urbanized area or more than 2.5 and up to 10 miles from an urban cluster) <br>\n",
    "43\tRural: Remote (rural territory more than 25 miles from an urbanized area and more than 10 miles from an urban cluster) <br>\n"
   ]
  },
  {
   "cell_type": "markdown",
   "id": "cea8e9ce",
   "metadata": {},
   "source": [
    "## Cost Comparisons"
   ]
  },
  {
   "cell_type": "markdown",
   "id": "d67a5e0f",
   "metadata": {},
   "source": [
    "I can either use the overall costt4_a column but would need jordan to reinclude that, or I need to ask for income information in the UI to get financial aid from the corresponding columns and subtract that from the cost. I also need to ask about in-state/out-of-state and on-campus/off-campus to use the right cost column for analysis."
   ]
  }
 ],
 "metadata": {
  "kernelspec": {
   "display_name": "Python 3 (ipykernel)",
   "language": "python",
   "name": "python3"
  },
  "language_info": {
   "codemirror_mode": {
    "name": "ipython",
    "version": 3
   },
   "file_extension": ".py",
   "mimetype": "text/x-python",
   "name": "python",
   "nbconvert_exporter": "python",
   "pygments_lexer": "ipython3",
   "version": "3.8.10"
  }
 },
 "nbformat": 4,
 "nbformat_minor": 5
}
