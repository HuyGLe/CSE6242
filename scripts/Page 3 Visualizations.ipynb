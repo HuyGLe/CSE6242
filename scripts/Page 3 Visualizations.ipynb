{
 "cells": [
  {
   "cell_type": "code",
   "execution_count": 221,
   "id": "9816f5ef",
   "metadata": {},
   "outputs": [],
   "source": [
    "import numpy as np\n",
    "import pandas as pd\n",
    "import matplotlib.pyplot as plt\n",
    "from matplotlib.ticker import MaxNLocator"
   ]
  },
  {
   "cell_type": "code",
   "execution_count": 2,
   "id": "fd02898e",
   "metadata": {},
   "outputs": [
    {
     "name": "stderr",
     "output_type": "stream",
     "text": [
      "/home/huy/.local/lib/python3.8/site-packages/IPython/core/interactiveshell.py:3441: DtypeWarning: Columns (10) have mixed types.Specify dtype option on import or set low_memory=False.\n",
      "  exec(code_obj, self.user_global_ns, self.user_ns)\n"
     ]
    }
   ],
   "source": [
    "data = pd.read_csv('../data/final.csv')"
   ]
  },
  {
   "cell_type": "code",
   "execution_count": 4,
   "id": "d7f604d6",
   "metadata": {},
   "outputs": [
    {
     "name": "stderr",
     "output_type": "stream",
     "text": [
      "/home/huy/.local/lib/python3.8/site-packages/IPython/core/interactiveshell.py:3441: DtypeWarning: Columns (6,9,1351,1352,1353,1354,1355,1356,1357,1358,1359,1360,1361,1362,1363,1364,1365,1379,1393,1394,1395,1396,1397,1398,1399,1400,1401,1402,1403,1404,1405,1406,1407,1408,1409,1410,1412,1413,1427,1428,1431,1432,1503,1517,1532,1533,1534,1535,1536,1537,1538,1539,1540,1542,1543,1544,1545,1546,1547,1548,1549,1550,1551,1552,1553,1554,1555,1556,1557,1558,1559,1560,1561,1567,1568,1573,1574,1575,1576,1577,1581,1582,1587,1588,1589,1590,1591,1592,1593,1594,1595,1596,1597,1598,1599,1600,1601,1602,1604,1605,1606,1608,1610,1611,1614,1615,1616,1619,1620,1621,1622,1623,1624,1625,1626,1627,1628,1629,1636,1638,1640,1643,1644,1648,1653,1654,1655,1656,1657,1658,1659,1660,1661,1662,1664,1666,1669,1670,1674,1679,1680,1681,1682,1683,1684,1685,1686,1687,1688,1689,1690,1691,1692,1693,1695,1697,1700,1701,1702,1703,1704,1705,1706,1707,1711,1725,1726,1727,1728,1729,1743,1815,1816,1817,1818,1823,1824,1830,1831,1844,1845,1846,1879,1880,1881,1882,1883,1884,1885,1886,1887,1888,1889,1890,1891,1892,1893,1894,1895,1896,1897,1898,1909,1910,1911,1912,1913,1957,1958,1959,1960,1961,1962,1963,1964,1965,1966,1967,1968,1969,1970,1971,1972,1973,1974,1975,1976,1983,1984,2376,2377,2393,2403,2404,2495,2496,2497,2498,2499,2500,2501,2502,2503,2504,2505,2506,2507,2508,2509,2510,2511,2512,2513,2514,2515,2516,2517,2518,2519,2520,2521,2522,2523,2524,2525,2526,2527,2528,2529,2530,2855,2958) have mixed types.Specify dtype option on import or set low_memory=False.\n",
      "  exec(code_obj, self.user_global_ns, self.user_ns)\n"
     ]
    }
   ],
   "source": [
    "full = pd.read_csv('../../Most-Recent-Cohorts-All-Data-Elements.csv')"
   ]
  },
  {
   "cell_type": "code",
   "execution_count": 32,
   "id": "9ea60625",
   "metadata": {},
   "outputs": [],
   "source": [
    "cols = [\"UNITID\", \"COSTT4_A\", 'TUITIONFEE_IN', \"TUITIONFEE_OUT\", \"BOOKSUPPLY\", \"ROOMBOARD_ON\", \"OTHEREXPENSE_ON\", \n",
    "        \"ROOMBOARD_OFF\", \"OTHEREXPENSE_OFF\", \"OTHEREXPENSE_FAM\"]"
   ]
  },
  {
   "cell_type": "code",
   "execution_count": 33,
   "id": "7d07cf51",
   "metadata": {},
   "outputs": [],
   "source": [
    "ids = data[['UNITID']]"
   ]
  },
  {
   "cell_type": "code",
   "execution_count": 34,
   "id": "7f212aa4",
   "metadata": {},
   "outputs": [],
   "source": [
    "full_cols = full[cols]"
   ]
  },
  {
   "cell_type": "code",
   "execution_count": 35,
   "id": "f13fe8c8",
   "metadata": {},
   "outputs": [],
   "source": [
    "costs = pd.merge(ids, full_cols, on=\"UNITID\", how=\"left\")"
   ]
  },
  {
   "cell_type": "code",
   "execution_count": 70,
   "id": "13e56b2d",
   "metadata": {},
   "outputs": [
    {
     "data": {
      "text/plain": [
       "UNITID              100830.0\n",
       "COSTT4_A             19849.0\n",
       "TUITIONFEE_IN         8620.0\n",
       "TUITIONFEE_OUT       18292.0\n",
       "BOOKSUPPLY            1200.0\n",
       "ROOMBOARD_ON          6980.0\n",
       "OTHEREXPENSE_ON       3850.0\n",
       "ROOMBOARD_OFF        10296.0\n",
       "OTHEREXPENSE_OFF      3850.0\n",
       "OTHEREXPENSE_FAM      3850.0\n",
       "Name: 7, dtype: float64"
      ]
     },
     "execution_count": 70,
     "metadata": {},
     "output_type": "execute_result"
    }
   ],
   "source": [
    "costs.iloc[7]"
   ]
  },
  {
   "cell_type": "code",
   "execution_count": 71,
   "id": "86f26420",
   "metadata": {},
   "outputs": [],
   "source": [
    "curr_school = costs.iloc[7]"
   ]
  },
  {
   "cell_type": "code",
   "execution_count": 80,
   "id": "fd27b037",
   "metadata": {},
   "outputs": [],
   "source": [
    "## on - off\n",
    "labels = [\"On Campus\", \"Off Campus\"]\n",
    "tuition = np.array(curr_school[[\"TUITIONFEE_IN\", \"TUITIONFEE_IN\"]])\n",
    "book_supply = np.array(curr_school[[\"BOOKSUPPLY\", \"BOOKSUPPLY\"]])\n",
    "room_board = np.array(curr_school[[\"ROOMBOARD_ON\", \"ROOMBOARD_OFF\"]])\n",
    "other_expense = np.array(curr_school[[\"OTHEREXPENSE_ON\", \"OTHEREXPENSE_OFF\"]])"
   ]
  },
  {
   "cell_type": "code",
   "execution_count": 94,
   "id": "6900cde2",
   "metadata": {},
   "outputs": [
    {
     "data": {
      "image/png": "[encoded data removed]",
      "text/plain": [
       "<Figure size 432x288 with 1 Axes>"
      ]
     },
     "metadata": {
      "needs_background": "light"
     },
     "output_type": "display_data"
    }
   ],
   "source": [
    "fig, ax = plt.subplots()\n",
    "ax.bar(labels, tuition, width = 0.5, label=\"Tuition\")\n",
    "ax.bar(labels, book_supply, bottom=tuition, width = 0.5, label=\"Book and Supplies\")\n",
    "ax.bar(labels, room_board, bottom=book_supply + tuition, width = 0.5, label=\"Room and Board\")\n",
    "ax.bar(labels, other_expense, bottom=room_board + book_supply + tuition, width = 0.5, label=\"Other Expenses\")\n",
    "plt.legend(loc='center left', bbox_to_anchor=(1, 0.5))\n",
    "plt.tight_layout()"
   ]
  },
  {
   "cell_type": "code",
   "execution_count": 103,
   "id": "e7aab9b1",
   "metadata": {},
   "outputs": [],
   "source": [
    "cols = [\"UNITID\", \"UGDS_WHITE\", \"UGDS_BLACK\", \"UGDS_HISP\", \"UGDS_ASIAN\", \"UGDS_AIAN\", \"UGDS_NHPI\", \"UGDS_MEN\", \"UGDS_WOMEN\"]"
   ]
  },
  {
   "cell_type": "code",
   "execution_count": 97,
   "id": "533bdc2b",
   "metadata": {},
   "outputs": [],
   "source": [
    "full_cols = full[cols]"
   ]
  },
  {
   "cell_type": "code",
   "execution_count": 104,
   "id": "ea714a63",
   "metadata": {},
   "outputs": [],
   "source": [
    "races = data[cols]"
   ]
  },
  {
   "cell_type": "code",
   "execution_count": 132,
   "id": "67bd7fee",
   "metadata": {},
   "outputs": [],
   "source": [
    "curr_school = races.iloc[103]"
   ]
  },
  {
   "cell_type": "code",
   "execution_count": 135,
   "id": "3999f75d",
   "metadata": {},
   "outputs": [
    {
     "data": {
      "text/plain": [
       "UNITID        110680.0000\n",
       "UGDS_WHITE         0.1936\n",
       "UGDS_BLACK         0.0169\n",
       "UGDS_HISP          0.2181\n",
       "UGDS_ASIAN         0.3300\n",
       "UGDS_AIAN          0.0008\n",
       "UGDS_NHPI          0.0026\n",
       "UGDS_MEN           0.4998\n",
       "UGDS_WOMEN         0.5002\n",
       "Name: 103, dtype: float64"
      ]
     },
     "execution_count": 135,
     "metadata": {},
     "output_type": "execute_result"
    }
   ],
   "source": [
    "curr_school"
   ]
  },
  {
   "cell_type": "code",
   "execution_count": 150,
   "id": "8b39e9dc",
   "metadata": {},
   "outputs": [],
   "source": [
    "white = curr_school['UGDS_WHITE']*100\n",
    "black = curr_school['UGDS_BLACK']*100\n",
    "hisp = curr_school['UGDS_HISP']*100\n",
    "asian = curr_school['UGDS_ASIAN']*100\n",
    "other = 100 - (white + black + hisp + asian)"
   ]
  },
  {
   "cell_type": "code",
   "execution_count": 153,
   "id": "9fec3027",
   "metadata": {},
   "outputs": [],
   "source": [
    "labels = [\"White\", \"Black\", \"Hispanic\", \"Asian\", \"Other\"]\n",
    "## Add Multi-ethnic\n",
    "## Add pie chart of age and gender and income bracket\n",
    "sizes = [white, black, hisp, asian, other]"
   ]
  },
  {
   "cell_type": "code",
   "execution_count": 154,
   "id": "024140cb",
   "metadata": {},
   "outputs": [
    {
     "data": {
      "text/plain": [
       "([<matplotlib.patches.Wedge at 0x7f50f678b610>,\n",
       "  <matplotlib.patches.Wedge at 0x7f50f6871c10>,\n",
       "  <matplotlib.patches.Wedge at 0x7f50f68b45b0>,\n",
       "  <matplotlib.patches.Wedge at 0x7f50f68b4a90>,\n",
       "  <matplotlib.patches.Wedge at 0x7f50f68b4760>],\n",
       " [Text(0.9027378833388338, 0.6285414178754828, 'White'),\n",
       "  Text(0.3264157494320401, 1.0504535965585151, 'Black'),\n",
       "  Text(-0.46554116947636703, 0.9966300314171637, 'Hispanic'),\n",
       "  Text(-0.9151921294162946, -0.6102649967468792, 'Asian'),\n",
       "  Text(0.7985458884774024, -0.7565212911715282, 'Other')],\n",
       " [Text(0.492402481821182, 0.34284077338662694, '19.4%'),\n",
       "  Text(0.17804495423565822, 0.5729746890319173, '1.7%'),\n",
       "  Text(-0.25393154698710924, 0.5436163807729983, '21.8%'),\n",
       "  Text(-0.49919570695434246, -0.3328718164073886, '33.0%'),\n",
       "  Text(0.43557048462403763, -0.4126479770026517, '24.1%')])"
      ]
     },
     "execution_count": 154,
     "metadata": {},
     "output_type": "execute_result"
    },
    {
     "data": {
      "image/png": "[encoded data removed]",
      "text/plain": [
       "<Figure size 432x288 with 1 Axes>"
      ]
     },
     "metadata": {},
     "output_type": "display_data"
    }
   ],
   "source": [
    "fig, ax = plt.subplots()\n",
    "ax.pie(sizes, labels=labels, autopct='%1.1f%%')"
   ]
  },
  {
   "cell_type": "code",
   "execution_count": 185,
   "id": "28751630",
   "metadata": {},
   "outputs": [],
   "source": [
    "arts = [\"PCIP04\", \"PCIP12\", \"PCIP50\"]\n",
    "science_math = [\"PCIP01\", \"PCIP03\", \"PCIP25\", \"PCIP27\", \"PCIP29\", \"PCIP40\", \"PCIP41\",\n",
    "               \"PCIP42\", \"PCIP51\"]\n",
    "business = [\"PCIP52\"]\n",
    "engineering_tech = [\"PCIP10\", \"PCIP11\", \"PCIP14\", \"PCIP15\", \"PCIP46\",\n",
    "                   \"PCIP47\", \"PCIP48\", \"PCIP49\"]\n",
    "social_science = [\"PCIP05\", \"PCIP09\", \"PCIP13\", \"PCIP16\", \"PCIP19\", \n",
    "                  \"PCIP22\", \"PCIP23\", \"PCIP24\", \"PCIP25\", \"PCIP30\", \"PCIP31\",\n",
    "                 \"PCIP38\", \"PCIP39\", \"PCIP43\", \"PCIP44\", \"PCIP45\", \"PCIP54\"]"
   ]
  },
  {
   "cell_type": "code",
   "execution_count": 186,
   "id": "7732710a",
   "metadata": {},
   "outputs": [],
   "source": [
    "full_cols = full[[\"UNITID\"] + arts + science_math + business + engineering_tech + social_science]"
   ]
  },
  {
   "cell_type": "code",
   "execution_count": 187,
   "id": "609be8ee",
   "metadata": {},
   "outputs": [],
   "source": [
    "majors = pd.merge(ids, full_cols, on=\"UNITID\", how=\"left\")"
   ]
  },
  {
   "cell_type": "code",
   "execution_count": 188,
   "id": "c792e0ed",
   "metadata": {},
   "outputs": [],
   "source": [
    "curr_school = majors.iloc[0]"
   ]
  },
  {
   "cell_type": "code",
   "execution_count": 196,
   "id": "2f1cce54",
   "metadata": {},
   "outputs": [],
   "source": [
    "arts_majors = curr_school[arts].sum()*100\n",
    "science_math_majors = curr_school[science_math].sum()*100\n",
    "business_majors = curr_school[business].sum()*100\n",
    "engineering_tech_majors = curr_school[engineering_tech].sum()*100\n",
    "social_science_majors = curr_school[social_science].sum()*100"
   ]
  },
  {
   "cell_type": "code",
   "execution_count": 197,
   "id": "9741c362",
   "metadata": {},
   "outputs": [],
   "source": [
    "labels = (\"Arts Majors\", \"Science and Math Majors\", \"Business Majors\", \n",
    "          \"Engineering and Technology Majors\", \"Literature, Language and Social Science Majors\")\n",
    "y_pos = np.arange(len(labels))\n",
    "length = [arts_majors, science_math_majors, business_majors, engineering_tech_majors, social_science_majors]"
   ]
  },
  {
   "cell_type": "code",
   "execution_count": 198,
   "id": "0e343ac0",
   "metadata": {},
   "outputs": [
    {
     "data": {
      "text/plain": [
       "Text(0.5, 0, 'Percentage')"
      ]
     },
     "execution_count": 198,
     "metadata": {},
     "output_type": "execute_result"
    },
    {
     "data": {
      "image/png": "[encoded data removed]",
      "text/plain": [
       "<Figure size 432x288 with 1 Axes>"
      ]
     },
     "metadata": {
      "needs_background": "light"
     },
     "output_type": "display_data"
    }
   ],
   "source": [
    "## dcc uses plotly -> translate code\n",
    "fig, ax = plt.subplots()\n",
    "ax.barh(y_pos, length)\n",
    "ax.set_yticks(y_pos)\n",
    "ax.set_yticklabels(labels)\n",
    "ax.set_xlabel(\"Percentage\")"
   ]
  },
  {
   "cell_type": "code",
   "execution_count": 210,
   "id": "837f572b",
   "metadata": {},
   "outputs": [],
   "source": [
    "cols = [\"UNITID\", \"MD_EARN_WNE_P6\", \"MD_EARN_WNE_P8\", \"MD_EARN_WNE_P10\"]"
   ]
  },
  {
   "cell_type": "code",
   "execution_count": 211,
   "id": "070c0864",
   "metadata": {},
   "outputs": [],
   "source": [
    "full_cols = full[cols]"
   ]
  },
  {
   "cell_type": "code",
   "execution_count": 212,
   "id": "c3fe8b1d",
   "metadata": {},
   "outputs": [],
   "source": [
    "earnings = pd.merge(ids, full_cols, on=\"UNITID\", how=\"left\")"
   ]
  },
  {
   "cell_type": "code",
   "execution_count": 214,
   "id": "c50b9101",
   "metadata": {},
   "outputs": [],
   "source": [
    "curr_school = earnings.iloc[0]"
   ]
  },
  {
   "cell_type": "code",
   "execution_count": 219,
   "id": "0f07cf00",
   "metadata": {},
   "outputs": [],
   "source": [
    "six = curr_school[\"MD_EARN_WNE_P6\"]\n",
    "eight = curr_school[\"MD_EARN_WNE_P8\"]\n",
    "ten = curr_school[\"MD_EARN_WNE_P10\"]"
   ]
  },
  {
   "cell_type": "code",
   "execution_count": 237,
   "id": "75ea1d82",
   "metadata": {},
   "outputs": [
    {
     "data": {
      "text/plain": [
       "Text(0, 0.5, 'Earnings')"
      ]
     },
     "execution_count": 237,
     "metadata": {},
     "output_type": "execute_result"
    },
    {
     "data": {
      "image/png": "[encoded data removed]",
      "text/plain": [
       "<Figure size 432x288 with 1 Axes>"
      ]
     },
     "metadata": {
      "needs_background": "light"
     },
     "output_type": "display_data"
    }
   ],
   "source": [
    "year = [6, 8, 10]\n",
    "earns = [six, eight, ten]\n",
    "\n",
    "fig, ax =plt.subplots()\n",
    "ax.scatter(year, earns)\n",
    "ax.plot(year, earns)\n",
    "# ax.xaxis.set_major_locator(MaxNLocator(3)) \n",
    "ax.set_ylim([0, max(earns)+ (0.1*max(earns))])\n",
    "plt.xticks([6, 8, 10])\n",
    "ax.set_xlabel(\"Year After School\")\n",
    "ax.set_ylabel(\"Earnings\")"
   ]
  }
 ],
 "metadata": {
  "kernelspec": {
   "display_name": "Python 3 (ipykernel)",
   "language": "python",
   "name": "python3"
  },
  "language_info": {
   "codemirror_mode": {
    "name": "ipython",
    "version": 3
   },
   "file_extension": ".py",
   "mimetype": "text/x-python",
   "name": "python",
   "nbconvert_exporter": "python",
   "pygments_lexer": "ipython3",
   "version": "3.8.10"
  }
 },
 "nbformat": 4,
 "nbformat_minor": 5
}
