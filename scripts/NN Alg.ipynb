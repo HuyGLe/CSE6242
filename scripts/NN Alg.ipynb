{
 "cells": [
  {
   "cell_type": "code",
   "execution_count": 20,
   "id": "96d143ba",
   "metadata": {},
   "outputs": [],
   "source": [
    "import numpy as np\n",
    "import pandas as pd\n",
    "from sklearn.neighbors import NearestNeighbors"
   ]
  },
  {
   "cell_type": "code",
   "execution_count": 24,
   "id": "a695b2ae",
   "metadata": {},
   "outputs": [],
   "source": [
    "## Function to map input major names with output column names in dataframe\n",
    "def degree_dicts(df, columns):\n",
    "    temp_col = columns[columns['VARIABLE NAME'].str.contains('CIP')]\n",
    "    var_name = temp_col['VARIABLE NAME']\n",
    "    var_name = var_name.astype('string')\n",
    "    \n",
    "    degs = temp_col['NAME OF DATA ELEMENT'].str.split('Bachelor\\'s degree in ', expand=True).iloc[:,1]\n",
    "    degs = degs.str.split('.', expand=True).iloc[:,0]\n",
    "    degs = degs.astype('string')\n",
    "    return dict(zip(degs, var_name))"
   ]
  },
  {
   "cell_type": "code",
   "execution_count": 25,
   "id": "42fab1b9",
   "metadata": {},
   "outputs": [],
   "source": [
    "## Data we're currently using along with column names (to retrieve the right major column)\n",
    "data = pd.read_csv('../data/final.csv')\n",
    "columns = pd.read_excel('../data/scorecard/columns-simplified.xlsx')"
   ]
  },
  {
   "cell_type": "code",
   "execution_count": 26,
   "id": "36800b3b",
   "metadata": {},
   "outputs": [],
   "source": [
    "## Dictionary to create query and importance\n",
    "school_dict = {}"
   ]
  },
  {
   "cell_type": "code",
   "execution_count": 27,
   "id": "fe6974ee",
   "metadata": {},
   "outputs": [],
   "source": [
    "## All variables we'll be getting from front-end\n",
    "## Anything commented out is a variable I don't know how to handle yet\n",
    "## No weather, cost, or gpa in any of this code\n",
    "\n",
    "major = \"Engineering\"\n",
    "zipcode = 92804\n",
    "sat = 1400\n",
    "act = 30\n",
    "states = [\"CA\", \"NY\"]\n",
    "size = 2500\n",
    "environment = 1 ## 1=city, 2=suburb, 3=town, 4=rural"
   ]
  },
  {
   "cell_type": "code",
   "execution_count": 28,
   "id": "fa941c02",
   "metadata": {},
   "outputs": [],
   "source": [
    "## Adding variables to dictionary\n",
    "school_dict[degree_dicts(data, columns)[major]] = []\n",
    "school_dict[degree_dicts(data, columns)[major]].append(1)\n",
    "\n",
    "school_dict['SAT_AVG'] = [] \n",
    "school_dict['SAT_AVG'].append(sat)\n",
    "\n",
    "school_dict['ACTCMMID'] = []\n",
    "school_dict['ACTCMMID'].append(act)\n",
    "\n",
    "for state in states:\n",
    "    school_dict[state] = []\n",
    "    school_dict[state].append(1)\n",
    "    \n",
    "school_dict['UGDS'] = []\n",
    "school_dict['UGDS'].append(size)\n",
    "\n",
    "school_dict['LOCALE_' + str(environment)] = []\n",
    "school_dict['LOCALE_' + str(environment)].append(1)"
   ]
  },
  {
   "cell_type": "code",
   "execution_count": 29,
   "id": "5a2f326b",
   "metadata": {},
   "outputs": [],
   "source": [
    "## Selecting Variable Importance\n",
    "size_imp = 4\n",
    "environment_imp = 2\n",
    "states_imp = 3\n",
    "\n",
    "\n",
    "## For any variable w/o a corresponding importance value, I set importance to avg (3)\n",
    "school_dict[degree_dicts(data, columns)[major]].append(3)\n",
    "school_dict['SAT_AVG'].append(3)\n",
    "school_dict['ACTCMMID'].append(3)\n",
    "\n",
    "for state in states:\n",
    "    school_dict[state].append(states_imp)\n",
    "    \n",
    "school_dict['UGDS'].append(size_imp)\n",
    "\n",
    "school_dict['LOCALE_' + str(environment)].append(environment_imp)"
   ]
  },
  {
   "cell_type": "code",
   "execution_count": 30,
   "id": "08e5f445",
   "metadata": {},
   "outputs": [],
   "source": [
    "## Pre-process final dataset\n",
    "\n",
    "## Change locale to 4 categories\n",
    "data['LOCALE'] = (data['LOCALE'] / 10).astype(int)\n",
    "\n",
    "## Fill non-religious schools with value\n",
    "data['RELAFFIL'].fillna(-1, inplace=True)\n",
    "\n",
    "## Change state to dummy variable\n",
    "temp = pd.get_dummies(data, prefix = '', prefix_sep = '', columns=['STABBR'])\n",
    "\n",
    "## Change locale to dummy variable\n",
    "temp = pd.get_dummies(temp, columns=['LOCALE'])\n",
    "\n",
    "## Get the important columns\n",
    "temp = temp[school_dict.keys()]\n",
    "\n",
    "## Normalize columns between 0 and 1 for both data and query point\n",
    "## Need to handle highly skewed coluns (like size)\n",
    "for col in temp.columns:\n",
    "    school_dict[col] = school_dict[col] / temp[col].max()\n",
    "    temp[col] = temp[col] / temp[col].max()"
   ]
  },
  {
   "cell_type": "code",
   "execution_count": 32,
   "id": "fe13b93c",
   "metadata": {},
   "outputs": [],
   "source": [
    "query = pd.DataFrame(pd.DataFrame(school_dict).iloc[0, :]).T\n",
    "importance = pd.DataFrame(school_dict).iloc[1, :]"
   ]
  },
  {
   "cell_type": "code",
   "execution_count": 33,
   "id": "797ea060",
   "metadata": {},
   "outputs": [],
   "source": [
    "## Custom distance function with importance\n",
    "def custom_dist(x, y, col_imp):\n",
    "    sum_dist = 0\n",
    "    for i in range(len(x)):\n",
    "        sum_dist += col_imp[i]*(x[i] - y[i])**2\n",
    "    return np.sqrt(sum_dist)"
   ]
  },
  {
   "cell_type": "code",
   "execution_count": null,
   "id": "3c211f40",
   "metadata": {},
   "outputs": [],
   "source": [
    "neigh = NearestNeighbors(metric=custom_dist, metric_params = {'col_imp': importance})\n",
    "neigh.fit(temp)"
   ]
  }
 ],
 "metadata": {
  "kernelspec": {
   "display_name": "Python 3 (ipykernel)",
   "language": "python",
   "name": "python3"
  },
  "language_info": {
   "codemirror_mode": {
    "name": "ipython",
    "version": 3
   },
   "file_extension": ".py",
   "mimetype": "text/x-python",
   "name": "python",
   "nbconvert_exporter": "python",
   "pygments_lexer": "ipython3",
   "version": "3.8.10"
  }
 },
 "nbformat": 4,
 "nbformat_minor": 5
}
