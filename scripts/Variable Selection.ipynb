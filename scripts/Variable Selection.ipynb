{
 "cells": [
  {
   "cell_type": "code",
   "execution_count": 177,
   "id": "6d8df446",
   "metadata": {},
   "outputs": [],
   "source": [
    "import numpy as np\n",
    "import pandas as pd"
   ]
  },
  {
   "cell_type": "code",
   "execution_count": 178,
   "id": "dc1b8907",
   "metadata": {},
   "outputs": [],
   "source": [
    "to_remove = []\n",
    "to_combine = []"
   ]
  },
  {
   "cell_type": "code",
   "execution_count": 179,
   "id": "856cda7e",
   "metadata": {},
   "outputs": [
    {
     "name": "stderr",
     "output_type": "stream",
     "text": [
      "/home/huy/.local/lib/python3.8/site-packages/IPython/core/interactiveshell.py:3441: DtypeWarning: Columns (6,9,1351,1352,1353,1354,1355,1356,1357,1358,1359,1360,1361,1362,1363,1364,1365,1379,1393,1394,1395,1396,1397,1398,1399,1400,1401,1402,1403,1404,1405,1406,1407,1408,1409,1410,1412,1413,1427,1428,1431,1432,1503,1517,1532,1533,1534,1535,1536,1537,1538,1539,1540,1542,1543,1544,1545,1546,1547,1548,1549,1550,1551,1552,1553,1554,1555,1556,1557,1558,1559,1560,1561,1567,1568,1573,1574,1575,1576,1577,1581,1582,1587,1588,1589,1590,1591,1592,1593,1594,1595,1596,1597,1598,1599,1600,1601,1602,1604,1605,1606,1608,1610,1611,1614,1615,1616,1619,1620,1621,1622,1623,1624,1625,1626,1627,1628,1629,1636,1638,1640,1643,1644,1648,1653,1654,1655,1656,1657,1658,1659,1660,1661,1662,1664,1666,1669,1670,1674,1679,1680,1681,1682,1683,1684,1685,1686,1687,1688,1689,1690,1691,1692,1693,1695,1697,1700,1701,1702,1703,1704,1705,1706,1707,1711,1725,1726,1727,1728,1729,1743,1815,1816,1817,1818,1823,1824,1830,1831,1844,1845,1846,1879,1880,1881,1882,1883,1884,1885,1886,1887,1888,1889,1890,1891,1892,1893,1894,1895,1896,1897,1898,1909,1910,1911,1912,1913,1957,1958,1959,1960,1961,1962,1963,1964,1965,1966,1967,1968,1969,1970,1971,1972,1973,1974,1975,1976,1983,1984,2376,2377,2393,2403,2404,2495,2496,2497,2498,2499,2500,2501,2502,2503,2504,2505,2506,2507,2508,2509,2510,2511,2512,2513,2514,2515,2516,2517,2518,2519,2520,2521,2522,2523,2524,2525,2526,2527,2528,2529,2530,2855,2958) have mixed types.Specify dtype option on import or set low_memory=False.\n",
      "  exec(code_obj, self.user_global_ns, self.user_ns)\n"
     ]
    },
    {
     "data": {
      "text/plain": [
       "6694"
      ]
     },
     "execution_count": 179,
     "metadata": {},
     "output_type": "execute_result"
    }
   ],
   "source": [
    "data = pd.read_csv('./data/scorecard/Most-Recent-Cohorts-Full.csv')\n",
    "data = data.iloc[:, 0:1027]\n",
    "len(data)"
   ]
  },
  {
   "cell_type": "markdown",
   "id": "10deed36",
   "metadata": {},
   "source": [
    "### Initial College Information Columns (1 through 26)"
   ]
  },
  {
   "cell_type": "markdown",
   "id": "c8d392e8",
   "metadata": {},
   "source": [
    "Columns INSTURL and NPCURL are URL based which we won't need so I'm choosing to remove them. I'm also choosing to remove the columns SCH_DEG (which is recoded 0's and 4's from PREDDEG) and HCM2 (Schools on heightened cash monitoring)."
   ]
  },
  {
   "cell_type": "code",
   "execution_count": 180,
   "id": "4b988ddd",
   "metadata": {},
   "outputs": [],
   "source": [
    "to_remove.extend(['INSTURL', 'NPCURL', 'SCH_DEG', 'HCM2'])\n",
    "subset = data.iloc[:, :26]\n",
    "subset = subset.drop(['INSTURL', 'NPCURL', 'SCH_DEG', 'HCM2'], axis=1)"
   ]
  },
  {
   "cell_type": "markdown",
   "id": "18a70098",
   "metadata": {},
   "source": [
    "It seems most of this information is not null except for LOCALE2, which I will remove. There seems to be 505 universities that do not have a few of the specific identifiers at the end of this column list."
   ]
  },
  {
   "cell_type": "code",
   "execution_count": 181,
   "id": "a740c8aa",
   "metadata": {},
   "outputs": [
    {
     "data": {
      "text/plain": [
       "UNITID             0\n",
       "OPEID              0\n",
       "OPEID6             0\n",
       "INSTNM             0\n",
       "CITY               0\n",
       "STABBR             0\n",
       "ZIP                0\n",
       "ACCREDAGENCY     347\n",
       "MAIN               0\n",
       "NUMBRANCH          0\n",
       "PREDDEG            0\n",
       "HIGHDEG            0\n",
       "CONTROL            0\n",
       "ST_FIPS            0\n",
       "REGION             0\n",
       "LOCALE           505\n",
       "LOCALE2         6694\n",
       "LATITUDE         505\n",
       "LONGITUDE        505\n",
       "CCBASIC          505\n",
       "CCUGPROF         505\n",
       "CCSIZSET         505\n",
       "dtype: int64"
      ]
     },
     "execution_count": 181,
     "metadata": {},
     "output_type": "execute_result"
    }
   ],
   "source": [
    "to_remove.append('LOCALE2')\n",
    "subset.isna().sum()"
   ]
  },
  {
   "cell_type": "markdown",
   "id": "12c3659a",
   "metadata": {},
   "source": [
    "### Flag Columns (27 through 35)"
   ]
  },
  {
   "cell_type": "markdown",
   "id": "5060e7b7",
   "metadata": {},
   "source": [
    "Confirming that no colleges are both menonly and womenonly. These two columns can be combined in addition to potential other flag columns."
   ]
  },
  {
   "cell_type": "code",
   "execution_count": 182,
   "id": "e5829d34",
   "metadata": {},
   "outputs": [
    {
     "data": {
      "text/html": [
       "<div>\n",
       "<style scoped>\n",
       "    .dataframe tbody tr th:only-of-type {\n",
       "        vertical-align: middle;\n",
       "    }\n",
       "\n",
       "    .dataframe tbody tr th {\n",
       "        vertical-align: top;\n",
       "    }\n",
       "\n",
       "    .dataframe thead th {\n",
       "        text-align: right;\n",
       "    }\n",
       "</style>\n",
       "<table border=\"1\" class=\"dataframe\">\n",
       "  <thead>\n",
       "    <tr style=\"text-align: right;\">\n",
       "      <th></th>\n",
       "      <th>MENONLY</th>\n",
       "      <th>WOMENONLY</th>\n",
       "    </tr>\n",
       "  </thead>\n",
       "  <tbody>\n",
       "  </tbody>\n",
       "</table>\n",
       "</div>"
      ],
      "text/plain": [
       "Empty DataFrame\n",
       "Columns: [MENONLY, WOMENONLY]\n",
       "Index: []"
      ]
     },
     "execution_count": 182,
     "metadata": {},
     "output_type": "execute_result"
    }
   ],
   "source": [
    "subset = data.iloc[:, 33:35]\n",
    "subset.dropna(inplace=True)\n",
    "subset[subset.sum(axis=1) > 1]"
   ]
  },
  {
   "cell_type": "markdown",
   "id": "e2b43534",
   "metadata": {},
   "source": [
    "Extracting flag columns which have simultaneously more than one flag (excluding menonly and womenonly). It seems as if these columns won't be able to be combined and should be left alone."
   ]
  },
  {
   "cell_type": "code",
   "execution_count": 183,
   "id": "4d3532d5",
   "metadata": {},
   "outputs": [
    {
     "data": {
      "text/html": [
       "<div>\n",
       "<style scoped>\n",
       "    .dataframe tbody tr th:only-of-type {\n",
       "        vertical-align: middle;\n",
       "    }\n",
       "\n",
       "    .dataframe tbody tr th {\n",
       "        vertical-align: top;\n",
       "    }\n",
       "\n",
       "    .dataframe thead th {\n",
       "        text-align: right;\n",
       "    }\n",
       "</style>\n",
       "<table border=\"1\" class=\"dataframe\">\n",
       "  <thead>\n",
       "    <tr style=\"text-align: right;\">\n",
       "      <th></th>\n",
       "      <th>HBCU</th>\n",
       "      <th>PBI</th>\n",
       "      <th>ANNHI</th>\n",
       "      <th>TRIBAL</th>\n",
       "      <th>AANAPII</th>\n",
       "      <th>HSI</th>\n",
       "      <th>NANTI</th>\n",
       "    </tr>\n",
       "  </thead>\n",
       "  <tbody>\n",
       "    <tr>\n",
       "      <th>58</th>\n",
       "      <td>0.0</td>\n",
       "      <td>0.0</td>\n",
       "      <td>1.0</td>\n",
       "      <td>0.0</td>\n",
       "      <td>0.0</td>\n",
       "      <td>0.0</td>\n",
       "      <td>1.0</td>\n",
       "    </tr>\n",
       "    <tr>\n",
       "      <th>59</th>\n",
       "      <td>0.0</td>\n",
       "      <td>0.0</td>\n",
       "      <td>1.0</td>\n",
       "      <td>0.0</td>\n",
       "      <td>0.0</td>\n",
       "      <td>0.0</td>\n",
       "      <td>1.0</td>\n",
       "    </tr>\n",
       "    <tr>\n",
       "      <th>89</th>\n",
       "      <td>0.0</td>\n",
       "      <td>0.0</td>\n",
       "      <td>1.0</td>\n",
       "      <td>1.0</td>\n",
       "      <td>0.0</td>\n",
       "      <td>0.0</td>\n",
       "      <td>0.0</td>\n",
       "    </tr>\n",
       "    <tr>\n",
       "      <th>91</th>\n",
       "      <td>0.0</td>\n",
       "      <td>0.0</td>\n",
       "      <td>1.0</td>\n",
       "      <td>0.0</td>\n",
       "      <td>0.0</td>\n",
       "      <td>0.0</td>\n",
       "      <td>1.0</td>\n",
       "    </tr>\n",
       "    <tr>\n",
       "      <th>170</th>\n",
       "      <td>0.0</td>\n",
       "      <td>0.0</td>\n",
       "      <td>0.0</td>\n",
       "      <td>0.0</td>\n",
       "      <td>1.0</td>\n",
       "      <td>1.0</td>\n",
       "      <td>0.0</td>\n",
       "    </tr>\n",
       "    <tr>\n",
       "      <th>...</th>\n",
       "      <td>...</td>\n",
       "      <td>...</td>\n",
       "      <td>...</td>\n",
       "      <td>...</td>\n",
       "      <td>...</td>\n",
       "      <td>...</td>\n",
       "      <td>...</td>\n",
       "    </tr>\n",
       "    <tr>\n",
       "      <th>4694</th>\n",
       "      <td>0.0</td>\n",
       "      <td>0.0</td>\n",
       "      <td>0.0</td>\n",
       "      <td>0.0</td>\n",
       "      <td>1.0</td>\n",
       "      <td>1.0</td>\n",
       "      <td>0.0</td>\n",
       "    </tr>\n",
       "    <tr>\n",
       "      <th>5031</th>\n",
       "      <td>0.0</td>\n",
       "      <td>0.0</td>\n",
       "      <td>0.0</td>\n",
       "      <td>0.0</td>\n",
       "      <td>1.0</td>\n",
       "      <td>1.0</td>\n",
       "      <td>0.0</td>\n",
       "    </tr>\n",
       "    <tr>\n",
       "      <th>5088</th>\n",
       "      <td>0.0</td>\n",
       "      <td>0.0</td>\n",
       "      <td>0.0</td>\n",
       "      <td>0.0</td>\n",
       "      <td>1.0</td>\n",
       "      <td>1.0</td>\n",
       "      <td>0.0</td>\n",
       "    </tr>\n",
       "    <tr>\n",
       "      <th>5727</th>\n",
       "      <td>0.0</td>\n",
       "      <td>0.0</td>\n",
       "      <td>0.0</td>\n",
       "      <td>0.0</td>\n",
       "      <td>1.0</td>\n",
       "      <td>1.0</td>\n",
       "      <td>0.0</td>\n",
       "    </tr>\n",
       "    <tr>\n",
       "      <th>5933</th>\n",
       "      <td>0.0</td>\n",
       "      <td>0.0</td>\n",
       "      <td>0.0</td>\n",
       "      <td>0.0</td>\n",
       "      <td>1.0</td>\n",
       "      <td>1.0</td>\n",
       "      <td>0.0</td>\n",
       "    </tr>\n",
       "  </tbody>\n",
       "</table>\n",
       "<p>132 rows × 7 columns</p>\n",
       "</div>"
      ],
      "text/plain": [
       "      HBCU  PBI  ANNHI  TRIBAL  AANAPII  HSI  NANTI\n",
       "58     0.0  0.0    1.0     0.0      0.0  0.0    1.0\n",
       "59     0.0  0.0    1.0     0.0      0.0  0.0    1.0\n",
       "89     0.0  0.0    1.0     1.0      0.0  0.0    0.0\n",
       "91     0.0  0.0    1.0     0.0      0.0  0.0    1.0\n",
       "170    0.0  0.0    0.0     0.0      1.0  1.0    0.0\n",
       "...    ...  ...    ...     ...      ...  ...    ...\n",
       "4694   0.0  0.0    0.0     0.0      1.0  1.0    0.0\n",
       "5031   0.0  0.0    0.0     0.0      1.0  1.0    0.0\n",
       "5088   0.0  0.0    0.0     0.0      1.0  1.0    0.0\n",
       "5727   0.0  0.0    0.0     0.0      1.0  1.0    0.0\n",
       "5933   0.0  0.0    0.0     0.0      1.0  1.0    0.0\n",
       "\n",
       "[132 rows x 7 columns]"
      ]
     },
     "execution_count": 183,
     "metadata": {},
     "output_type": "execute_result"
    }
   ],
   "source": [
    "subset = data.iloc[:, 26:33]\n",
    "subset.dropna(inplace=True)\n",
    "subset = subset[subset.sum(axis=1) > 1]\n",
    "subset"
   ]
  },
  {
   "cell_type": "markdown",
   "id": "a74eb654",
   "metadata": {},
   "source": [
    "### Admission Columns (37 through 61)"
   ]
  },
  {
   "cell_type": "markdown",
   "id": "8bab2791",
   "metadata": {},
   "source": [
    "The following are percentages of the column which are NaN. We have an extremely high number of NaN columns and since this information is generally important for prospective college students, we will need to handle this in some way. Also note there seems to be a difference between ADM_RATE/SAT_AVG and ADM_RATE_ALL/SAT_AVG_ALL. I believe it has to do with colleges with multiple campuses. Regardless, we may not want to remove these values just yet."
   ]
  },
  {
   "cell_type": "code",
   "execution_count": 184,
   "id": "50aa3c29",
   "metadata": {},
   "outputs": [
    {
     "data": {
      "text/plain": [
       "ADM_RATE        0.703018\n",
       "ADM_RATE_ALL    0.665073\n",
       "SATVR25         0.818046\n",
       "SATVR75         0.818046\n",
       "SATMT25         0.818046\n",
       "SATMT75         0.818046\n",
       "SATWR25         0.891097\n",
       "SATWR75         0.891097\n",
       "SATVRMID        0.818046\n",
       "SATMTMID        0.818046\n",
       "SATWRMID        0.891097\n",
       "ACTCM25         0.812967\n",
       "ACTCM75         0.812967\n",
       "ACTEN25         0.825217\n",
       "ACTEN75         0.825217\n",
       "ACTMT25         0.825217\n",
       "ACTMT75         0.825217\n",
       "ACTWR25         0.951598\n",
       "ACTWR75         0.951598\n",
       "ACTCMMID        0.812967\n",
       "ACTENMID        0.825217\n",
       "ACTMTMID        0.825217\n",
       "ACTWRMID        0.951598\n",
       "SAT_AVG         0.809083\n",
       "SAT_AVG_ALL     0.786675\n",
       "dtype: float64"
      ]
     },
     "execution_count": 184,
     "metadata": {},
     "output_type": "execute_result"
    }
   ],
   "source": [
    "subset = data.iloc[:, 36:61]\n",
    "subset.isna().sum(axis=0) / len(subset)"
   ]
  },
  {
   "cell_type": "markdown",
   "id": "aee05ef2",
   "metadata": {},
   "source": [
    "When we remove rows which have all NaN columns, the percentage of NaN for admission rate all drops to less than 1%. The equivalent sat average all percentage is also the next lowest value."
   ]
  },
  {
   "cell_type": "code",
   "execution_count": 185,
   "id": "93695214",
   "metadata": {},
   "outputs": [
    {
     "data": {
      "text/plain": [
       "ADM_RATE        0.117229\n",
       "ADM_RATE_ALL    0.004440\n",
       "SATVR25         0.459147\n",
       "SATVR75         0.459147\n",
       "SATMT25         0.459147\n",
       "SATMT75         0.459147\n",
       "SATWR25         0.676288\n",
       "SATWR75         0.676288\n",
       "SATVRMID        0.459147\n",
       "SATMTMID        0.459147\n",
       "SATWRMID        0.676288\n",
       "ACTCM25         0.444050\n",
       "ACTCM75         0.444050\n",
       "ACTEN25         0.480462\n",
       "ACTEN75         0.480462\n",
       "ACTMT25         0.480462\n",
       "ACTMT75         0.480462\n",
       "ACTWR25         0.856128\n",
       "ACTWR75         0.856128\n",
       "ACTCMMID        0.444050\n",
       "ACTENMID        0.480462\n",
       "ACTMTMID        0.480462\n",
       "ACTWRMID        0.856128\n",
       "SAT_AVG         0.432504\n",
       "SAT_AVG_ALL     0.365897\n",
       "dtype: float64"
      ]
     },
     "execution_count": 185,
     "metadata": {},
     "output_type": "execute_result"
    }
   ],
   "source": [
    "subset = subset.dropna(how='all')\n",
    "subset.isna().sum(axis=0)/len(subset)"
   ]
  },
  {
   "cell_type": "markdown",
   "id": "6fbcc2df",
   "metadata": {},
   "source": [
    "### Academics (62 through 289)"
   ]
  },
  {
   "cell_type": "markdown",
   "id": "061f4184",
   "metadata": {},
   "source": [
    "Removing all null columns, we still retain a majority (>90%) of the data."
   ]
  },
  {
   "cell_type": "code",
   "execution_count": 186,
   "id": "bfef8a69",
   "metadata": {},
   "outputs": [
    {
     "data": {
      "text/plain": [
       "0.9241111443083359"
      ]
     },
     "execution_count": 186,
     "metadata": {},
     "output_type": "execute_result"
    }
   ],
   "source": [
    "subset = data.iloc[:, 61:289]\n",
    "subset = subset.dropna(how='all')\n",
    "len(subset)/len(data)"
   ]
  },
  {
   "cell_type": "markdown",
   "id": "5293334c",
   "metadata": {},
   "source": [
    "I decided to exclude all columns which were not Bachelor-specific (e.g. Award of at least 2 but less than four academic years...). First I made sure that the percentage and award columns matched up."
   ]
  },
  {
   "cell_type": "code",
   "execution_count": 187,
   "id": "e32ca694",
   "metadata": {},
   "outputs": [],
   "source": [
    "perc = [int(x[-2:]) for x in subset.iloc[:, :38].columns]\n",
    "award = [int(x[3:5]) for x in subset.iloc[:, 38:].columns if 'BACHL' in x]\n",
    "for num in zip(perc, award):\n",
    "    if num[0] != num[1]:\n",
    "        print(num)"
   ]
  },
  {
   "cell_type": "code",
   "execution_count": 188,
   "id": "10d3ed1f",
   "metadata": {},
   "outputs": [],
   "source": [
    "for i in subset.iloc[:, 38:].columns:\n",
    "    if 'BACHL' not in i:\n",
    "        to_remove.append(i)"
   ]
  },
  {
   "cell_type": "markdown",
   "id": "70f1e185",
   "metadata": {},
   "source": [
    "### Enrollment Columns (291 through 316)"
   ]
  },
  {
   "cell_type": "markdown",
   "id": "3e5dde02",
   "metadata": {},
   "source": [
    "Many of these data columns are discontinued as stated in the dictionary. I will remove all of these columns. The remaining columns are not sparse (~88% non NaN). Afterwards, I removed rows with all NaNs, leaving only 76 remaining NaN values. Also the CURROPER column indicates colleges that are not open. After all analysis, I will remove all rows with colleges that are not open."
   ]
  },
  {
   "cell_type": "code",
   "execution_count": 189,
   "id": "649ad74d",
   "metadata": {},
   "outputs": [],
   "source": [
    "subset = data.iloc[:, 290:316]\n",
    "disc = ['UG', 'UGDS_WHITENH', 'UGDS_BLACKNH', 'UGDS_API', 'UGDS_AIANOLD', 'UGDS_HISPOLD', 'UG_NRA',\n",
    "       'UG_UNKN', 'UG_WHITENH', 'UG_BLACKNH', 'UG_API', 'UG_AIANOLD', 'UG_HISPOLD', 'PPTUG_EF2', 'CURROPER']\n",
    "subset.drop(disc, axis=1, inplace=True)\n",
    "subset.dropna(how='all', inplace=True)\n",
    "to_remove.extend(disc)"
   ]
  },
  {
   "cell_type": "code",
   "execution_count": 190,
   "id": "609176f1",
   "metadata": {},
   "outputs": [
    {
     "data": {
      "text/plain": [
       "0.8816850911263818"
      ]
     },
     "execution_count": 190,
     "metadata": {},
     "output_type": "execute_result"
    }
   ],
   "source": [
    "len(subset)/len(data)"
   ]
  },
  {
   "cell_type": "code",
   "execution_count": 191,
   "id": "f8bb048d",
   "metadata": {},
   "outputs": [
    {
     "data": {
      "text/plain": [
       "76"
      ]
     },
     "execution_count": 191,
     "metadata": {},
     "output_type": "execute_result"
    }
   ],
   "source": [
    "sum(subset.isna().sum())"
   ]
  },
  {
   "cell_type": "markdown",
   "id": "12d325eb",
   "metadata": {},
   "source": [
    "### Cost Columns (317 through 382)"
   ]
  },
  {
   "cell_type": "markdown",
   "id": "6ae59050",
   "metadata": {},
   "source": [
    "Similar to the previous section, many of these columns are discontinued - specifically for program and other related columns). The only exception is TUITIONFEE_PROG, which I added back in."
   ]
  },
  {
   "cell_type": "code",
   "execution_count": 192,
   "id": "b6f9454e",
   "metadata": {},
   "outputs": [],
   "source": [
    "subset = data.iloc[:, 316:382]\n",
    "disc = []"
   ]
  },
  {
   "cell_type": "code",
   "execution_count": 193,
   "id": "923c1af2",
   "metadata": {},
   "outputs": [],
   "source": [
    "for i in subset.columns:\n",
    "    if 'PROG' in i or 'OTHER' in i:\n",
    "        disc.append(i)\n",
    "disc.remove('TUITIONFEE_PROG')"
   ]
  },
  {
   "cell_type": "code",
   "execution_count": 194,
   "id": "cc325bf2",
   "metadata": {},
   "outputs": [],
   "source": [
    "subset.drop(disc, axis=1, inplace=True)"
   ]
  },
  {
   "cell_type": "markdown",
   "id": "79808ce0",
   "metadata": {},
   "source": [
    "It seems we won't be able to drop all na columns here."
   ]
  },
  {
   "cell_type": "code",
   "execution_count": 195,
   "id": "6135b79f",
   "metadata": {},
   "outputs": [
    {
     "data": {
      "text/html": [
       "<div>\n",
       "<style scoped>\n",
       "    .dataframe tbody tr th:only-of-type {\n",
       "        vertical-align: middle;\n",
       "    }\n",
       "\n",
       "    .dataframe tbody tr th {\n",
       "        vertical-align: top;\n",
       "    }\n",
       "\n",
       "    .dataframe thead th {\n",
       "        text-align: right;\n",
       "    }\n",
       "</style>\n",
       "<table border=\"1\" class=\"dataframe\">\n",
       "  <thead>\n",
       "    <tr style=\"text-align: right;\">\n",
       "      <th></th>\n",
       "      <th>NPT4_PUB</th>\n",
       "      <th>NPT4_PRIV</th>\n",
       "      <th>NPT41_PUB</th>\n",
       "      <th>NPT42_PUB</th>\n",
       "      <th>NPT43_PUB</th>\n",
       "      <th>NPT44_PUB</th>\n",
       "      <th>NPT45_PUB</th>\n",
       "      <th>NPT41_PRIV</th>\n",
       "      <th>NPT42_PRIV</th>\n",
       "      <th>NPT43_PRIV</th>\n",
       "      <th>...</th>\n",
       "      <th>NUM42_PRIV</th>\n",
       "      <th>NUM43_PRIV</th>\n",
       "      <th>NUM44_PRIV</th>\n",
       "      <th>NUM45_PRIV</th>\n",
       "      <th>COSTT4_A</th>\n",
       "      <th>COSTT4_P</th>\n",
       "      <th>TUITIONFEE_IN</th>\n",
       "      <th>TUITIONFEE_OUT</th>\n",
       "      <th>TUITIONFEE_PROG</th>\n",
       "      <th>TUITFTE</th>\n",
       "    </tr>\n",
       "  </thead>\n",
       "  <tbody>\n",
       "    <tr>\n",
       "      <th>0</th>\n",
       "      <td>14990.0</td>\n",
       "      <td>NaN</td>\n",
       "      <td>14310.0</td>\n",
       "      <td>13849.0</td>\n",
       "      <td>18405.0</td>\n",
       "      <td>19016.0</td>\n",
       "      <td>19419.0</td>\n",
       "      <td>NaN</td>\n",
       "      <td>NaN</td>\n",
       "      <td>NaN</td>\n",
       "      <td>...</td>\n",
       "      <td>NaN</td>\n",
       "      <td>NaN</td>\n",
       "      <td>NaN</td>\n",
       "      <td>NaN</td>\n",
       "      <td>23053.0</td>\n",
       "      <td>NaN</td>\n",
       "      <td>10024.0</td>\n",
       "      <td>18634.0</td>\n",
       "      <td>NaN</td>\n",
       "      <td>7870.0</td>\n",
       "    </tr>\n",
       "    <tr>\n",
       "      <th>1</th>\n",
       "      <td>16953.0</td>\n",
       "      <td>NaN</td>\n",
       "      <td>14554.0</td>\n",
       "      <td>15526.0</td>\n",
       "      <td>18197.0</td>\n",
       "      <td>19455.0</td>\n",
       "      <td>19451.0</td>\n",
       "      <td>NaN</td>\n",
       "      <td>NaN</td>\n",
       "      <td>NaN</td>\n",
       "      <td>...</td>\n",
       "      <td>NaN</td>\n",
       "      <td>NaN</td>\n",
       "      <td>NaN</td>\n",
       "      <td>NaN</td>\n",
       "      <td>24495.0</td>\n",
       "      <td>NaN</td>\n",
       "      <td>8568.0</td>\n",
       "      <td>20400.0</td>\n",
       "      <td>NaN</td>\n",
       "      <td>12096.0</td>\n",
       "    </tr>\n",
       "    <tr>\n",
       "      <th>2</th>\n",
       "      <td>NaN</td>\n",
       "      <td>8705.0</td>\n",
       "      <td>NaN</td>\n",
       "      <td>NaN</td>\n",
       "      <td>NaN</td>\n",
       "      <td>NaN</td>\n",
       "      <td>NaN</td>\n",
       "      <td>8705.0</td>\n",
       "      <td>NaN</td>\n",
       "      <td>NaN</td>\n",
       "      <td>...</td>\n",
       "      <td>0.0</td>\n",
       "      <td>0.0</td>\n",
       "      <td>0.0</td>\n",
       "      <td>0.0</td>\n",
       "      <td>14800.0</td>\n",
       "      <td>NaN</td>\n",
       "      <td>6950.0</td>\n",
       "      <td>6950.0</td>\n",
       "      <td>NaN</td>\n",
       "      <td>16403.0</td>\n",
       "    </tr>\n",
       "    <tr>\n",
       "      <th>3</th>\n",
       "      <td>15860.0</td>\n",
       "      <td>NaN</td>\n",
       "      <td>13010.0</td>\n",
       "      <td>13580.0</td>\n",
       "      <td>16306.0</td>\n",
       "      <td>17552.0</td>\n",
       "      <td>19231.0</td>\n",
       "      <td>NaN</td>\n",
       "      <td>NaN</td>\n",
       "      <td>NaN</td>\n",
       "      <td>...</td>\n",
       "      <td>NaN</td>\n",
       "      <td>NaN</td>\n",
       "      <td>NaN</td>\n",
       "      <td>NaN</td>\n",
       "      <td>23917.0</td>\n",
       "      <td>NaN</td>\n",
       "      <td>11122.0</td>\n",
       "      <td>23518.0</td>\n",
       "      <td>NaN</td>\n",
       "      <td>8275.0</td>\n",
       "    </tr>\n",
       "    <tr>\n",
       "      <th>4</th>\n",
       "      <td>13650.0</td>\n",
       "      <td>NaN</td>\n",
       "      <td>13531.0</td>\n",
       "      <td>13696.0</td>\n",
       "      <td>15166.0</td>\n",
       "      <td>11878.0</td>\n",
       "      <td>13573.0</td>\n",
       "      <td>NaN</td>\n",
       "      <td>NaN</td>\n",
       "      <td>NaN</td>\n",
       "      <td>...</td>\n",
       "      <td>NaN</td>\n",
       "      <td>NaN</td>\n",
       "      <td>NaN</td>\n",
       "      <td>NaN</td>\n",
       "      <td>21866.0</td>\n",
       "      <td>NaN</td>\n",
       "      <td>11068.0</td>\n",
       "      <td>19396.0</td>\n",
       "      <td>NaN</td>\n",
       "      <td>9587.0</td>\n",
       "    </tr>\n",
       "    <tr>\n",
       "      <th>...</th>\n",
       "      <td>...</td>\n",
       "      <td>...</td>\n",
       "      <td>...</td>\n",
       "      <td>...</td>\n",
       "      <td>...</td>\n",
       "      <td>...</td>\n",
       "      <td>...</td>\n",
       "      <td>...</td>\n",
       "      <td>...</td>\n",
       "      <td>...</td>\n",
       "      <td>...</td>\n",
       "      <td>...</td>\n",
       "      <td>...</td>\n",
       "      <td>...</td>\n",
       "      <td>...</td>\n",
       "      <td>...</td>\n",
       "      <td>...</td>\n",
       "      <td>...</td>\n",
       "      <td>...</td>\n",
       "      <td>...</td>\n",
       "      <td>...</td>\n",
       "    </tr>\n",
       "    <tr>\n",
       "      <th>6689</th>\n",
       "      <td>NaN</td>\n",
       "      <td>NaN</td>\n",
       "      <td>NaN</td>\n",
       "      <td>NaN</td>\n",
       "      <td>NaN</td>\n",
       "      <td>NaN</td>\n",
       "      <td>NaN</td>\n",
       "      <td>NaN</td>\n",
       "      <td>NaN</td>\n",
       "      <td>NaN</td>\n",
       "      <td>...</td>\n",
       "      <td>NaN</td>\n",
       "      <td>NaN</td>\n",
       "      <td>NaN</td>\n",
       "      <td>NaN</td>\n",
       "      <td>NaN</td>\n",
       "      <td>NaN</td>\n",
       "      <td>6165.0</td>\n",
       "      <td>NaN</td>\n",
       "      <td>NaN</td>\n",
       "      <td>NaN</td>\n",
       "    </tr>\n",
       "    <tr>\n",
       "      <th>6690</th>\n",
       "      <td>NaN</td>\n",
       "      <td>NaN</td>\n",
       "      <td>NaN</td>\n",
       "      <td>NaN</td>\n",
       "      <td>NaN</td>\n",
       "      <td>NaN</td>\n",
       "      <td>NaN</td>\n",
       "      <td>NaN</td>\n",
       "      <td>NaN</td>\n",
       "      <td>NaN</td>\n",
       "      <td>...</td>\n",
       "      <td>NaN</td>\n",
       "      <td>NaN</td>\n",
       "      <td>NaN</td>\n",
       "      <td>NaN</td>\n",
       "      <td>NaN</td>\n",
       "      <td>NaN</td>\n",
       "      <td>NaN</td>\n",
       "      <td>NaN</td>\n",
       "      <td>15000.0</td>\n",
       "      <td>NaN</td>\n",
       "    </tr>\n",
       "    <tr>\n",
       "      <th>6691</th>\n",
       "      <td>NaN</td>\n",
       "      <td>NaN</td>\n",
       "      <td>NaN</td>\n",
       "      <td>NaN</td>\n",
       "      <td>NaN</td>\n",
       "      <td>NaN</td>\n",
       "      <td>NaN</td>\n",
       "      <td>NaN</td>\n",
       "      <td>NaN</td>\n",
       "      <td>NaN</td>\n",
       "      <td>...</td>\n",
       "      <td>NaN</td>\n",
       "      <td>NaN</td>\n",
       "      <td>NaN</td>\n",
       "      <td>NaN</td>\n",
       "      <td>NaN</td>\n",
       "      <td>NaN</td>\n",
       "      <td>19404.0</td>\n",
       "      <td>NaN</td>\n",
       "      <td>NaN</td>\n",
       "      <td>NaN</td>\n",
       "    </tr>\n",
       "    <tr>\n",
       "      <th>6692</th>\n",
       "      <td>NaN</td>\n",
       "      <td>NaN</td>\n",
       "      <td>NaN</td>\n",
       "      <td>NaN</td>\n",
       "      <td>NaN</td>\n",
       "      <td>NaN</td>\n",
       "      <td>NaN</td>\n",
       "      <td>NaN</td>\n",
       "      <td>NaN</td>\n",
       "      <td>NaN</td>\n",
       "      <td>...</td>\n",
       "      <td>NaN</td>\n",
       "      <td>NaN</td>\n",
       "      <td>NaN</td>\n",
       "      <td>NaN</td>\n",
       "      <td>NaN</td>\n",
       "      <td>NaN</td>\n",
       "      <td>NaN</td>\n",
       "      <td>NaN</td>\n",
       "      <td>1135.0</td>\n",
       "      <td>NaN</td>\n",
       "    </tr>\n",
       "    <tr>\n",
       "      <th>6693</th>\n",
       "      <td>NaN</td>\n",
       "      <td>NaN</td>\n",
       "      <td>NaN</td>\n",
       "      <td>NaN</td>\n",
       "      <td>NaN</td>\n",
       "      <td>NaN</td>\n",
       "      <td>NaN</td>\n",
       "      <td>NaN</td>\n",
       "      <td>NaN</td>\n",
       "      <td>NaN</td>\n",
       "      <td>...</td>\n",
       "      <td>NaN</td>\n",
       "      <td>NaN</td>\n",
       "      <td>NaN</td>\n",
       "      <td>NaN</td>\n",
       "      <td>NaN</td>\n",
       "      <td>NaN</td>\n",
       "      <td>NaN</td>\n",
       "      <td>NaN</td>\n",
       "      <td>18950.0</td>\n",
       "      <td>NaN</td>\n",
       "    </tr>\n",
       "  </tbody>\n",
       "</table>\n",
       "<p>6602 rows × 36 columns</p>\n",
       "</div>"
      ],
      "text/plain": [
       "      NPT4_PUB  NPT4_PRIV  NPT41_PUB  NPT42_PUB  NPT43_PUB  NPT44_PUB  \\\n",
       "0      14990.0        NaN    14310.0    13849.0    18405.0    19016.0   \n",
       "1      16953.0        NaN    14554.0    15526.0    18197.0    19455.0   \n",
       "2          NaN     8705.0        NaN        NaN        NaN        NaN   \n",
       "3      15860.0        NaN    13010.0    13580.0    16306.0    17552.0   \n",
       "4      13650.0        NaN    13531.0    13696.0    15166.0    11878.0   \n",
       "...        ...        ...        ...        ...        ...        ...   \n",
       "6689       NaN        NaN        NaN        NaN        NaN        NaN   \n",
       "6690       NaN        NaN        NaN        NaN        NaN        NaN   \n",
       "6691       NaN        NaN        NaN        NaN        NaN        NaN   \n",
       "6692       NaN        NaN        NaN        NaN        NaN        NaN   \n",
       "6693       NaN        NaN        NaN        NaN        NaN        NaN   \n",
       "\n",
       "      NPT45_PUB  NPT41_PRIV  NPT42_PRIV  NPT43_PRIV  ...  NUM42_PRIV  \\\n",
       "0       19419.0         NaN         NaN         NaN  ...         NaN   \n",
       "1       19451.0         NaN         NaN         NaN  ...         NaN   \n",
       "2           NaN      8705.0         NaN         NaN  ...         0.0   \n",
       "3       19231.0         NaN         NaN         NaN  ...         NaN   \n",
       "4       13573.0         NaN         NaN         NaN  ...         NaN   \n",
       "...         ...         ...         ...         ...  ...         ...   \n",
       "6689        NaN         NaN         NaN         NaN  ...         NaN   \n",
       "6690        NaN         NaN         NaN         NaN  ...         NaN   \n",
       "6691        NaN         NaN         NaN         NaN  ...         NaN   \n",
       "6692        NaN         NaN         NaN         NaN  ...         NaN   \n",
       "6693        NaN         NaN         NaN         NaN  ...         NaN   \n",
       "\n",
       "      NUM43_PRIV  NUM44_PRIV  NUM45_PRIV  COSTT4_A  COSTT4_P  TUITIONFEE_IN  \\\n",
       "0            NaN         NaN         NaN   23053.0       NaN        10024.0   \n",
       "1            NaN         NaN         NaN   24495.0       NaN         8568.0   \n",
       "2            0.0         0.0         0.0   14800.0       NaN         6950.0   \n",
       "3            NaN         NaN         NaN   23917.0       NaN        11122.0   \n",
       "4            NaN         NaN         NaN   21866.0       NaN        11068.0   \n",
       "...          ...         ...         ...       ...       ...            ...   \n",
       "6689         NaN         NaN         NaN       NaN       NaN         6165.0   \n",
       "6690         NaN         NaN         NaN       NaN       NaN            NaN   \n",
       "6691         NaN         NaN         NaN       NaN       NaN        19404.0   \n",
       "6692         NaN         NaN         NaN       NaN       NaN            NaN   \n",
       "6693         NaN         NaN         NaN       NaN       NaN            NaN   \n",
       "\n",
       "      TUITIONFEE_OUT  TUITIONFEE_PROG  TUITFTE  \n",
       "0            18634.0              NaN   7870.0  \n",
       "1            20400.0              NaN  12096.0  \n",
       "2             6950.0              NaN  16403.0  \n",
       "3            23518.0              NaN   8275.0  \n",
       "4            19396.0              NaN   9587.0  \n",
       "...              ...              ...      ...  \n",
       "6689             NaN              NaN      NaN  \n",
       "6690             NaN          15000.0      NaN  \n",
       "6691             NaN              NaN      NaN  \n",
       "6692             NaN           1135.0      NaN  \n",
       "6693             NaN          18950.0      NaN  \n",
       "\n",
       "[6602 rows x 36 columns]"
      ]
     },
     "execution_count": 195,
     "metadata": {},
     "output_type": "execute_result"
    }
   ],
   "source": [
    "subset.dropna(how='all')"
   ]
  },
  {
   "cell_type": "markdown",
   "id": "6dc618f8",
   "metadata": {},
   "source": [
    "I confirm that for each variable with multiple institution types, the public institution average net price and private institution average net price are mutually exclusive and thus can be combined."
   ]
  },
  {
   "cell_type": "code",
   "execution_count": 196,
   "id": "4e53348a",
   "metadata": {},
   "outputs": [],
   "source": [
    "pub_priv_comp = []\n",
    "for i in subset.iloc[:, :-6].columns:\n",
    "    if i.split('_P')[0] not in pub_priv_comp:\n",
    "        pub_priv_comp.append(i.split('_P')[0])"
   ]
  },
  {
   "cell_type": "code",
   "execution_count": 197,
   "id": "db6b1202",
   "metadata": {},
   "outputs": [
    {
     "name": "stdout",
     "output_type": "stream",
     "text": [
      "['NPT4_PUB', 'NPT4_PRIV']\n",
      "0\n",
      "['NPT41_PUB', 'NPT41_PRIV']\n",
      "0\n",
      "['NPT42_PUB', 'NPT42_PRIV']\n",
      "0\n",
      "['NPT43_PUB', 'NPT43_PRIV']\n",
      "0\n",
      "['NPT44_PUB', 'NPT44_PRIV']\n",
      "0\n",
      "['NPT45_PUB', 'NPT45_PRIV']\n",
      "0\n",
      "['NPT4_048_PUB', 'NPT4_048_PRIV']\n",
      "0\n",
      "['NPT4_3075_PUB', 'NPT4_3075_PRIV']\n",
      "0\n",
      "['NPT4_75UP_PUB', 'NPT4_75UP_PRIV']\n",
      "0\n",
      "['NUM4_PUB', 'NUM4_PRIV']\n",
      "0\n",
      "['NUM41_PUB', 'NUM41_PRIV']\n",
      "0\n",
      "['NUM42_PUB', 'NUM42_PRIV']\n",
      "0\n",
      "['NUM43_PUB', 'NUM43_PRIV']\n",
      "0\n",
      "['NUM44_PUB', 'NUM44_PRIV']\n",
      "0\n",
      "['NUM45_PUB', 'NUM45_PRIV']\n",
      "0\n"
     ]
    }
   ],
   "source": [
    "for i in range(len(pub_priv_comp)):\n",
    "    comp = [pub_priv_comp[i] + s for s in ['_PUB', '_PRIV']]\n",
    "    print(comp)\n",
    "    print(sum(subset[comp].dropna(how='all').isna().sum(axis=1) != 1))\n",
    "    to_combine.append((comp[0], comp[1]))"
   ]
  },
  {
   "cell_type": "markdown",
   "id": "bcebfe8b",
   "metadata": {},
   "source": [
    "### Pre-process Data"
   ]
  },
  {
   "cell_type": "markdown",
   "id": "c93d077a",
   "metadata": {},
   "source": [
    "For this section I remove rows of closed universities, any row numbers after the ones I analyzed above, and all columns I chose to remove in the to_remove list. I also combine aforementioned columns."
   ]
  },
  {
   "cell_type": "code",
   "execution_count": 198,
   "id": "e2cf58e3",
   "metadata": {},
   "outputs": [],
   "source": [
    "data = data[data.iloc[:, 315] != 0]\n",
    "data = data.iloc[:, :382]"
   ]
  },
  {
   "cell_type": "code",
   "execution_count": 201,
   "id": "cec3a287",
   "metadata": {},
   "outputs": [],
   "source": [
    "for col in to_remove:\n",
    "    data.drop(col, axis=1, inplace=True)"
   ]
  },
  {
   "cell_type": "code",
   "execution_count": 202,
   "id": "e780c707",
   "metadata": {},
   "outputs": [],
   "source": [
    "for cols in to_combine:\n",
    "    new_col = data[[cols[0], cols[1]]].dropna(how='all').fillna(0).copy()\n",
    "    new_col = new_col[cols[0]] + new_col[cols[1]]\n",
    "    new_col = new_col.reindex(range(len(data)))\n",
    "    data.drop([cols[0], cols[1]], axis=1, inplace=True)\n",
    "    data.loc[:, cols[0].split('PUB')[0][:-1]] = new_col"
   ]
  },
  {
   "cell_type": "code",
   "execution_count": 204,
   "id": "735cac41",
   "metadata": {},
   "outputs": [
    {
     "data": {
      "text/html": [
       "<div>\n",
       "<style scoped>\n",
       "    .dataframe tbody tr th:only-of-type {\n",
       "        vertical-align: middle;\n",
       "    }\n",
       "\n",
       "    .dataframe tbody tr th {\n",
       "        vertical-align: top;\n",
       "    }\n",
       "\n",
       "    .dataframe thead th {\n",
       "        text-align: right;\n",
       "    }\n",
       "</style>\n",
       "<table border=\"1\" class=\"dataframe\">\n",
       "  <thead>\n",
       "    <tr style=\"text-align: right;\">\n",
       "      <th></th>\n",
       "      <th>UNITID</th>\n",
       "      <th>OPEID</th>\n",
       "      <th>OPEID6</th>\n",
       "      <th>INSTNM</th>\n",
       "      <th>CITY</th>\n",
       "      <th>STABBR</th>\n",
       "      <th>ZIP</th>\n",
       "      <th>ACCREDAGENCY</th>\n",
       "      <th>MAIN</th>\n",
       "      <th>NUMBRANCH</th>\n",
       "      <th>...</th>\n",
       "      <th>NPT45</th>\n",
       "      <th>NPT4_048</th>\n",
       "      <th>NPT4_3075</th>\n",
       "      <th>NPT4_75UP</th>\n",
       "      <th>NUM4</th>\n",
       "      <th>NUM41</th>\n",
       "      <th>NUM42</th>\n",
       "      <th>NUM43</th>\n",
       "      <th>NUM44</th>\n",
       "      <th>NUM45</th>\n",
       "    </tr>\n",
       "  </thead>\n",
       "  <tbody>\n",
       "    <tr>\n",
       "      <th>0</th>\n",
       "      <td>100654</td>\n",
       "      <td>100200</td>\n",
       "      <td>1002</td>\n",
       "      <td>Alabama A &amp; M University</td>\n",
       "      <td>Normal</td>\n",
       "      <td>AL</td>\n",
       "      <td>35762</td>\n",
       "      <td>Southern Association of Colleges and Schools C...</td>\n",
       "      <td>1</td>\n",
       "      <td>1</td>\n",
       "      <td>...</td>\n",
       "      <td>19419.0</td>\n",
       "      <td>14197.0</td>\n",
       "      <td>15322.0</td>\n",
       "      <td>19194.0</td>\n",
       "      <td>558.0</td>\n",
       "      <td>348.0</td>\n",
       "      <td>113.0</td>\n",
       "      <td>54.0</td>\n",
       "      <td>24.0</td>\n",
       "      <td>19.0</td>\n",
       "    </tr>\n",
       "    <tr>\n",
       "      <th>1</th>\n",
       "      <td>100663</td>\n",
       "      <td>105200</td>\n",
       "      <td>1052</td>\n",
       "      <td>University of Alabama at Birmingham</td>\n",
       "      <td>Birmingham</td>\n",
       "      <td>AL</td>\n",
       "      <td>35294-0110</td>\n",
       "      <td>Southern Association of Colleges and Schools C...</td>\n",
       "      <td>1</td>\n",
       "      <td>1</td>\n",
       "      <td>...</td>\n",
       "      <td>19451.0</td>\n",
       "      <td>14860.0</td>\n",
       "      <td>16942.0</td>\n",
       "      <td>19453.0</td>\n",
       "      <td>1250.0</td>\n",
       "      <td>425.0</td>\n",
       "      <td>195.0</td>\n",
       "      <td>220.0</td>\n",
       "      <td>184.0</td>\n",
       "      <td>226.0</td>\n",
       "    </tr>\n",
       "    <tr>\n",
       "      <th>2</th>\n",
       "      <td>100690</td>\n",
       "      <td>2503400</td>\n",
       "      <td>25034</td>\n",
       "      <td>Amridge University</td>\n",
       "      <td>Montgomery</td>\n",
       "      <td>AL</td>\n",
       "      <td>36117-3553</td>\n",
       "      <td>Southern Association of Colleges and Schools C...</td>\n",
       "      <td>1</td>\n",
       "      <td>1</td>\n",
       "      <td>...</td>\n",
       "      <td>NaN</td>\n",
       "      <td>8705.0</td>\n",
       "      <td>NaN</td>\n",
       "      <td>NaN</td>\n",
       "      <td>1.0</td>\n",
       "      <td>1.0</td>\n",
       "      <td>0.0</td>\n",
       "      <td>0.0</td>\n",
       "      <td>0.0</td>\n",
       "      <td>0.0</td>\n",
       "    </tr>\n",
       "    <tr>\n",
       "      <th>3</th>\n",
       "      <td>100706</td>\n",
       "      <td>105500</td>\n",
       "      <td>1055</td>\n",
       "      <td>University of Alabama in Huntsville</td>\n",
       "      <td>Huntsville</td>\n",
       "      <td>AL</td>\n",
       "      <td>35899</td>\n",
       "      <td>Southern Association of Colleges and Schools C...</td>\n",
       "      <td>1</td>\n",
       "      <td>1</td>\n",
       "      <td>...</td>\n",
       "      <td>19231.0</td>\n",
       "      <td>13212.0</td>\n",
       "      <td>15045.0</td>\n",
       "      <td>18462.0</td>\n",
       "      <td>533.0</td>\n",
       "      <td>146.0</td>\n",
       "      <td>80.0</td>\n",
       "      <td>93.0</td>\n",
       "      <td>98.0</td>\n",
       "      <td>116.0</td>\n",
       "    </tr>\n",
       "    <tr>\n",
       "      <th>4</th>\n",
       "      <td>100724</td>\n",
       "      <td>100500</td>\n",
       "      <td>1005</td>\n",
       "      <td>Alabama State University</td>\n",
       "      <td>Montgomery</td>\n",
       "      <td>AL</td>\n",
       "      <td>36104-0271</td>\n",
       "      <td>Southern Association of Colleges and Schools C...</td>\n",
       "      <td>1</td>\n",
       "      <td>1</td>\n",
       "      <td>...</td>\n",
       "      <td>13573.0</td>\n",
       "      <td>13572.0</td>\n",
       "      <td>14120.0</td>\n",
       "      <td>12747.0</td>\n",
       "      <td>549.0</td>\n",
       "      <td>347.0</td>\n",
       "      <td>116.0</td>\n",
       "      <td>47.0</td>\n",
       "      <td>19.0</td>\n",
       "      <td>20.0</td>\n",
       "    </tr>\n",
       "  </tbody>\n",
       "</table>\n",
       "<p>5 rows × 195 columns</p>\n",
       "</div>"
      ],
      "text/plain": [
       "   UNITID    OPEID  OPEID6                               INSTNM        CITY  \\\n",
       "0  100654   100200    1002             Alabama A & M University      Normal   \n",
       "1  100663   105200    1052  University of Alabama at Birmingham  Birmingham   \n",
       "2  100690  2503400   25034                   Amridge University  Montgomery   \n",
       "3  100706   105500    1055  University of Alabama in Huntsville  Huntsville   \n",
       "4  100724   100500    1005             Alabama State University  Montgomery   \n",
       "\n",
       "  STABBR         ZIP                                       ACCREDAGENCY  MAIN  \\\n",
       "0     AL       35762  Southern Association of Colleges and Schools C...     1   \n",
       "1     AL  35294-0110  Southern Association of Colleges and Schools C...     1   \n",
       "2     AL  36117-3553  Southern Association of Colleges and Schools C...     1   \n",
       "3     AL       35899  Southern Association of Colleges and Schools C...     1   \n",
       "4     AL  36104-0271  Southern Association of Colleges and Schools C...     1   \n",
       "\n",
       "   NUMBRANCH  ...    NPT45  NPT4_048  NPT4_3075  NPT4_75UP    NUM4  NUM41  \\\n",
       "0          1  ...  19419.0   14197.0    15322.0    19194.0   558.0  348.0   \n",
       "1          1  ...  19451.0   14860.0    16942.0    19453.0  1250.0  425.0   \n",
       "2          1  ...      NaN    8705.0        NaN        NaN     1.0    1.0   \n",
       "3          1  ...  19231.0   13212.0    15045.0    18462.0   533.0  146.0   \n",
       "4          1  ...  13573.0   13572.0    14120.0    12747.0   549.0  347.0   \n",
       "\n",
       "   NUM42  NUM43  NUM44  NUM45  \n",
       "0  113.0   54.0   24.0   19.0  \n",
       "1  195.0  220.0  184.0  226.0  \n",
       "2    0.0    0.0    0.0    0.0  \n",
       "3   80.0   93.0   98.0  116.0  \n",
       "4  116.0   47.0   19.0   20.0  \n",
       "\n",
       "[5 rows x 195 columns]"
      ]
     },
     "execution_count": 204,
     "metadata": {},
     "output_type": "execute_result"
    }
   ],
   "source": [
    "data.head()"
   ]
  },
  {
   "cell_type": "markdown",
   "id": "ba1ee7dc",
   "metadata": {},
   "source": [
    "# Extracting Variables"
   ]
  },
  {
   "cell_type": "markdown",
   "id": "0248bed8",
   "metadata": {},
   "source": [
    "This section is for if we wanted to directly obtain the name of the columns to keep."
   ]
  },
  {
   "cell_type": "code",
   "execution_count": null,
   "id": "8f2d6331",
   "metadata": {},
   "outputs": [],
   "source": [
    "df = pd.read_excel('./data/college_dict.xlsx', sheet_name='Most_Recent_Inst_Cohort_Map')\n",
    "df = df.iloc[0:1027,:]\n",
    "df = df[~df['Variable Name'].isin(to_remove)]\n",
    "df"
   ]
  }
 ],
 "metadata": {
  "kernelspec": {
   "display_name": "Python 3 (ipykernel)",
   "language": "python",
   "name": "python3"
  },
  "language_info": {
   "codemirror_mode": {
    "name": "ipython",
    "version": 3
   },
   "file_extension": ".py",
   "mimetype": "text/x-python",
   "name": "python",
   "nbconvert_exporter": "python",
   "pygments_lexer": "ipython3",
   "version": "3.8.10"
  }
 },
 "nbformat": 4,
 "nbformat_minor": 5
}
