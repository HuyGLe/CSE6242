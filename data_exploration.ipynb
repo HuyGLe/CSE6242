{
 "cells": [
  {
   "cell_type": "markdown",
   "id": "0731f201",
   "metadata": {},
   "source": [
    "# 1a - Determination of Dataset(s) and Variables\n",
    "## Introduction\n",
    "In this part of the project, we aim to\n",
    "* Determine which dataset or datasets we will use\n",
    "* Determine the variables that we will use\n",
    "* Handle data problems (e.g. missing data)\n",
    "* Do feature engineering\n",
    "\n",
    "At the moment, the main datasets of interest are the IPEDS data and the College Scorecard data.\n",
    "\n",
    "The IPEDS data can be found at [this page](https://nces.ed.gov/ipeds/use-the-data/download-access-database).  We are using the final 2019-20 Access database and the accompanying 2019-20 Excel documentation.  The data are in multiple tables in a Microsoft Access database file.  Excel can be used to retrieve the tables and save them as .csv files.\n",
    "\n",
    "The College Scorecard data is on [this page](https://data.ed.gov/dataset/college-scorecard-all-data-files/resources).\n",
    "\n",
    "## Comparison of IPEDS data and College Scorecard data\n",
    "### Size comparison\n",
    "IPEDS has 2212 variables (according to the vartable19 sheet of the documentation file).  It probably has info on 6559 colleges (based on the number of rows in the HD table, which contains basic school info).\n",
    "\n",
    "College Scorecard has 2989 variables and 6694 colleges.\n",
    "### What colleges are only in one of the datasets?"
   ]
  },
  {
   "cell_type": "code",
   "execution_count": 1,
   "id": "4dffb057",
   "metadata": {
    "scrolled": true
   },
   "outputs": [],
   "source": [
    "import numpy as np\n",
    "import pandas as pd\n",
    "\n",
    "pd.options.display.max_columns = None\n",
    "\n",
    "# read the HD table of the ipeds data, which contains basic school information\n",
    "ipeds_hd = pd.read_csv('data/ipeds/HD.csv', index_col=\"UNITID\")"
   ]
  },
  {
   "cell_type": "code",
   "execution_count": 2,
   "id": "8f077782",
   "metadata": {},
   "outputs": [],
   "source": [
    "# read the entire scorecard data\n",
    "sc = pd.read_csv('data/scorecard/Most-Recent-Cohorts-All-Data-Elements.csv', index_col=\"UNITID\")"
   ]
  },
  {
   "cell_type": "markdown",
   "id": "9bdc8c18",
   "metadata": {},
   "source": [
    "First, we look to see if the IDs used to identify the colleges are shared among the two datasets.  To do this, we find colleges where the IDs are the same, but the names are different:"
   ]
  },
  {
   "cell_type": "code",
   "execution_count": 3,
   "id": "e60fd38e",
   "metadata": {},
   "outputs": [
    {
     "name": "stdout",
     "output_type": "stream",
     "text": [
      "150 rows have the same ID value but have different names:\n",
      "\n",
      "                                    INSTNM_ipeds  \\\n",
      "UNITID                                             \n",
      "104151            Arizona State University-Tempe   \n",
      "104665        School of Architecture at Taliesin   \n",
      "106360    Arthur's Beauty College Inc-Fort Smith   \n",
      "106458     Arkansas State University-Main Campus   \n",
      "106494  Arthur's Beauty College Inc-Jacksonville   \n",
      "...                                          ...   \n",
      "491826   Avenue Academy, A Cosmetology Institute   \n",
      "492209               Reiss-Davis Graduate Center   \n",
      "493549                 McAllen Careers Institute   \n",
      "494171                     Arizona College-Tempe   \n",
      "494588      Pima Medical Institution-San Antonio   \n",
      "\n",
      "                                        INSTNM_sc  \n",
      "UNITID                                             \n",
      "104151  Arizona State University Campus Immersion  \n",
      "104665                 The School of Architecture  \n",
      "106360                    Arthur's Beauty College  \n",
      "106458                  Arkansas State University  \n",
      "106494                    Arthur's Beauty College  \n",
      "...                                           ...  \n",
      "491826     Avenue Academy A Cosmetology Institute  \n",
      "492209                Reiss-Davis Graduate School  \n",
      "493549                                        MCI  \n",
      "494171           Arizona College of Nursing-Tempe  \n",
      "494588         Pima Medical Institute-San Antonio  \n",
      "\n",
      "[150 rows x 2 columns]\n"
     ]
    }
   ],
   "source": [
    "combined = pd.merge(ipeds_hd.INSTNM, sc.INSTNM, left_index=True, right_index=True, how='outer', suffixes=('_ipeds', '_sc'))\n",
    "combined_dropna = combined.dropna()\n",
    "same_id_diff_name = combined_dropna.loc[combined_dropna.INSTNM_ipeds != combined_dropna.INSTNM_sc, :]\n",
    "print(f'{same_id_diff_name.shape[0]} rows have the same ID value but have different names:\\n')\n",
    "print(same_id_diff_name)"
   ]
  },
  {
   "cell_type": "markdown",
   "id": "d73091f2",
   "metadata": {},
   "source": [
    "It looks like if the IDs are shared, then they probably refer to the same college.  The differences in naming are minor; they are referring to the same colleges.\n",
    "\n",
    "Next, we check which IDs are only in the IPEDS data:"
   ]
  },
  {
   "cell_type": "code",
   "execution_count": 4,
   "id": "bae4a42b",
   "metadata": {},
   "outputs": [
    {
     "name": "stdout",
     "output_type": "stream",
     "text": [
      "370 college IDs exist in IPEDS which don't exist in scorecard:\n",
      "\n",
      "                                             INSTNM_ipeds INSTNM_sc\n",
      "UNITID                                                             \n",
      "100733                University of Alabama System Office       NaN\n",
      "103529    University of Alaska System of Higher Education       NaN\n",
      "103909                            Carrington College-Mesa       NaN\n",
      "103927                          Carrington College-Tucson       NaN\n",
      "104504                           Cortiva Institute-Tucson       NaN\n",
      "...                                                   ...       ...\n",
      "494861  CUNY Brooklyn College - Feirstein Graduate Sch...       NaN\n",
      "494870    Rabbinical Seminary of America - Ma'yan HaTorah       NaN\n",
      "494889                              Baker College - Flint       NaN\n",
      "494913          Franciscan School of Theology - San Diego       NaN\n",
      "494922  University of Montana (The) - Bitterroot Colle...       NaN\n",
      "\n",
      "[370 rows x 2 columns]\n"
     ]
    }
   ],
   "source": [
    "id_only_in_ipeds = combined.loc[pd.isnull(combined.INSTNM_sc), :]\n",
    "print(f'{id_only_in_ipeds.shape[0]} college IDs exist in IPEDS which don\\'t exist in scorecard:\\n')\n",
    "print(id_only_in_ipeds)"
   ]
  },
  {
   "cell_type": "markdown",
   "id": "ab1b54c2",
   "metadata": {},
   "source": [
    "Now, we look to see which IDs are only in the Scorecard data:"
   ]
  },
  {
   "cell_type": "code",
   "execution_count": 5,
   "id": "cd971217",
   "metadata": {},
   "outputs": [
    {
     "name": "stdout",
     "output_type": "stream",
     "text": [
      "505 college ids exist in scorecard which don't exist in IPEDS:\n",
      "\n",
      "         INSTNM_ipeds                                 INSTNM_sc\n",
      "UNITID                                                         \n",
      "10236801          NaN        Troy University-Phenix City Campus\n",
      "10236802          NaN         Troy University-Montgomery Campus\n",
      "10236803          NaN             Troy University-Dothan Campus\n",
      "10236808          NaN                    Troy University-Online\n",
      "10236809          NaN             Troy University-Support Sites\n",
      "...               ...                                       ...\n",
      "48511113          NaN        Georgia Military College - Eastman\n",
      "48616901          NaN  American College of Barbering - Florence\n",
      "49005401          NaN      HCI College - Fort Lauderdale Campus\n",
      "49146401          NaN          ABC Adult School - Cabrillo Lane\n",
      "49175601          NaN           Urban Barber College - San Jose\n",
      "\n",
      "[505 rows x 2 columns]\n"
     ]
    }
   ],
   "source": [
    "id_only_in_sc = combined.loc[pd.isnull(combined.INSTNM_ipeds), :]\n",
    "print(f'{id_only_in_sc.shape[0]} college ids exist in scorecard which don\\'t exist in IPEDS:\\n')\n",
    "print(id_only_in_sc)"
   ]
  },
  {
   "cell_type": "markdown",
   "id": "bcc34754",
   "metadata": {},
   "source": [
    "### Comparison of missing data in an SAT score column (25th percentile for math SAT score)"
   ]
  },
  {
   "cell_type": "code",
   "execution_count": 6,
   "id": "6da7ba46",
   "metadata": {},
   "outputs": [
    {
     "name": "stdout",
     "output_type": "stream",
     "text": [
      "IPEDS has 1220 actual values and 791 missing values for the SATMT25 (SAT math 25th percentile) column:\n",
      "scorecard has 1218 actual values and 5476 missing values for the SATMT25 (SAT math 25th percentile) column:\n"
     ]
    }
   ],
   "source": [
    "ipeds_adm = pd.read_csv('data/ipeds/ADM.csv', index_col=\"UNITID\")\n",
    "ipeds_satmt25_na = pd.isnull(ipeds_adm.SATMT25)\n",
    "print(f'IPEDS has {sum(~ipeds_satmt25_na)} actual values and {sum(ipeds_satmt25_na)} missing values for the SATMT25 (SAT math 25th percentile) column:')\n",
    "sc_satmt25_na = pd.isnull(sc.SATMT25)\n",
    "print(f'scorecard has {sum(~sc_satmt25_na)} actual values and {sum(sc_satmt25_na)} missing values for the SATMT25 (SAT math 25th percentile) column:')"
   ]
  },
  {
   "cell_type": "code",
   "execution_count": 7,
   "id": "c7689303",
   "metadata": {},
   "outputs": [
    {
     "name": "stdout",
     "output_type": "stream",
     "text": [
      "ipeds has 1 values for SATMT25 that scorecard doesn't have:\n",
      "scorecard has 0 values for SATMT25 that ipeds doesn't have:\n"
     ]
    }
   ],
   "source": [
    "print(f'ipeds has {sum(~ipeds_satmt25_na & sc_satmt25_na)} values for SATMT25 that scorecard doesn\\'t have:')\n",
    "print(f'scorecard has {sum(ipeds_satmt25_na & ~sc_satmt25_na)} values for SATMT25 that ipeds doesn\\'t have:')"
   ]
  }
 ],
 "metadata": {
  "kernelspec": {
   "display_name": "Python 3 (ipykernel)",
   "language": "python",
   "name": "python3"
  },
  "language_info": {
   "codemirror_mode": {
    "name": "ipython",
    "version": 3
   },
   "file_extension": ".py",
   "mimetype": "text/x-python",
   "name": "python",
   "nbconvert_exporter": "python",
   "pygments_lexer": "ipython3",
   "version": "3.9.7"
  }
 },
 "nbformat": 4,
 "nbformat_minor": 5
}
