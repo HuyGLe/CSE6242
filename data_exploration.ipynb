{
 "cells": [
  {
   "cell_type": "markdown",
   "id": "0731f201",
   "metadata": {},
   "source": [
    "# 1a - Determination of Dataset(s) and Variables\n",
    "## Introduction\n",
    "In this part of the project, we aim to\n",
    "* Determine which dataset or datasets we will use\n",
    "* Determine the variables that we will use\n",
    "* Handle data problems (e.g. missing data)\n",
    "* Do feature engineering\n",
    "\n",
    "At the moment, the main datasets of interest are the IPEDS data and the College Scorecard data.\n",
    "\n",
    "The IPEDS data can be found at [this page](https://nces.ed.gov/ipeds/use-the-data/download-access-database).  We are using the final 2019-20 Access database and the accompanying 2019-20 Excel documentation.  The data are in multiple tables in a Microsoft Access database file.  Excel can be used to retrieve the tables and save them as .csv files.\n",
    "\n",
    "The College Scorecard data is on [this page](https://data.ed.gov/dataset/college-scorecard-all-data-files/resources).\n",
    "\n",
    "## Comparison of IPEDS data and College Scorecard data\n",
    "### Size comparison\n",
    "IPEDS has 2212 variables (according to the vartable19 sheet of the documentation file).  The HD table has info for 6559 colleges, while the ADM table has info for 2011.\n",
    "\n",
    "College Scorecard has 2989 variables and 6694 colleges.\n",
    "### What colleges are only in one of the datasets?"
   ]
  },
  {
   "cell_type": "code",
   "execution_count": 1,
   "id": "4dffb057",
   "metadata": {
    "scrolled": true
   },
   "outputs": [],
   "source": [
    "import numpy as np\n",
    "import pandas as pd\n",
    "\n",
    "pd.options.display.max_columns = None\n",
    "\n",
    "# read the HD table of the ipeds data, which contains basic school information\n",
    "ipeds_hd = pd.read_csv('data/ipeds/HD.csv', index_col=\"UNITID\")"
   ]
  },
  {
   "cell_type": "code",
   "execution_count": 2,
   "id": "8f077782",
   "metadata": {},
   "outputs": [
    {
     "name": "stderr",
     "output_type": "stream",
     "text": [
      "C:\\Users\\jbos1\\AppData\\Local\\Temp/ipykernel_32668/2574332530.py:2: DtypeWarning: Columns (6,9,1351,1352,1353,1354,1355,1356,1357,1358,1359,1360,1361,1362,1363,1364,1365,1379,1393,1394,1395,1396,1397,1398,1399,1400,1401,1402,1403,1404,1405,1406,1407,1408,1409,1410,1412,1413,1427,1428,1431,1432,1503,1517,1532,1533,1534,1535,1536,1537,1538,1539,1540,1542,1543,1544,1545,1546,1547,1548,1549,1550,1551,1552,1553,1554,1555,1556,1557,1558,1559,1560,1561,1567,1568,1573,1574,1575,1576,1577,1581,1582,1587,1588,1589,1590,1591,1592,1593,1594,1595,1596,1597,1598,1599,1600,1601,1602,1604,1605,1606,1608,1610,1611,1614,1615,1616,1619,1620,1621,1622,1623,1624,1625,1626,1627,1628,1629,1636,1638,1640,1643,1644,1648,1653,1654,1655,1656,1657,1658,1659,1660,1661,1662,1664,1666,1669,1670,1674,1679,1680,1681,1682,1683,1684,1685,1686,1687,1688,1689,1690,1691,1692,1693,1695,1697,1700,1701,1702,1703,1704,1705,1706,1707,1711,1725,1726,1727,1728,1729,1743,1815,1816,1817,1818,1823,1824,1830,1831,1844,1845,1846,1879,1880,1881,1882,1883,1884,1885,1886,1887,1888,1889,1890,1891,1892,1893,1894,1895,1896,1897,1898,1909,1910,1911,1912,1913,1957,1958,1959,1960,1961,1962,1963,1964,1965,1966,1967,1968,1969,1970,1971,1972,1973,1974,1975,1976,1983,1984,2376,2377,2393,2403,2404,2495,2496,2497,2498,2499,2500,2501,2502,2503,2504,2505,2506,2507,2508,2509,2510,2511,2512,2513,2514,2515,2516,2517,2518,2519,2520,2521,2522,2523,2524,2525,2526,2527,2528,2529,2530,2855,2958) have mixed types. Specify dtype option on import or set low_memory=False.\n",
      "  sc = pd.read_csv('data/scorecard/Most-Recent-Cohorts-All-Data-Elements.csv', index_col=\"UNITID\")\n"
     ]
    }
   ],
   "source": [
    "# read the entire scorecard data\n",
    "sc = pd.read_csv('data/scorecard/Most-Recent-Cohorts-All-Data-Elements.csv', index_col=\"UNITID\")"
   ]
  },
  {
   "cell_type": "markdown",
   "id": "9bdc8c18",
   "metadata": {},
   "source": [
    "First, we look to see if the IDs used to identify the colleges are shared among the two datasets.  To do this, we find colleges where the IDs are the same, but the names are different:"
   ]
  },
  {
   "cell_type": "code",
   "execution_count": 3,
   "id": "e60fd38e",
   "metadata": {},
   "outputs": [
    {
     "name": "stdout",
     "output_type": "stream",
     "text": [
      "150 rows have the same ID value but have different names:\n",
      "\n",
      "                                    INSTNM_ipeds  \\\n",
      "UNITID                                             \n",
      "104151            Arizona State University-Tempe   \n",
      "104665        School of Architecture at Taliesin   \n",
      "106360    Arthur's Beauty College Inc-Fort Smith   \n",
      "106458     Arkansas State University-Main Campus   \n",
      "106494  Arthur's Beauty College Inc-Jacksonville   \n",
      "...                                          ...   \n",
      "491826   Avenue Academy, A Cosmetology Institute   \n",
      "492209               Reiss-Davis Graduate Center   \n",
      "493549                 McAllen Careers Institute   \n",
      "494171                     Arizona College-Tempe   \n",
      "494588      Pima Medical Institution-San Antonio   \n",
      "\n",
      "                                        INSTNM_sc  \n",
      "UNITID                                             \n",
      "104151  Arizona State University Campus Immersion  \n",
      "104665                 The School of Architecture  \n",
      "106360                    Arthur's Beauty College  \n",
      "106458                  Arkansas State University  \n",
      "106494                    Arthur's Beauty College  \n",
      "...                                           ...  \n",
      "491826     Avenue Academy A Cosmetology Institute  \n",
      "492209                Reiss-Davis Graduate School  \n",
      "493549                                        MCI  \n",
      "494171           Arizona College of Nursing-Tempe  \n",
      "494588         Pima Medical Institute-San Antonio  \n",
      "\n",
      "[150 rows x 2 columns]\n"
     ]
    }
   ],
   "source": [
    "combined = pd.merge(ipeds_hd.INSTNM, sc.INSTNM, left_index=True, right_index=True, how='outer', suffixes=('_ipeds', '_sc'))\n",
    "combined_dropna = combined.dropna()\n",
    "same_id_diff_name = combined_dropna.loc[combined_dropna.INSTNM_ipeds != combined_dropna.INSTNM_sc, :]\n",
    "print(f'{same_id_diff_name.shape[0]} rows have the same ID value but have different names:\\n')\n",
    "print(same_id_diff_name)"
   ]
  },
  {
   "cell_type": "markdown",
   "id": "d73091f2",
   "metadata": {},
   "source": [
    "It looks like if the IDs are shared, then they probably refer to the same college.  The differences in naming are minor; they are referring to the same colleges.\n",
    "\n",
    "Next, we check which IDs are only in the IPEDS data:"
   ]
  },
  {
   "cell_type": "code",
   "execution_count": 4,
   "id": "bae4a42b",
   "metadata": {},
   "outputs": [
    {
     "name": "stdout",
     "output_type": "stream",
     "text": [
      "370 college IDs exist in IPEDS which don't exist in scorecard:\n",
      "\n",
      "                                             INSTNM_ipeds INSTNM_sc\n",
      "UNITID                                                             \n",
      "100733                University of Alabama System Office       NaN\n",
      "103529    University of Alaska System of Higher Education       NaN\n",
      "103909                            Carrington College-Mesa       NaN\n",
      "103927                          Carrington College-Tucson       NaN\n",
      "104504                           Cortiva Institute-Tucson       NaN\n",
      "...                                                   ...       ...\n",
      "494861  CUNY Brooklyn College - Feirstein Graduate Sch...       NaN\n",
      "494870    Rabbinical Seminary of America - Ma'yan HaTorah       NaN\n",
      "494889                              Baker College - Flint       NaN\n",
      "494913          Franciscan School of Theology - San Diego       NaN\n",
      "494922  University of Montana (The) - Bitterroot Colle...       NaN\n",
      "\n",
      "[370 rows x 2 columns]\n"
     ]
    }
   ],
   "source": [
    "id_only_in_ipeds = combined.loc[pd.isnull(combined.INSTNM_sc), :]\n",
    "print(f'{id_only_in_ipeds.shape[0]} college IDs exist in IPEDS which don\\'t exist in scorecard:\\n')\n",
    "print(id_only_in_ipeds)"
   ]
  },
  {
   "cell_type": "markdown",
   "id": "ab1b54c2",
   "metadata": {},
   "source": [
    "Now, we look to see which IDs are only in the Scorecard data:"
   ]
  },
  {
   "cell_type": "code",
   "execution_count": 5,
   "id": "cd971217",
   "metadata": {},
   "outputs": [
    {
     "name": "stdout",
     "output_type": "stream",
     "text": [
      "505 college ids exist in scorecard which don't exist in IPEDS:\n",
      "\n",
      "         INSTNM_ipeds                                 INSTNM_sc\n",
      "UNITID                                                         \n",
      "10236801          NaN        Troy University-Phenix City Campus\n",
      "10236802          NaN         Troy University-Montgomery Campus\n",
      "10236803          NaN             Troy University-Dothan Campus\n",
      "10236808          NaN                    Troy University-Online\n",
      "10236809          NaN             Troy University-Support Sites\n",
      "...               ...                                       ...\n",
      "48511113          NaN        Georgia Military College - Eastman\n",
      "48616901          NaN  American College of Barbering - Florence\n",
      "49005401          NaN      HCI College - Fort Lauderdale Campus\n",
      "49146401          NaN          ABC Adult School - Cabrillo Lane\n",
      "49175601          NaN           Urban Barber College - San Jose\n",
      "\n",
      "[505 rows x 2 columns]\n"
     ]
    }
   ],
   "source": [
    "id_only_in_sc = combined.loc[pd.isnull(combined.INSTNM_ipeds), :]\n",
    "print(f'{id_only_in_sc.shape[0]} college ids exist in scorecard which don\\'t exist in IPEDS:\\n')\n",
    "print(id_only_in_sc)"
   ]
  },
  {
   "cell_type": "markdown",
   "id": "bcc34754",
   "metadata": {},
   "source": [
    "### Comparison of missing data in an SAT score column (25th percentile for math SAT score)"
   ]
  },
  {
   "cell_type": "code",
   "execution_count": 6,
   "id": "6da7ba46",
   "metadata": {},
   "outputs": [
    {
     "name": "stdout",
     "output_type": "stream",
     "text": [
      "IPEDS has 1220 actual values and 791 missing values for the SATMT25 (SAT math 25th percentile) column:\n",
      "scorecard has 1218 actual values and 5476 missing values for the SATMT25 (SAT math 25th percentile) column:\n"
     ]
    }
   ],
   "source": [
    "ipeds_adm = pd.read_csv('data/ipeds/ADM.csv', index_col=\"UNITID\")\n",
    "ipeds_satmt25_na = pd.isnull(ipeds_adm.SATMT25)\n",
    "print(f'IPEDS has {sum(~ipeds_satmt25_na)} actual values and {sum(ipeds_satmt25_na)} missing values for the SATMT25 (SAT math 25th percentile) column:')\n",
    "sc_satmt25_na = pd.isnull(sc.SATMT25)\n",
    "print(f'scorecard has {sum(~sc_satmt25_na)} actual values and {sum(sc_satmt25_na)} missing values for the SATMT25 (SAT math 25th percentile) column:')"
   ]
  },
  {
   "cell_type": "code",
   "execution_count": 7,
   "id": "c7689303",
   "metadata": {
    "scrolled": true
   },
   "outputs": [
    {
     "name": "stdout",
     "output_type": "stream",
     "text": [
      "ipeds has 1 values for SATMT25 that scorecard doesn't have:\n",
      "scorecard has 0 values for SATMT25 that ipeds doesn't have:\n"
     ]
    }
   ],
   "source": [
    "print(f'ipeds has {sum(~ipeds_satmt25_na & sc_satmt25_na)} values for SATMT25 that scorecard doesn\\'t have:')\n",
    "print(f'scorecard has {sum(ipeds_satmt25_na & ~sc_satmt25_na)} values for SATMT25 that ipeds doesn\\'t have:')"
   ]
  },
  {
   "cell_type": "markdown",
   "id": "b7967beb",
   "metadata": {},
   "source": [
    "### Comparison of missing data for all shared rows between Scorecard and the HD/ADM IPEDS datasets"
   ]
  },
  {
   "cell_type": "code",
   "execution_count": 9,
   "id": "2d325918",
   "metadata": {},
   "outputs": [
    {
     "name": "stdout",
     "output_type": "stream",
     "text": [
      "column: CONTROL\n",
      "IPEDS: 6559 actual values, with 0 missing\n",
      "Scorecard: 6694 actual values, with 0 missing\n",
      "-------------------------------------------\n",
      "column: ACTMT75\n",
      "IPEDS: 1171 actual values, with 840 missing\n",
      "Scorecard: 1170 actual values, with 5524 missing\n",
      "-------------------------------------------\n",
      "column: SATMT75\n",
      "IPEDS: 1220 actual values, with 791 missing\n",
      "Scorecard: 1218 actual values, with 5476 missing\n",
      "-------------------------------------------\n",
      "column: SATVR75\n",
      "IPEDS: 1220 actual values, with 791 missing\n",
      "Scorecard: 1218 actual values, with 5476 missing\n",
      "-------------------------------------------\n",
      "column: ACTCM25\n",
      "IPEDS: 1254 actual values, with 757 missing\n",
      "Scorecard: 1252 actual values, with 5442 missing\n",
      "-------------------------------------------\n",
      "column: ACTEN25\n",
      "IPEDS: 1171 actual values, with 840 missing\n",
      "Scorecard: 1170 actual values, with 5524 missing\n",
      "-------------------------------------------\n",
      "column: ICLEVEL\n",
      "IPEDS: 6559 actual values, with 0 missing\n",
      "Scorecard: 6694 actual values, with 0 missing\n",
      "-------------------------------------------\n",
      "column: LOCALE\n",
      "IPEDS: 6559 actual values, with 0 missing\n",
      "Scorecard: 6189 actual values, with 505 missing\n",
      "-------------------------------------------\n",
      "column: SATMT25\n",
      "IPEDS: 1220 actual values, with 791 missing\n",
      "Scorecard: 1218 actual values, with 5476 missing\n",
      "-------------------------------------------\n",
      "column: INSTNM\n",
      "IPEDS: 6559 actual values, with 0 missing\n",
      "Scorecard: 6694 actual values, with 0 missing\n",
      "-------------------------------------------\n",
      "column: OPEFLAG\n",
      "IPEDS: 6559 actual values, with 0 missing\n",
      "Scorecard: 6694 actual values, with 0 missing\n",
      "-------------------------------------------\n",
      "column: STABBR\n",
      "IPEDS: 6559 actual values, with 0 missing\n",
      "Scorecard: 6694 actual values, with 0 missing\n",
      "-------------------------------------------\n",
      "column: OPEID\n",
      "IPEDS: 6559 actual values, with 0 missing\n",
      "Scorecard: 6694 actual values, with 0 missing\n",
      "-------------------------------------------\n",
      "column: ZIP\n",
      "IPEDS: 6559 actual values, with 0 missing\n",
      "Scorecard: 6694 actual values, with 0 missing\n",
      "-------------------------------------------\n",
      "column: ACTCM75\n",
      "IPEDS: 1254 actual values, with 757 missing\n",
      "Scorecard: 1252 actual values, with 5442 missing\n",
      "-------------------------------------------\n",
      "column: ADMCON7\n",
      "IPEDS: 2011 actual values, with 0 missing\n",
      "Scorecard: 2005 actual values, with 4689 missing\n",
      "-------------------------------------------\n",
      "column: ACTMT25\n",
      "IPEDS: 1171 actual values, with 840 missing\n",
      "Scorecard: 1170 actual values, with 5524 missing\n",
      "-------------------------------------------\n",
      "column: CITY\n",
      "IPEDS: 6559 actual values, with 0 missing\n",
      "Scorecard: 6694 actual values, with 0 missing\n",
      "-------------------------------------------\n",
      "column: SATVR25\n",
      "IPEDS: 1220 actual values, with 791 missing\n",
      "Scorecard: 1218 actual values, with 5476 missing\n",
      "-------------------------------------------\n",
      "column: ACTEN75\n",
      "IPEDS: 1171 actual values, with 840 missing\n",
      "Scorecard: 1170 actual values, with 5524 missing\n",
      "-------------------------------------------\n",
      "column: LATITUDE\n",
      "IPEDS: 6559 actual values, with 0 missing\n",
      "Scorecard: 6189 actual values, with 505 missing\n",
      "-------------------------------------------\n",
      "column: CCBASIC\n",
      "IPEDS: 6559 actual values, with 0 missing\n",
      "Scorecard: 6189 actual values, with 505 missing\n",
      "-------------------------------------------\n",
      "column: TRIBAL\n",
      "IPEDS: 6559 actual values, with 0 missing\n",
      "Scorecard: 6186 actual values, with 508 missing\n",
      "-------------------------------------------\n",
      "column: HBCU\n",
      "IPEDS: 6559 actual values, with 0 missing\n",
      "Scorecard: 6186 actual values, with 508 missing\n",
      "-------------------------------------------\n"
     ]
    }
   ],
   "source": [
    "ipeds_hd_adm_cols = set(ipeds_hd.columns).union(set(ipeds_adm.columns))\n",
    "sc_cols = set(sc.columns)\n",
    "shared_columns = ipeds_hd_adm_cols.intersection(sc_cols)\n",
    "for col in shared_columns:\n",
    "    print(f'column: {col}')\n",
    "    ipeds_col = ipeds_hd.loc[:, col] if col in ipeds_hd.columns else ipeds_adm.loc[:, col]\n",
    "    n1 = len(ipeds_col)\n",
    "    n2 = sum(pd.isnull(ipeds_col))\n",
    "    n3 = sc.shape[0]\n",
    "    n4 = sum(pd.isnull(sc.loc[:, col]))\n",
    "    print(f'IPEDS: {n1-n2} actual values, with {n2} missing')\n",
    "    print(f'Scorecard: {n3-n4} actual values, with {n4} missing')\n",
    "    print('-------------------------------------------')"
   ]
  },
  {
   "cell_type": "code",
   "execution_count": null,
   "id": "3ee60f98",
   "metadata": {},
   "outputs": [],
   "source": []
  }
 ],
 "metadata": {
  "kernelspec": {
   "display_name": "Python 3 (ipykernel)",
   "language": "python",
   "name": "python3"
  },
  "language_info": {
   "codemirror_mode": {
    "name": "ipython",
    "version": 3
   },
   "file_extension": ".py",
   "mimetype": "text/x-python",
   "name": "python",
   "nbconvert_exporter": "python",
   "pygments_lexer": "ipython3",
   "version": "3.9.7"
  }
 },
 "nbformat": 4,
 "nbformat_minor": 5
}
